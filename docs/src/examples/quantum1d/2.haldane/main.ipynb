{
 "cells": [
  {
   "cell_type": "markdown",
   "source": [
    "# The Haldane gap\n",
    "\n",
    "In this tutorial we will calculate the Haldane gap (the energy gap in the $S = 1$ Heisenberg model) in two different ways.\n",
    "To follow the tutorial you need the following packages:"
   ],
   "metadata": {}
  },
  {
   "outputs": [],
   "cell_type": "code",
   "source": [
    "using MPSKit, MPSKitModels, TensorKit, Plots, Polynomials"
   ],
   "metadata": {},
   "execution_count": null
  },
  {
   "cell_type": "markdown",
   "source": [
    "The Heisenberg model is defined by the following hamiltonian:\n",
    "\n",
    "$$\n",
    "H = -J∑_{⟨i,j⟩} (X_i X_j + Y_i Y_j + Z_i Z_j)\n",
    "$$\n",
    "\n",
    "This hamiltonian has an SU(2) symmetry, which we can enforce by using SU(2)-symmetric tensors:"
   ],
   "metadata": {}
  },
  {
   "outputs": [],
   "cell_type": "code",
   "source": [
    "H = heisenberg_XXX(ComplexF64, SU2Irrep; spin=1, J=1);"
   ],
   "metadata": {},
   "execution_count": null
  },
  {
   "cell_type": "markdown",
   "source": [
    "## Finite size extrapolation\n",
    "\n",
    "We can start the analysis using finite-size methods.\n",
    "The groundstate of this model can be approximated using finite MPS through the use of DMRG.\n",
    "\n",
    "The typical way to find excited states is to minimize the energy while adding an error term\n",
    "$$λ \\left|gs\\right> \\left< gs\\right|$$\n",
    "Here we will instead use the [quasiparticle ansatz](https://journals.aps.org/prl/abstract/10.1103/PhysRevLett.111.080401).\n",
    "\n",
    "In Steven White's original DMRG paper it was remarked that the $S = 1$ excitations correspond to edge states, and that one should define the Haldane gap as the difference in energy between the $S = 2$ and $S = 1$ states.\n",
    "This can be done as follows."
   ],
   "metadata": {}
  },
  {
   "outputs": [],
   "cell_type": "code",
   "source": [
    "L = 10\n",
    "physical_space = SU2Space(1 => 1)\n",
    "virtual_space = SU2Space(0 => 12, 1 => 12, 2 => 5, 3 => 3)\n",
    "ψ₀ = FiniteMPS(rand, ComplexF64, L, physical_space, virtual_space)\n",
    "ψ, envs, delta = find_groundstate(ψ₀, H, DMRG(; verbose=false))\n",
    "E₀ = real.(expectation_value(ψ, H))\n",
    "En_1, st_1 = excitations(H, QuasiparticleAnsatz(), ψ, envs; sector=SU2Irrep(1))\n",
    "En_2, st_2 = excitations(H, QuasiparticleAnsatz(), ψ, envs; sector=SU2Irrep(2))\n",
    "ΔE_finite = real(En_2[1] - En_1[1])"
   ],
   "metadata": {},
   "execution_count": null
  },
  {
   "cell_type": "markdown",
   "source": [
    "We can go even further and doublecheck the claim that $S = 1$ is an edge excitation, by plotting the energy density."
   ],
   "metadata": {}
  },
  {
   "outputs": [],
   "cell_type": "code",
   "source": [
    "p_density = plot(; xaxis=\"position\", yaxis=\"energy density\")\n",
    "excited_1 = convert(FiniteMPS, st_1[1])\n",
    "excited_2 = convert(FiniteMPS, st_2[1])\n",
    "plot!(p_density, real.(expectation_value(excited_1, H) .- E₀) ./ L; label=\"S = 1\")\n",
    "plot!(p_density, real.(expectation_value(excited_2, H) .- E₀) ./ L; label=\"S = 2\")"
   ],
   "metadata": {},
   "execution_count": null
  },
  {
   "cell_type": "markdown",
   "source": [
    "Finally, we can obtain a value for the Haldane gap by extrapolating our results for different system sizes."
   ],
   "metadata": {}
  },
  {
   "outputs": [],
   "cell_type": "code",
   "source": [
    "Ls = 12:4:30\n",
    "ΔEs = map(Ls) do L\n",
    "    @info \"computing L = $L\"\n",
    "    ψ₀ = FiniteMPS(rand, ComplexF64, L, physical_space, virtual_space)\n",
    "    ψ, envs, delta = find_groundstate(ψ₀, H, DMRG(; verbose=false))\n",
    "    En_1, st_1 = excitations(H, QuasiparticleAnsatz(), ψ, envs; sector=SU2Irrep(1))\n",
    "    En_2, st_2 = excitations(H, QuasiparticleAnsatz(), ψ, envs; sector=SU2Irrep(2))\n",
    "    return real(En_2[1] - En_1[1])\n",
    "end\n",
    "\n",
    "f = fit(Ls .^ (-2), ΔEs, 1)\n",
    "ΔE_extrapolated = f.coeffs[1]\n",
    "p_size_extrapolation = plot(; xaxis=\"L^(-2)\", yaxis=\"ΔE\", xlims=(0, 0.015))\n",
    "plot!(p_size_extrapolation, Ls .^ (-2), ΔEs; seriestype=:scatter, label=\"numerical\")\n",
    "plot!(p_size_extrapolation, x -> f(x); label=\"fit\")"
   ],
   "metadata": {},
   "execution_count": null
  },
  {
   "cell_type": "markdown",
   "source": [
    "## Thermodynamic limit\n",
    "\n",
    "A much nicer way of obtaining the Haldane gap is by working directly in the thermodynamic limit.\n",
    "As was already hinted at by the edge modes, this model is in a non-trivial SPT phase.\n",
    "Thus, care must be taken when selecting the symmetry sectors.\n",
    "The groundstate has half-integer edge modes, thus the virtual spaces must also all carry half-integer charges.\n",
    "\n",
    "In contrast with the finite size case, we now should specify a momentum label to the excitations.\n",
    "This way, it is possible to scan the dispersion relation over the entire momentum space."
   ],
   "metadata": {}
  },
  {
   "outputs": [],
   "cell_type": "code",
   "source": [
    "virtual_space_inf = Rep[SU₂](1//2 => 16, 3//2 => 16, 5//2 => 8, 7//2 => 4)\n",
    "ψ₀_inf = InfiniteMPS([physical_space], [virtual_space_inf])\n",
    "ψ_inf, envs_inf, delta_inf = find_groundstate(ψ₀_inf, H)\n",
    "\n",
    "kspace = range(0, π, 16)\n",
    "Es, _ = excitations(H, QuasiparticleAnsatz(), kspace, ψ_inf, envs_inf; sector=SU2Irrep(1))\n",
    "\n",
    "ΔE, idx = findmin(real.(Es))\n",
    "println(\"minimum @k = $(kspace[idx]):\\t ΔE = $(ΔE)\")\n",
    "plot(kspace, real.(Es); xaxis=\"momentum\", yaxis=\"ΔE\", label=\"S = 1\")"
   ],
   "metadata": {},
   "execution_count": null
  },
  {
   "cell_type": "markdown",
   "source": [
    "---\n",
    "\n",
    "*This notebook was generated using [Literate.jl](https://github.com/fredrikekre/Literate.jl).*"
   ],
   "metadata": {}
  }
 ],
 "nbformat_minor": 3,
 "metadata": {
  "language_info": {
   "file_extension": ".jl",
   "mimetype": "application/julia",
   "name": "julia",
   "version": "1.9.4"
  },
  "kernelspec": {
   "name": "julia-1.9",
   "display_name": "Julia 1.9.4",
   "language": "julia"
  }
 },
 "nbformat": 4
}
