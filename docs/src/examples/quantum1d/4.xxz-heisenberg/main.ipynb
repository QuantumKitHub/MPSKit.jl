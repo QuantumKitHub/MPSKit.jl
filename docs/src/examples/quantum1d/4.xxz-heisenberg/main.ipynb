{
 "cells": [
  {
   "cell_type": "markdown",
   "source": [
    "# The XXZ model\n",
    "\n",
    "In this file we will give step by step instructions on how to analyze the spin 1/2 XXZ model.\n",
    "The necessary packages to follow this tutorial are:"
   ],
   "metadata": {}
  },
  {
   "outputs": [],
   "cell_type": "code",
   "source": [
    "using MPSKit, MPSKitModels, TensorKit, Plots"
   ],
   "metadata": {},
   "execution_count": null
  },
  {
   "cell_type": "markdown",
   "source": [
    "## Failure\n",
    "\n",
    "First we should define the hamiltonian we want to work with.\n",
    "Then we specify an initial guess, which we then further optimize.\n",
    "Working directly in the thermodynamic limit, this is achieved as follows:"
   ],
   "metadata": {}
  },
  {
   "outputs": [],
   "cell_type": "code",
   "source": [
    "H = heisenberg_XXX(; spin=1 // 2);"
   ],
   "metadata": {},
   "execution_count": null
  },
  {
   "cell_type": "markdown",
   "source": [
    "We then need an intial state, which we shall later optimize. In this example we work directly in the thermodynamic limit."
   ],
   "metadata": {}
  },
  {
   "outputs": [],
   "cell_type": "code",
   "source": [
    "random_data = TensorMap(rand, ComplexF64, ℂ^20 * ℂ^2, ℂ^20);\n",
    "state = InfiniteMPS([random_data]);"
   ],
   "metadata": {},
   "execution_count": null
  },
  {
   "cell_type": "markdown",
   "source": [
    "The groundstate can then be found by calling `find_groundstate`."
   ],
   "metadata": {}
  },
  {
   "outputs": [],
   "cell_type": "code",
   "source": [
    "groundstate, cache, delta = find_groundstate(state, H, VUMPS());"
   ],
   "metadata": {},
   "execution_count": null
  },
  {
   "cell_type": "markdown",
   "source": [
    "As you can see, VUMPS struggles to converge.\n",
    "On it's own, that is already quite curious.\n",
    "Maybe we can do better using another algorithm, such as gradient descent."
   ],
   "metadata": {}
  },
  {
   "outputs": [],
   "cell_type": "code",
   "source": [
    "groundstate, cache, delta = find_groundstate(state, H, GradientGrassmann(; maxiter=20));"
   ],
   "metadata": {},
   "execution_count": null
  },
  {
   "cell_type": "markdown",
   "source": [
    "Convergence is quite slow and even fails after sufficiently many iterations.\n",
    "To understand why, we can look at the transfer matrix spectrum."
   ],
   "metadata": {}
  },
  {
   "outputs": [],
   "cell_type": "code",
   "source": [
    "transferplot(groundstate, groundstate)"
   ],
   "metadata": {},
   "execution_count": null
  },
  {
   "cell_type": "markdown",
   "source": [
    "We can clearly see multiple eigenvalues close to the unit circle.\n",
    "Our state is close to being non-injective, and represents the sum of multiple injective states.\n",
    "This is numerically very problematic, but also indicates that we used an incorrect ansatz to approximate the groundstate.\n",
    "We should retry with a larger unit cell."
   ],
   "metadata": {}
  },
  {
   "cell_type": "markdown",
   "source": [
    "## Success\n",
    "\n",
    "Let's initialize a different initial state, this time with a 2-site unit cell:"
   ],
   "metadata": {}
  },
  {
   "outputs": [],
   "cell_type": "code",
   "source": [
    "A = TensorMap(rand, ComplexF64, ℂ^20 * ℂ^2, ℂ^20);\n",
    "B = TensorMap(rand, ComplexF64, ℂ^20 * ℂ^2, ℂ^20);\n",
    "state = InfiniteMPS([A, B]);"
   ],
   "metadata": {},
   "execution_count": null
  },
  {
   "cell_type": "markdown",
   "source": [
    "In MPSKit, we require that the periodicity of the hamiltonian equals that of the state it is applied to.\n",
    "This is not a big obstacle, you can simply repeat the original hamiltonian.\n",
    "Alternatively, the hamiltonian can be constructed directly on a two-site unitcell by making use of MPSKitModels.jl's `@mpoham`."
   ],
   "metadata": {}
  },
  {
   "outputs": [],
   "cell_type": "code",
   "source": [
    "# H2 = repeat(H, 2); -- copies the one-site version\n",
    "H2 = heisenberg_XXX(ComplexF64, Trivial, InfiniteChain(2); spin=1 // 2)\n",
    "groundstate, cache, delta = find_groundstate(state, H2,\n",
    "                                             VUMPS(; maxiter=100, tol=1e-12));"
   ],
   "metadata": {},
   "execution_count": null
  },
  {
   "cell_type": "markdown",
   "source": [
    "We get convergence, but it takes an enormous amount of iterations.\n",
    "The reason behind this becomes more obvious at higher bond dimensions:"
   ],
   "metadata": {}
  },
  {
   "outputs": [],
   "cell_type": "code",
   "source": [
    "groundstate, cache, delta = find_groundstate(state, H2,\n",
    "                                             IDMRG2(; trscheme=truncdim(50), maxiter=20,\n",
    "                                                    tol=1e-12))\n",
    "entanglementplot(groundstate)"
   ],
   "metadata": {},
   "execution_count": null
  },
  {
   "cell_type": "markdown",
   "source": [
    "We see that some eigenvalues clearly belong to a group, and are almost degenerate.\n",
    "This implies 2 things:\n",
    "- there is superfluous information, if those eigenvalues are the same anyway\n",
    "- poor convergence if we cut off within such a subspace\n",
    "\n",
    "It are precisely those problems that we can solve by using symmetries."
   ],
   "metadata": {}
  },
  {
   "cell_type": "markdown",
   "source": [
    "## Symmetries\n",
    "\n",
    "The XXZ Heisenberg hamiltonian is SU(2) symmetric and we can exploit this to greatly speed up the simulation.\n",
    "\n",
    "It is cumbersome to construct symmetric hamiltonians, but luckily su(2) symmetric XXZ is already implemented:"
   ],
   "metadata": {}
  },
  {
   "outputs": [],
   "cell_type": "code",
   "source": [
    "H2 = heisenberg_XXX(ComplexF64, SU2Irrep, InfiniteChain(2); spin=1 // 2);"
   ],
   "metadata": {},
   "execution_count": null
  },
  {
   "cell_type": "markdown",
   "source": [
    "Our initial state should also be SU(2) symmetric.\n",
    "It now becomes apparent why we have to use a two-site periodic state.\n",
    "The physical space carries a half-integer charge and the first tensor maps the first `virtual_space ⊗ the physical_space` to the second `virtual_space`.\n",
    "Half-integer virtual charges will therefore map only to integer charges, and vice versa.\n",
    "The staggering thus happens on the virtual level.\n",
    "\n",
    "An alternative constructor for the initial state is"
   ],
   "metadata": {}
  },
  {
   "outputs": [],
   "cell_type": "code",
   "source": [
    "P = Rep[SU₂](1 // 2 => 1)\n",
    "V1 = Rep[SU₂](1 // 2 => 10, 3 // 2 => 5, 5 // 2 => 2)\n",
    "V2 = Rep[SU₂](0 => 15, 1 => 10, 2 => 5)\n",
    "state = InfiniteMPS([P, P], [V1, V2]);"
   ],
   "metadata": {},
   "execution_count": null
  },
  {
   "cell_type": "markdown",
   "source": [
    "Even though the bond dimension is higher than in the example without symmetry, convergence is reached much faster:"
   ],
   "metadata": {}
  },
  {
   "outputs": [],
   "cell_type": "code",
   "source": [
    "println(dim(V1))\n",
    "println(dim(V2))\n",
    "groundstate, cache, delta = find_groundstate(state, H2,\n",
    "                                             VUMPS(; maxiter=400, tol=1e-12));"
   ],
   "metadata": {},
   "execution_count": null
  },
  {
   "cell_type": "markdown",
   "source": [
    "---\n",
    "\n",
    "*This notebook was generated using [Literate.jl](https://github.com/fredrikekre/Literate.jl).*"
   ],
   "metadata": {}
  }
 ],
 "nbformat_minor": 3,
 "metadata": {
  "language_info": {
   "file_extension": ".jl",
   "mimetype": "application/julia",
   "name": "julia",
   "version": "1.10.1"
  },
  "kernelspec": {
   "name": "julia-1.10",
   "display_name": "Julia 1.10.1",
   "language": "julia"
  }
 },
 "nbformat": 4
}
