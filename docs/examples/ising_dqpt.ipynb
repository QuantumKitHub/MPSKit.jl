{
 "cells": [
  {
   "attachments": {},
   "cell_type": "markdown",
   "metadata": {},
   "source": [
    "# DQPT in the Ising model(@id demo_dqpt)\n",
    "\n",
    "In this tutorial we will try to reproduce the results from [this paper](https://arxiv.org/pdf/1206.2505.pdf).\n",
    "The needed packages are"
   ]
  },
  {
   "cell_type": "code",
   "execution_count": null,
   "metadata": {},
   "outputs": [],
   "source": [
    "using MPSKit\n",
    "using MPSKitModels\n",
    "using TensorKit"
   ]
  },
  {
   "attachments": {},
   "cell_type": "markdown",
   "metadata": {},
   "source": [
    "Dynamical quantum phase transitions (DQPT in short) are signatures of equilibrium phase transitions in a dynamical quantity - the loschmidth echo.\n",
    "This quantity is given by ``L(t) = \\frac{-2}{N} ln(| < \\psi(t) | \\psi(0) > |) `` where ``N`` is the system size.\n",
    "One typically starts from a groundstate and then quenches the hamiltonian to a different point.\n",
    "Non analycities in the loschmidth echo are called 'dynamical quantum phase transitions'.\n",
    "\n",
    "In the mentioned paper they work with\n",
    "\n",
    "``H(g) = - \\sum^{N-1}_{i=1} \\sigma^z_i \\sigma^z_{i+1} + g \\sum_{i=1}^N \\sigma^x_i``\n",
    "\n",
    "and show that divergences occur when quenching across the critical point (g₀ → g₁) for ``t^*_n = t^*(n+\\frac{1}{2})`` with ``t^* = \\pi/e(g_1,k^*)``, ``cos(k^*) = (1+g_0 g_1) / (g_0 + g_1)``, `` e(g,k) = \\sqrt{(g-cos k)^2 + sin^2 k}``.\n",
    "\n",
    "The outline of the tutorial is as follows. We will pick ``g₀ = 0.5``, ``g₁ = 2.0``, and perform the time evolution at different system sizes and compare with the thermodynamic limit.\n",
    "For those ``g`` we expect non-analicities to occur at ``t_n ≈ 2.35 (n + 1/2)``.\n",
    "\n",
    "First we construct the hamiltonian in mpo form, and obtain the pre-quenched groundstate:"
   ]
  },
  {
   "cell_type": "code",
   "execution_count": null,
   "metadata": {},
   "outputs": [],
   "source": [
    "H₀ = transverse_field_ising(; hx=-0.5)\n",
    "\n",
    "L = 20\n",
    "ψ₀ = FiniteMPS(rand, ComplexF64, L, ℂ^2, ℂ^10)\n",
    "ψ₀, _ = find_groundstate(ψ₀, H₀, DMRG());"
   ]
  },
  {
   "attachments": {},
   "cell_type": "markdown",
   "metadata": {},
   "source": [
    "## Finite MPS quenching\n",
    "\n",
    "We can define a helper function that measures the loschmith echo"
   ]
  },
  {
   "cell_type": "code",
   "execution_count": null,
   "metadata": {},
   "outputs": [],
   "source": [
    "echo(ψ₀::FiniteMPS, ψₜ::FiniteMPS) = -2 * log(abs(dot(ψ₀, ψₜ))) / length(ψ₀)\n",
    "@assert isapprox(echo(ψ₀, ψ₀), 0, atol=1e-10)"
   ]
  },
  {
   "attachments": {},
   "cell_type": "markdown",
   "metadata": {},
   "source": [
    "We will initially use a two-site TDVP scheme to dynamically increase the bond dimension while time evolving, and later on switch to a faster one-site scheme. A single timestep can be done using"
   ]
  },
  {
   "cell_type": "code",
   "execution_count": null,
   "metadata": {},
   "outputs": [],
   "source": [
    "H₁ = transverse_field_ising(; hx=-2.0)\n",
    "ψₜ = deepcopy(ψ₀)\n",
    "dt = 0.01\n",
    "ψₜ, envs = timestep(ψₜ, H₁, dt, TDVP2(trscheme=truncdim(20)));"
   ]
  },
  {
   "attachments": {},
   "cell_type": "markdown",
   "metadata": {},
   "source": [
    "\"envs\" is a kind of cache object that keeps track of all environments in `ψ`. It is often advantageous to re-use the environment, so that mpskit doesn't need to recalculate everything.\n",
    "\n",
    "Putting it all together, we get"
   ]
  },
  {
   "cell_type": "code",
   "execution_count": null,
   "metadata": {},
   "outputs": [],
   "source": [
    "function finite_sim(L; dt=0.05, finaltime=5.0)\n",
    "    ψ₀ = FiniteMPS(rand, ComplexF64, L, ℂ^2, ℂ^10)\n",
    "    ψ₀, _ = find_groundstate(ψ₀, H₀, DMRG())\n",
    "\n",
    "    ψₜ = deepcopy(ψ₀)\n",
    "    envs = environments(ψₜ, H₁)\n",
    "\n",
    "    echos = [echo(ψₜ, ψ₀)]\n",
    "    times = collect(0:dt:finaltime)\n",
    "\n",
    "    for t = times[2:end]\n",
    "        alg = t > 3 * dt ? TDVP() : TDVP2(trscheme=truncdim(50))\n",
    "        ψₜ, envs = timestep(ψₜ, H₁, dt, alg, envs)\n",
    "        push!(echos, echo(ψₜ, ψ₀))\n",
    "    end\n",
    "\n",
    "    return times, echos\n",
    "end"
   ]
  },
  {
   "attachments": {},
   "cell_type": "markdown",
   "metadata": {},
   "source": [
    "![](assets/finite_timeev.png)"
   ]
  },
  {
   "attachments": {},
   "cell_type": "markdown",
   "metadata": {},
   "source": [
    "## Infinite MPS quenching\n",
    "\n",
    "Similarly we could start with an initial infinite state and find the pre-quench groundstate:"
   ]
  },
  {
   "cell_type": "code",
   "execution_count": null,
   "metadata": {},
   "outputs": [],
   "source": [
    "ψ₀ = InfiniteMPS([ℂ^2], [ℂ^10])\n",
    "ψ₀, _ = find_groundstate(ψ₀, H₀, VUMPS());"
   ]
  },
  {
   "attachments": {},
   "cell_type": "markdown",
   "metadata": {},
   "source": [
    "The dot product of two infinite matrix product states scales as  ``\\alpha ^N`` where ``α`` is the dominant eigenvalue of the transfer matrix.\n",
    "It is this ``α`` that is returned when calling"
   ]
  },
  {
   "cell_type": "code",
   "execution_count": null,
   "metadata": {},
   "outputs": [],
   "source": [
    "dot(ψ₀, ψ₀)"
   ]
  },
  {
   "attachments": {},
   "cell_type": "markdown",
   "metadata": {},
   "source": [
    "so the loschmidth echo takes on the pleasant form"
   ]
  },
  {
   "cell_type": "code",
   "execution_count": null,
   "metadata": {},
   "outputs": [],
   "source": [
    "echo(ψ₀::InfiniteMPS, ψₜ::InfiniteMPS) = -2 * log(abs(dot(ψ₀, ψₜ)))\n",
    "@assert isapprox(echo(ψ₀, ψ₀), 0, atol=1e-10)"
   ]
  },
  {
   "attachments": {},
   "cell_type": "markdown",
   "metadata": {},
   "source": [
    "This time we cannot use a two-site scheme to grow the bond dimension, as this isn't implemented (yet).\n",
    "Instead, we have to make use of the changebonds machinery.\n",
    "Multiple algorithms are available, but we will only focus on `OptimalEpand()`.\n",
    "Growing the bond dimension by ``5`` can be done by calling:"
   ]
  },
  {
   "cell_type": "code",
   "execution_count": null,
   "metadata": {},
   "outputs": [],
   "source": [
    "ψₜ = deepcopy(ψ₀)\n",
    "ψₜ, envs = changebonds(ψₜ, H₁, OptimalExpand(trscheme=truncdim(5)));"
   ]
  },
  {
   "attachments": {},
   "cell_type": "markdown",
   "metadata": {},
   "source": [
    "a single timestep is easy"
   ]
  },
  {
   "cell_type": "code",
   "execution_count": null,
   "metadata": {},
   "outputs": [],
   "source": [
    "dt = 0.01\n",
    "ψₜ, envs = timestep(ψₜ, H₁, dt, TDVP(), envs);"
   ]
  },
  {
   "attachments": {},
   "cell_type": "markdown",
   "metadata": {},
   "source": [
    "With performance in mind we should once again try to re-use these \"envs\" cache objects.\n",
    "The final code is"
   ]
  },
  {
   "cell_type": "code",
   "execution_count": null,
   "metadata": {},
   "outputs": [],
   "source": [
    "function infinite_sim(dt=0.05, finaltime=5.0)\n",
    "    ψ₀ = InfiniteMPS([ℂ^2], [ℂ^10])\n",
    "    ψ₀, _ = find_groundstate(ψ₀, H₀, VUMPS())\n",
    "\n",
    "    ψₜ = deepcopy(ψ₀)\n",
    "    envs = environments(ψₜ, H₁)\n",
    "\n",
    "    echos = [echo(ψₜ, ψ₀)]\n",
    "    times = collect(0:dt:finaltime)\n",
    "\n",
    "    for t = times[2:end]\n",
    "        if t < 50dt # if t is sufficiently small, we increase the bond dimension\n",
    "            ψₜ, envs = changebonds(ψₜ, H₁, OptimalExpand(trscheme=truncdim(1)), envs)\n",
    "        end\n",
    "        (ψₜ, envs) = timestep(ψₜ, H₁, dt, TDVP(), envs)\n",
    "        push!(echos, echo(ψₜ, ψ₀))\n",
    "    end\n",
    "\n",
    "    return times, echos\n",
    "end"
   ]
  },
  {
   "attachments": {},
   "cell_type": "markdown",
   "metadata": {},
   "source": [
    "![](assets/infinite_timeev.png)"
   ]
  }
 ],
 "metadata": {
  "kernelspec": {
   "display_name": "Julia 1.9.0",
   "language": "julia",
   "name": "julia-1.9"
  },
  "language_info": {
   "file_extension": ".jl",
   "mimetype": "application/julia",
   "name": "julia",
   "version": "1.9.0"
  },
  "orig_nbformat": 4
 },
 "nbformat": 4,
 "nbformat_minor": 2
}
