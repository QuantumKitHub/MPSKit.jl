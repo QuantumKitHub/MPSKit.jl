{
 "cells": [
  {
   "attachments": {},
   "cell_type": "markdown",
   "metadata": {},
   "source": [
    "# The XXZ model\n",
    "\n",
    "In this file we will give step by step instructions on how to analyze the spin 1/2 XXZ model.\n",
    "The necessary packages to follow this tutorial are:"
   ]
  },
  {
   "cell_type": "code",
   "execution_count": 1,
   "metadata": {},
   "outputs": [],
   "source": [
    "using MPSKit, MPSKitModels, TensorKit, Plots\n",
    "import TensorOperations; TensorOperations.disable_cache(); # hide"
   ]
  },
  {
   "attachments": {},
   "cell_type": "markdown",
   "metadata": {},
   "source": [
    "## Failure\n",
    "\n",
    "First we should define the hamiltonian we want to work with.\n",
    "Then we specify an initial guess, which we then further optimize.\n",
    "Working directly in the thermodynamic limit, this is achieved as follows:"
   ]
  },
  {
   "cell_type": "code",
   "execution_count": 2,
   "metadata": {},
   "outputs": [
    {
     "data": {
      "text/plain": [
       "MPOHamiltonian{ComplexSpace, TensorMap{ComplexSpace, 2, 2, Trivial, Matrix{ComplexF64}, Nothing, Nothing}, ComplexF64}(MPSKit.SparseMPOSlice{ComplexSpace, TensorMap{ComplexSpace, 2, 2, Trivial, Matrix{ComplexF64}, Nothing, Nothing}, ComplexF64}[[TensorMap((ℂ^1 ⊗ ℂ^2) ← (ℂ^2 ⊗ ℂ^1)):\n",
       "[:, :, 1, 1] =\n",
       " 1.0 + 0.0im  0.0 + 0.0im\n",
       "\n",
       "[:, :, 2, 1] =\n",
       " 0.0 + 0.0im  1.0 + 0.0im\n",
       " TensorMap((ℂ^1 ⊗ ℂ^2) ← (ℂ^2 ⊗ ℂ^1)):\n",
       "[:, :, 1, 1] =\n",
       " 0.0 + 0.0im  -0.35355339059327373 + 0.0im\n",
       "\n",
       "[:, :, 2, 1] =\n",
       " -0.3535533905932736 + 0.0im  0.0 + 0.0im\n",
       " … TensorMap((ℂ^1 ⊗ ℂ^2) ← (ℂ^2 ⊗ ℂ^1)):\n",
       "[:, :, 1, 1] =\n",
       " -0.3535533905932736 + 0.0im  0.0 + 0.0im\n",
       "\n",
       "[:, :, 2, 1] =\n",
       " 0.0 + 0.0im  0.35355339059327373 + 0.0im\n",
       " TensorMap((ℂ^1 ⊗ ℂ^2) ← (ℂ^2 ⊗ ℂ^1)):\n",
       "[:, :, 1, 1] =\n",
       " 0.0 + 0.0im  0.0 + 0.0im\n",
       "\n",
       "[:, :, 2, 1] =\n",
       " 0.0 + 0.0im  0.0 + 0.0im\n",
       "; TensorMap((ℂ^1 ⊗ ℂ^2) ← (ℂ^2 ⊗ ℂ^1)):\n",
       "[:, :, 1, 1] =\n",
       " 0.0 + 0.0im  0.0 + 0.0im\n",
       "\n",
       "[:, :, 2, 1] =\n",
       " 0.0 + 0.0im  0.0 + 0.0im\n",
       " TensorMap((ℂ^1 ⊗ ℂ^2) ← (ℂ^2 ⊗ ℂ^1)):\n",
       "[:, :, 1, 1] =\n",
       " 0.0 + 0.0im  0.0 + 0.0im\n",
       "\n",
       "[:, :, 2, 1] =\n",
       " 0.0 + 0.0im  0.0 + 0.0im\n",
       " … TensorMap((ℂ^1 ⊗ ℂ^2) ← (ℂ^2 ⊗ ℂ^1)):\n",
       "[:, :, 1, 1] =\n",
       " 0.0 + 0.0im  0.0 + 0.0im\n",
       "\n",
       "[:, :, 2, 1] =\n",
       " 0.0 + 0.0im  0.0 + 0.0im\n",
       " TensorMap((ℂ^1 ⊗ ℂ^2) ← (ℂ^2 ⊗ ℂ^1)):\n",
       "[:, :, 1, 1] =\n",
       " -0.0 + 0.0im  -0.7071067811865475 + 0.0im\n",
       "\n",
       "[:, :, 2, 1] =\n",
       " -0.7071067811865476 + 0.0im  -0.0 + 0.0im\n",
       "; … ; TensorMap((ℂ^1 ⊗ ℂ^2) ← (ℂ^2 ⊗ ℂ^1)):\n",
       "[:, :, 1, 1] =\n",
       " 0.0 + 0.0im  0.0 + 0.0im\n",
       "\n",
       "[:, :, 2, 1] =\n",
       " 0.0 + 0.0im  0.0 + 0.0im\n",
       " TensorMap((ℂ^1 ⊗ ℂ^2) ← (ℂ^2 ⊗ ℂ^1)):\n",
       "[:, :, 1, 1] =\n",
       " 0.0 + 0.0im  0.0 + 0.0im\n",
       "\n",
       "[:, :, 2, 1] =\n",
       " 0.0 + 0.0im  0.0 + 0.0im\n",
       " … TensorMap((ℂ^1 ⊗ ℂ^2) ← (ℂ^2 ⊗ ℂ^1)):\n",
       "[:, :, 1, 1] =\n",
       " 0.0 + 0.0im  0.0 + 0.0im\n",
       "\n",
       "[:, :, 2, 1] =\n",
       " 0.0 + 0.0im  0.0 + 0.0im\n",
       " TensorMap((ℂ^1 ⊗ ℂ^2) ← (ℂ^2 ⊗ ℂ^1)):\n",
       "[:, :, 1, 1] =\n",
       " -0.7071067811865476 + 0.0im  0.0 + 0.0im\n",
       "\n",
       "[:, :, 2, 1] =\n",
       " 0.0 + 0.0im  0.7071067811865475 + 0.0im\n",
       "; TensorMap((ℂ^1 ⊗ ℂ^2) ← (ℂ^2 ⊗ ℂ^1)):\n",
       "[:, :, 1, 1] =\n",
       " 0.0 + 0.0im  0.0 + 0.0im\n",
       "\n",
       "[:, :, 2, 1] =\n",
       " 0.0 + 0.0im  0.0 + 0.0im\n",
       " TensorMap((ℂ^1 ⊗ ℂ^2) ← (ℂ^2 ⊗ ℂ^1)):\n",
       "[:, :, 1, 1] =\n",
       " 0.0 + 0.0im  0.0 + 0.0im\n",
       "\n",
       "[:, :, 2, 1] =\n",
       " 0.0 + 0.0im  0.0 + 0.0im\n",
       " … TensorMap((ℂ^1 ⊗ ℂ^2) ← (ℂ^2 ⊗ ℂ^1)):\n",
       "[:, :, 1, 1] =\n",
       " 0.0 + 0.0im  0.0 + 0.0im\n",
       "\n",
       "[:, :, 2, 1] =\n",
       " 0.0 + 0.0im  0.0 + 0.0im\n",
       " TensorMap((ℂ^1 ⊗ ℂ^2) ← (ℂ^2 ⊗ ℂ^1)):\n",
       "[:, :, 1, 1] =\n",
       " 1.0 + 0.0im  0.0 + 0.0im\n",
       "\n",
       "[:, :, 2, 1] =\n",
       " 0.0 + 0.0im  1.0 + 0.0im\n",
       "]])"
      ]
     },
     "metadata": {},
     "output_type": "display_data"
    }
   ],
   "source": [
    "H = xxz(; spin=1//2);"
   ]
  },
  {
   "attachments": {},
   "cell_type": "markdown",
   "metadata": {},
   "source": [
    "We then need an intial state, which we shall later optimize. In this example we work directly in the thermodynamic limit."
   ]
  },
  {
   "cell_type": "code",
   "execution_count": 3,
   "metadata": {},
   "outputs": [],
   "source": [
    "random_data = TensorMap(rand, ComplexF64, ℂ^20 * ℂ^2, ℂ^20);\n",
    "state = InfiniteMPS([random_data]);"
   ]
  },
  {
   "attachments": {},
   "cell_type": "markdown",
   "metadata": {},
   "source": [
    "The groundstate can then be found by calling find_groundstate."
   ]
  },
  {
   "cell_type": "code",
   "execution_count": 4,
   "metadata": {},
   "outputs": [
    {
     "name": "stderr",
     "output_type": "stream",
     "text": [
      "┌ Info: vumps @iteration 1 galerkin = 0.000403410751763573\n",
      "└ @ MPSKit /home/lkdvos/Projects/JuliaProjects/MPSKit.jl/src/algorithms/groundstate/vumps.jl:66\n"
     ]
    },
    {
     "name": "stderr",
     "output_type": "stream",
     "text": [
      "┌ Info: vumps @iteration 2 galerkin = 0.4867628378424288\n",
      "└ @ MPSKit /home/lkdvos/Projects/JuliaProjects/MPSKit.jl/src/algorithms/groundstate/vumps.jl:66\n"
     ]
    },
    {
     "name": "stderr",
     "output_type": "stream",
     "text": [
      "┌ Info: vumps @iteration 3 galerkin = 0.4524034104592681\n",
      "└ @ MPSKit /home/lkdvos/Projects/JuliaProjects/MPSKit.jl/src/algorithms/groundstate/vumps.jl:66\n",
      "┌ Info: vumps @iteration 4 galerkin = 0.55899527446702\n",
      "└ @ MPSKit /home/lkdvos/Projects/JuliaProjects/MPSKit.jl/src/algorithms/groundstate/vumps.jl:66\n"
     ]
    },
    {
     "name": "stderr",
     "output_type": "stream",
     "text": [
      "┌ Info: vumps @iteration 5 galerkin = 0.4391454707063199\n",
      "└ @ MPSKit /home/lkdvos/Projects/JuliaProjects/MPSKit.jl/src/algorithms/groundstate/vumps.jl:66\n"
     ]
    },
    {
     "name": "stderr",
     "output_type": "stream",
     "text": [
      "┌ Info: vumps @iteration 6 galerkin = 0.6319729916597104\n",
      "└ @ MPSKit /home/lkdvos/Projects/JuliaProjects/MPSKit.jl/src/algorithms/groundstate/vumps.jl:66\n",
      "┌ Info: vumps @iteration 7 galerkin = 0.6070942805006277\n",
      "└ @ MPSKit /home/lkdvos/Projects/JuliaProjects/MPSKit.jl/src/algorithms/groundstate/vumps.jl:66\n"
     ]
    },
    {
     "name": "stderr",
     "output_type": "stream",
     "text": [
      "┌ Info: vumps @iteration 8 galerkin = 0.44715437645109724\n",
      "└ @ MPSKit /home/lkdvos/Projects/JuliaProjects/MPSKit.jl/src/algorithms/groundstate/vumps.jl:66\n",
      "┌ Info: vumps @iteration 9 galerkin = 0.5214582478176155\n",
      "└ @ MPSKit /home/lkdvos/Projects/JuliaProjects/MPSKit.jl/src/algorithms/groundstate/vumps.jl:66\n",
      "┌ Info: vumps @iteration 10 galerkin = 0.5535071639905241\n",
      "└ @ MPSKit /home/lkdvos/Projects/JuliaProjects/MPSKit.jl/src/algorithms/groundstate/vumps.jl:66\n"
     ]
    },
    {
     "name": "stderr",
     "output_type": "stream",
     "text": [
      "┌ Info: vumps @iteration 11 galerkin = 0.4832253514468412\n",
      "└ @ MPSKit /home/lkdvos/Projects/JuliaProjects/MPSKit.jl/src/algorithms/groundstate/vumps.jl:66\n"
     ]
    },
    {
     "name": "stderr",
     "output_type": "stream",
     "text": [
      "┌ Info: vumps @iteration 12 galerkin = 0.5416444941519847\n",
      "└ @ MPSKit /home/lkdvos/Projects/JuliaProjects/MPSKit.jl/src/algorithms/groundstate/vumps.jl:66\n",
      "┌ Info: vumps @iteration 13 galerkin = 0.5269167897006053\n",
      "└ @ MPSKit /home/lkdvos/Projects/JuliaProjects/MPSKit.jl/src/algorithms/groundstate/vumps.jl:66\n"
     ]
    },
    {
     "name": "stderr",
     "output_type": "stream",
     "text": [
      "┌ Info: vumps @iteration 14 galerkin = 0.4072988998919731\n",
      "└ @ MPSKit /home/lkdvos/Projects/JuliaProjects/MPSKit.jl/src/algorithms/groundstate/vumps.jl:66\n",
      "┌ Info: vumps @iteration 15 galerkin = 0.3601456589550345\n",
      "└ @ MPSKit /home/lkdvos/Projects/JuliaProjects/MPSKit.jl/src/algorithms/groundstate/vumps.jl:66\n"
     ]
    },
    {
     "name": "stderr",
     "output_type": "stream",
     "text": [
      "┌ Info: vumps @iteration 16 galerkin = 0.40586508279959915\n",
      "└ @ MPSKit /home/lkdvos/Projects/JuliaProjects/MPSKit.jl/src/algorithms/groundstate/vumps.jl:66\n"
     ]
    },
    {
     "name": "stderr",
     "output_type": "stream",
     "text": [
      "┌ Info: vumps @iteration 17 galerkin = 0.46837876391640065\n",
      "└ @ MPSKit /home/lkdvos/Projects/JuliaProjects/MPSKit.jl/src/algorithms/groundstate/vumps.jl:66\n",
      "┌ Info: vumps @iteration 18 galerkin = 0.5304345128851423\n",
      "└ @ MPSKit /home/lkdvos/Projects/JuliaProjects/MPSKit.jl/src/algorithms/groundstate/vumps.jl:66\n",
      "┌ Info: vumps @iteration 19 galerkin = 0.41508252476971486\n",
      "└ @ MPSKit /home/lkdvos/Projects/JuliaProjects/MPSKit.jl/src/algorithms/groundstate/vumps.jl:66\n"
     ]
    },
    {
     "name": "stderr",
     "output_type": "stream",
     "text": [
      "┌ Info: vumps @iteration 20 galerkin = 0.5280235089935906\n",
      "└ @ MPSKit /home/lkdvos/Projects/JuliaProjects/MPSKit.jl/src/algorithms/groundstate/vumps.jl:66\n"
     ]
    },
    {
     "name": "stderr",
     "output_type": "stream",
     "text": [
      "┌ Info: vumps @iteration 21 galerkin = 0.42159484883774145\n",
      "└ @ MPSKit /home/lkdvos/Projects/JuliaProjects/MPSKit.jl/src/algorithms/groundstate/vumps.jl:66\n",
      "┌ Info: vumps @iteration 22 galerkin = 0.16003114561045742\n",
      "└ @ MPSKit /home/lkdvos/Projects/JuliaProjects/MPSKit.jl/src/algorithms/groundstate/vumps.jl:66\n",
      "┌ Info: vumps @iteration 23 galerkin = 0.5646103271088472\n",
      "└ @ MPSKit /home/lkdvos/Projects/JuliaProjects/MPSKit.jl/src/algorithms/groundstate/vumps.jl:66\n"
     ]
    },
    {
     "name": "stderr",
     "output_type": "stream",
     "text": [
      "┌ Info: vumps @iteration 24 galerkin = 0.43016756633667036\n",
      "└ @ MPSKit /home/lkdvos/Projects/JuliaProjects/MPSKit.jl/src/algorithms/groundstate/vumps.jl:66\n"
     ]
    },
    {
     "name": "stderr",
     "output_type": "stream",
     "text": [
      "┌ Info: vumps @iteration 25 galerkin = 0.45459741158128875\n",
      "└ @ MPSKit /home/lkdvos/Projects/JuliaProjects/MPSKit.jl/src/algorithms/groundstate/vumps.jl:66\n",
      "┌ Info: vumps @iteration 26 galerkin = 0.4434313177875925\n",
      "└ @ MPSKit /home/lkdvos/Projects/JuliaProjects/MPSKit.jl/src/algorithms/groundstate/vumps.jl:66\n",
      "┌ Info: vumps @iteration 27 galerkin = 0.38195622159408454\n",
      "└ @ MPSKit /home/lkdvos/Projects/JuliaProjects/MPSKit.jl/src/algorithms/groundstate/vumps.jl:66\n"
     ]
    },
    {
     "name": "stderr",
     "output_type": "stream",
     "text": [
      "┌ Info: vumps @iteration 28 galerkin = 0.5501176427089295\n",
      "└ @ MPSKit /home/lkdvos/Projects/JuliaProjects/MPSKit.jl/src/algorithms/groundstate/vumps.jl:66\n"
     ]
    },
    {
     "name": "stderr",
     "output_type": "stream",
     "text": [
      "┌ Info: vumps @iteration 29 galerkin = 0.5306089903211404\n",
      "└ @ MPSKit /home/lkdvos/Projects/JuliaProjects/MPSKit.jl/src/algorithms/groundstate/vumps.jl:66\n",
      "┌ Info: vumps @iteration 30 galerkin = 0.4557885404050256\n",
      "└ @ MPSKit /home/lkdvos/Projects/JuliaProjects/MPSKit.jl/src/algorithms/groundstate/vumps.jl:66\n",
      "┌ Info: vumps @iteration 31 galerkin = 0.4236114705148403\n",
      "└ @ MPSKit /home/lkdvos/Projects/JuliaProjects/MPSKit.jl/src/algorithms/groundstate/vumps.jl:66\n"
     ]
    },
    {
     "name": "stderr",
     "output_type": "stream",
     "text": [
      "┌ Info: vumps @iteration 32 galerkin = 0.5543215704906475\n",
      "└ @ MPSKit /home/lkdvos/Projects/JuliaProjects/MPSKit.jl/src/algorithms/groundstate/vumps.jl:66\n",
      "┌ Info: vumps @iteration 33 galerkin = 0.4256362976893456\n",
      "└ @ MPSKit /home/lkdvos/Projects/JuliaProjects/MPSKit.jl/src/algorithms/groundstate/vumps.jl:66\n"
     ]
    },
    {
     "name": "stderr",
     "output_type": "stream",
     "text": [
      "┌ Info: vumps @iteration 34 galerkin = 0.4427995095016326\n",
      "└ @ MPSKit /home/lkdvos/Projects/JuliaProjects/MPSKit.jl/src/algorithms/groundstate/vumps.jl:66\n",
      "┌ Info: vumps @iteration 35 galerkin = 0.4651167839470721\n",
      "└ @ MPSKit /home/lkdvos/Projects/JuliaProjects/MPSKit.jl/src/algorithms/groundstate/vumps.jl:66\n"
     ]
    },
    {
     "name": "stderr",
     "output_type": "stream",
     "text": [
      "┌ Info: vumps @iteration 36 galerkin = 0.5547126394280996\n",
      "└ @ MPSKit /home/lkdvos/Projects/JuliaProjects/MPSKit.jl/src/algorithms/groundstate/vumps.jl:66\n",
      "┌ Info: vumps @iteration 37 galerkin = 0.5576002537946472\n",
      "└ @ MPSKit /home/lkdvos/Projects/JuliaProjects/MPSKit.jl/src/algorithms/groundstate/vumps.jl:66\n"
     ]
    },
    {
     "name": "stderr",
     "output_type": "stream",
     "text": [
      "┌ Info: vumps @iteration 38 galerkin = 0.49232373080750197\n",
      "└ @ MPSKit /home/lkdvos/Projects/JuliaProjects/MPSKit.jl/src/algorithms/groundstate/vumps.jl:66\n",
      "┌ Info: vumps @iteration 39 galerkin = 0.5207280102745975\n",
      "└ @ MPSKit /home/lkdvos/Projects/JuliaProjects/MPSKit.jl/src/algorithms/groundstate/vumps.jl:66\n"
     ]
    },
    {
     "name": "stderr",
     "output_type": "stream",
     "text": [
      "┌ Info: vumps @iteration 40 galerkin = 0.4831009171289717\n",
      "└ @ MPSKit /home/lkdvos/Projects/JuliaProjects/MPSKit.jl/src/algorithms/groundstate/vumps.jl:66\n",
      "┌ Info: vumps @iteration 41 galerkin = 0.5523409510217063\n",
      "└ @ MPSKit /home/lkdvos/Projects/JuliaProjects/MPSKit.jl/src/algorithms/groundstate/vumps.jl:66\n"
     ]
    },
    {
     "name": "stderr",
     "output_type": "stream",
     "text": [
      "┌ Info: vumps @iteration 42 galerkin = 0.5132758652861135\n",
      "└ @ MPSKit /home/lkdvos/Projects/JuliaProjects/MPSKit.jl/src/algorithms/groundstate/vumps.jl:66\n",
      "┌ Info: vumps @iteration 43 galerkin = 0.5296774001014206\n",
      "└ @ MPSKit /home/lkdvos/Projects/JuliaProjects/MPSKit.jl/src/algorithms/groundstate/vumps.jl:66\n"
     ]
    },
    {
     "name": "stderr",
     "output_type": "stream",
     "text": [
      "┌ Info: vumps @iteration 44 galerkin = 0.47090190250339425\n",
      "└ @ MPSKit /home/lkdvos/Projects/JuliaProjects/MPSKit.jl/src/algorithms/groundstate/vumps.jl:66\n",
      "┌ Info: vumps @iteration 45 galerkin = 0.4024244130894618\n",
      "└ @ MPSKit /home/lkdvos/Projects/JuliaProjects/MPSKit.jl/src/algorithms/groundstate/vumps.jl:66\n"
     ]
    },
    {
     "name": "stderr",
     "output_type": "stream",
     "text": [
      "┌ Info: vumps @iteration 46 galerkin = 0.25331475020993527\n",
      "└ @ MPSKit /home/lkdvos/Projects/JuliaProjects/MPSKit.jl/src/algorithms/groundstate/vumps.jl:66\n",
      "┌ Info: vumps @iteration 47 galerkin = 0.31877656674997074\n",
      "└ @ MPSKit /home/lkdvos/Projects/JuliaProjects/MPSKit.jl/src/algorithms/groundstate/vumps.jl:66\n"
     ]
    },
    {
     "name": "stderr",
     "output_type": "stream",
     "text": [
      "┌ Info: vumps @iteration 48 galerkin = 0.1924981941103853\n",
      "└ @ MPSKit /home/lkdvos/Projects/JuliaProjects/MPSKit.jl/src/algorithms/groundstate/vumps.jl:66\n"
     ]
    },
    {
     "name": "stderr",
     "output_type": "stream",
     "text": [
      "┌ Info: vumps @iteration 49 galerkin = 0.360734985014865\n",
      "└ @ MPSKit /home/lkdvos/Projects/JuliaProjects/MPSKit.jl/src/algorithms/groundstate/vumps.jl:66\n",
      "┌ Info: vumps @iteration 50 galerkin = 0.47047213539996374\n",
      "└ @ MPSKit /home/lkdvos/Projects/JuliaProjects/MPSKit.jl/src/algorithms/groundstate/vumps.jl:66\n",
      "┌ Info: vumps @iteration 51 galerkin = 0.5229660750023242\n",
      "└ @ MPSKit /home/lkdvos/Projects/JuliaProjects/MPSKit.jl/src/algorithms/groundstate/vumps.jl:66\n"
     ]
    },
    {
     "name": "stderr",
     "output_type": "stream",
     "text": [
      "┌ Info: vumps @iteration 52 galerkin = 0.39532126092862585\n",
      "└ @ MPSKit /home/lkdvos/Projects/JuliaProjects/MPSKit.jl/src/algorithms/groundstate/vumps.jl:66\n"
     ]
    },
    {
     "name": "stderr",
     "output_type": "stream",
     "text": [
      "┌ Info: vumps @iteration 53 galerkin = 0.4922739869751538\n",
      "└ @ MPSKit /home/lkdvos/Projects/JuliaProjects/MPSKit.jl/src/algorithms/groundstate/vumps.jl:66\n",
      "┌ Info: vumps @iteration 54 galerkin = 0.38038680435726896\n",
      "└ @ MPSKit /home/lkdvos/Projects/JuliaProjects/MPSKit.jl/src/algorithms/groundstate/vumps.jl:66\n",
      "┌ Info: vumps @iteration 55 galerkin = 0.5747797556900442\n",
      "└ @ MPSKit /home/lkdvos/Projects/JuliaProjects/MPSKit.jl/src/algorithms/groundstate/vumps.jl:66\n"
     ]
    },
    {
     "name": "stderr",
     "output_type": "stream",
     "text": [
      "┌ Info: vumps @iteration 56 galerkin = 0.5232740810853885\n",
      "└ @ MPSKit /home/lkdvos/Projects/JuliaProjects/MPSKit.jl/src/algorithms/groundstate/vumps.jl:66\n",
      "┌ Info: vumps @iteration 57 galerkin = 0.4386159088110431\n",
      "└ @ MPSKit /home/lkdvos/Projects/JuliaProjects/MPSKit.jl/src/algorithms/groundstate/vumps.jl:66\n"
     ]
    },
    {
     "name": "stderr",
     "output_type": "stream",
     "text": [
      "┌ Info: vumps @iteration 58 galerkin = 0.35275248668116327\n",
      "└ @ MPSKit /home/lkdvos/Projects/JuliaProjects/MPSKit.jl/src/algorithms/groundstate/vumps.jl:66\n",
      "┌ Info: vumps @iteration 59 galerkin = 0.20209333332377755\n",
      "└ @ MPSKit /home/lkdvos/Projects/JuliaProjects/MPSKit.jl/src/algorithms/groundstate/vumps.jl:66\n"
     ]
    },
    {
     "name": "stderr",
     "output_type": "stream",
     "text": [
      "┌ Info: vumps @iteration 60 galerkin = 0.6243930938057107\n",
      "└ @ MPSKit /home/lkdvos/Projects/JuliaProjects/MPSKit.jl/src/algorithms/groundstate/vumps.jl:66\n",
      "┌ Info: vumps @iteration 61 galerkin = 0.45966907887429553\n",
      "└ @ MPSKit /home/lkdvos/Projects/JuliaProjects/MPSKit.jl/src/algorithms/groundstate/vumps.jl:66\n"
     ]
    },
    {
     "name": "stderr",
     "output_type": "stream",
     "text": [
      "┌ Info: vumps @iteration 62 galerkin = 0.2872177293144054\n",
      "└ @ MPSKit /home/lkdvos/Projects/JuliaProjects/MPSKit.jl/src/algorithms/groundstate/vumps.jl:66\n",
      "┌ Info: vumps @iteration 63 galerkin = 0.41828528403981646\n",
      "└ @ MPSKit /home/lkdvos/Projects/JuliaProjects/MPSKit.jl/src/algorithms/groundstate/vumps.jl:66\n",
      "┌ Info: vumps @iteration 64 galerkin = 0.5028843687192447\n",
      "└ @ MPSKit /home/lkdvos/Projects/JuliaProjects/MPSKit.jl/src/algorithms/groundstate/vumps.jl:66\n"
     ]
    },
    {
     "name": "stderr",
     "output_type": "stream",
     "text": [
      "┌ Info: vumps @iteration 65 galerkin = 0.4221418469891051\n",
      "└ @ MPSKit /home/lkdvos/Projects/JuliaProjects/MPSKit.jl/src/algorithms/groundstate/vumps.jl:66\n",
      "┌ Info: vumps @iteration 66 galerkin = 0.4271505750037201\n",
      "└ @ MPSKit /home/lkdvos/Projects/JuliaProjects/MPSKit.jl/src/algorithms/groundstate/vumps.jl:66\n"
     ]
    },
    {
     "name": "stderr",
     "output_type": "stream",
     "text": [
      "┌ Info: vumps @iteration 67 galerkin = 0.3943127375160601\n",
      "└ @ MPSKit /home/lkdvos/Projects/JuliaProjects/MPSKit.jl/src/algorithms/groundstate/vumps.jl:66\n"
     ]
    },
    {
     "name": "stderr",
     "output_type": "stream",
     "text": [
      "┌ Info: vumps @iteration 68 galerkin = 0.4203740385008635\n",
      "└ @ MPSKit /home/lkdvos/Projects/JuliaProjects/MPSKit.jl/src/algorithms/groundstate/vumps.jl:66\n",
      "┌ Info: vumps @iteration 69 galerkin = 0.2788624776096725\n",
      "└ @ MPSKit /home/lkdvos/Projects/JuliaProjects/MPSKit.jl/src/algorithms/groundstate/vumps.jl:66\n",
      "┌ Info: vumps @iteration 70 galerkin = 0.4829846422855433\n",
      "└ @ MPSKit /home/lkdvos/Projects/JuliaProjects/MPSKit.jl/src/algorithms/groundstate/vumps.jl:66\n"
     ]
    },
    {
     "name": "stderr",
     "output_type": "stream",
     "text": [
      "┌ Info: vumps @iteration 71 galerkin = 0.43825689589765104\n",
      "└ @ MPSKit /home/lkdvos/Projects/JuliaProjects/MPSKit.jl/src/algorithms/groundstate/vumps.jl:66\n"
     ]
    },
    {
     "name": "stderr",
     "output_type": "stream",
     "text": [
      "┌ Info: vumps @iteration 72 galerkin = 0.5563700749333177\n",
      "└ @ MPSKit /home/lkdvos/Projects/JuliaProjects/MPSKit.jl/src/algorithms/groundstate/vumps.jl:66\n",
      "┌ Info: vumps @iteration 73 galerkin = 0.4728985332161687\n",
      "└ @ MPSKit /home/lkdvos/Projects/JuliaProjects/MPSKit.jl/src/algorithms/groundstate/vumps.jl:66\n",
      "┌ Info: vumps @iteration 74 galerkin = 0.16278865476209478\n",
      "└ @ MPSKit /home/lkdvos/Projects/JuliaProjects/MPSKit.jl/src/algorithms/groundstate/vumps.jl:66\n"
     ]
    },
    {
     "name": "stderr",
     "output_type": "stream",
     "text": [
      "┌ Info: vumps @iteration 75 galerkin = 0.09474260672726294\n",
      "└ @ MPSKit /home/lkdvos/Projects/JuliaProjects/MPSKit.jl/src/algorithms/groundstate/vumps.jl:66\n",
      "┌ Info: vumps @iteration 76 galerkin = 0.3872183313216451\n",
      "└ @ MPSKit /home/lkdvos/Projects/JuliaProjects/MPSKit.jl/src/algorithms/groundstate/vumps.jl:66\n"
     ]
    },
    {
     "name": "stderr",
     "output_type": "stream",
     "text": [
      "┌ Info: vumps @iteration 77 galerkin = 0.5153901418782665\n",
      "└ @ MPSKit /home/lkdvos/Projects/JuliaProjects/MPSKit.jl/src/algorithms/groundstate/vumps.jl:66\n"
     ]
    },
    {
     "name": "stderr",
     "output_type": "stream",
     "text": [
      "┌ Info: vumps @iteration 78 galerkin = 0.5503851182255151\n",
      "└ @ MPSKit /home/lkdvos/Projects/JuliaProjects/MPSKit.jl/src/algorithms/groundstate/vumps.jl:66\n",
      "┌ Info: vumps @iteration 79 galerkin = 0.39384662805733783\n",
      "└ @ MPSKit /home/lkdvos/Projects/JuliaProjects/MPSKit.jl/src/algorithms/groundstate/vumps.jl:66\n",
      "┌ Info: vumps @iteration 80 galerkin = 0.4332383449882835\n",
      "└ @ MPSKit /home/lkdvos/Projects/JuliaProjects/MPSKit.jl/src/algorithms/groundstate/vumps.jl:66\n"
     ]
    },
    {
     "name": "stderr",
     "output_type": "stream",
     "text": [
      "┌ Info: vumps @iteration 81 galerkin = 0.505279664202934\n",
      "└ @ MPSKit /home/lkdvos/Projects/JuliaProjects/MPSKit.jl/src/algorithms/groundstate/vumps.jl:66\n",
      "┌ Info: vumps @iteration 82 galerkin = 0.5033308689270237\n",
      "└ @ MPSKit /home/lkdvos/Projects/JuliaProjects/MPSKit.jl/src/algorithms/groundstate/vumps.jl:66\n"
     ]
    },
    {
     "name": "stderr",
     "output_type": "stream",
     "text": [
      "┌ Info: vumps @iteration 83 galerkin = 0.5989277342027247\n",
      "└ @ MPSKit /home/lkdvos/Projects/JuliaProjects/MPSKit.jl/src/algorithms/groundstate/vumps.jl:66\n",
      "┌ Info: vumps @iteration 84 galerkin = 0.5245924859905118\n",
      "└ @ MPSKit /home/lkdvos/Projects/JuliaProjects/MPSKit.jl/src/algorithms/groundstate/vumps.jl:66\n"
     ]
    },
    {
     "name": "stderr",
     "output_type": "stream",
     "text": [
      "┌ Info: vumps @iteration 85 galerkin = 0.42191815814860717\n",
      "└ @ MPSKit /home/lkdvos/Projects/JuliaProjects/MPSKit.jl/src/algorithms/groundstate/vumps.jl:66\n",
      "┌ Info: vumps @iteration 86 galerkin = 0.5057235095176168\n",
      "└ @ MPSKit /home/lkdvos/Projects/JuliaProjects/MPSKit.jl/src/algorithms/groundstate/vumps.jl:66\n"
     ]
    },
    {
     "name": "stderr",
     "output_type": "stream",
     "text": [
      "┌ Info: vumps @iteration 87 galerkin = 0.5071937071459842\n",
      "└ @ MPSKit /home/lkdvos/Projects/JuliaProjects/MPSKit.jl/src/algorithms/groundstate/vumps.jl:66\n",
      "┌ Info: vumps @iteration 88 galerkin = 0.5483996477987084\n",
      "└ @ MPSKit /home/lkdvos/Projects/JuliaProjects/MPSKit.jl/src/algorithms/groundstate/vumps.jl:66\n"
     ]
    },
    {
     "name": "stderr",
     "output_type": "stream",
     "text": [
      "┌ Info: vumps @iteration 89 galerkin = 0.4260243768985279\n",
      "└ @ MPSKit /home/lkdvos/Projects/JuliaProjects/MPSKit.jl/src/algorithms/groundstate/vumps.jl:66\n",
      "┌ Info: vumps @iteration 90 galerkin = 0.509396703229305\n",
      "└ @ MPSKit /home/lkdvos/Projects/JuliaProjects/MPSKit.jl/src/algorithms/groundstate/vumps.jl:66\n",
      "┌ Info: vumps @iteration 91 galerkin = 0.4633604489560294\n",
      "└ @ MPSKit /home/lkdvos/Projects/JuliaProjects/MPSKit.jl/src/algorithms/groundstate/vumps.jl:66\n"
     ]
    },
    {
     "name": "stderr",
     "output_type": "stream",
     "text": [
      "┌ Info: vumps @iteration 92 galerkin = 0.5653828315648053\n",
      "└ @ MPSKit /home/lkdvos/Projects/JuliaProjects/MPSKit.jl/src/algorithms/groundstate/vumps.jl:66\n",
      "┌ Info: vumps @iteration 93 galerkin = 0.5217589428789332\n",
      "└ @ MPSKit /home/lkdvos/Projects/JuliaProjects/MPSKit.jl/src/algorithms/groundstate/vumps.jl:66\n"
     ]
    },
    {
     "name": "stderr",
     "output_type": "stream",
     "text": [
      "┌ Info: vumps @iteration 94 galerkin = 0.4935425958207558\n",
      "└ @ MPSKit /home/lkdvos/Projects/JuliaProjects/MPSKit.jl/src/algorithms/groundstate/vumps.jl:66\n",
      "┌ Info: vumps @iteration 95 galerkin = 0.5142410164873804\n",
      "└ @ MPSKit /home/lkdvos/Projects/JuliaProjects/MPSKit.jl/src/algorithms/groundstate/vumps.jl:66\n"
     ]
    },
    {
     "name": "stderr",
     "output_type": "stream",
     "text": [
      "┌ Info: vumps @iteration 96 galerkin = 0.4531681443832023\n",
      "└ @ MPSKit /home/lkdvos/Projects/JuliaProjects/MPSKit.jl/src/algorithms/groundstate/vumps.jl:66\n",
      "┌ Info: vumps @iteration 97 galerkin = 0.5136281259249158\n",
      "└ @ MPSKit /home/lkdvos/Projects/JuliaProjects/MPSKit.jl/src/algorithms/groundstate/vumps.jl:66\n"
     ]
    },
    {
     "name": "stderr",
     "output_type": "stream",
     "text": [
      "┌ Info: vumps @iteration 98 galerkin = 0.3873700335575661\n",
      "└ @ MPSKit /home/lkdvos/Projects/JuliaProjects/MPSKit.jl/src/algorithms/groundstate/vumps.jl:66\n",
      "┌ Info: vumps @iteration 99 galerkin = 0.32912147453404966\n",
      "└ @ MPSKit /home/lkdvos/Projects/JuliaProjects/MPSKit.jl/src/algorithms/groundstate/vumps.jl:66\n"
     ]
    },
    {
     "name": "stderr",
     "output_type": "stream",
     "text": [
      "┌ Info: vumps @iteration 100 galerkin = 0.2671822157199025\n",
      "└ @ MPSKit /home/lkdvos/Projects/JuliaProjects/MPSKit.jl/src/algorithms/groundstate/vumps.jl:66\n",
      "┌ Warning: vumps didn't converge 0.2671822157199025\n",
      "└ @ MPSKit /home/lkdvos/Projects/JuliaProjects/MPSKit.jl/src/algorithms/groundstate/vumps.jl:69\n"
     ]
    }
   ],
   "source": [
    "groundstate, cache, delta = find_groundstate(state, H, VUMPS());"
   ]
  },
  {
   "attachments": {},
   "cell_type": "markdown",
   "metadata": {},
   "source": [
    "As you can see, VUMPS struggles to converge.\n",
    "On it's own, that is already quite curious.\n",
    "Maybe we can do better using another algorithm, such as gradient descent."
   ]
  },
  {
   "cell_type": "code",
   "execution_count": 5,
   "metadata": {},
   "outputs": [
    {
     "name": "stderr",
     "output_type": "stream",
     "text": [
      "┌ Info: CG: initializing with f = 0.249999932861, ‖∇f‖ = 5.7051e-04\n",
      "└ @ OptimKit /home/lkdvos/.julia/packages/OptimKit/xpmbV/src/cg.jl:39\n"
     ]
    },
    {
     "name": "stderr",
     "output_type": "stream",
     "text": [
      "┌ Info: CG: iter    1: f = 0.003282245821, ‖∇f‖ = 5.9440e-01, α = 1.71e+03, β = 0.00e+00, nfg = 5\n",
      "└ @ OptimKit /home/lkdvos/.julia/packages/OptimKit/xpmbV/src/cg.jl:83\n"
     ]
    },
    {
     "name": "stderr",
     "output_type": "stream",
     "text": [
      "┌ Info: CG: iter    2: f = -0.031361329535, ‖∇f‖ = 5.4839e-01, α = 4.34e+04, β = 1.76e+03, nfg = 10\n",
      "└ @ OptimKit /home/lkdvos/.julia/packages/OptimKit/xpmbV/src/cg.jl:83\n"
     ]
    },
    {
     "name": "stderr",
     "output_type": "stream",
     "text": [
      "┌ Info: CG: iter    3: f = -0.061394048534, ‖∇f‖ = 5.9803e-01, α = 1.60e+00, β = 2.96e-01, nfg = 25\n",
      "└ @ OptimKit /home/lkdvos/.julia/packages/OptimKit/xpmbV/src/cg.jl:83\n"
     ]
    },
    {
     "name": "stderr",
     "output_type": "stream",
     "text": [
      "┌ Info: CG: iter    4: f = -0.093399521472, ‖∇f‖ = 6.2018e-01, α = 1.60e+00, β = 4.27e-01, nfg = 2\n",
      "└ @ OptimKit /home/lkdvos/.julia/packages/OptimKit/xpmbV/src/cg.jl:83\n"
     ]
    },
    {
     "name": "stderr",
     "output_type": "stream",
     "text": [
      "┌ Info: CG: iter    5: f = -0.216667629411, ‖∇f‖ = 6.0359e-01, α = 1.02e+00, β = 3.65e-01, nfg = 3\n",
      "└ @ OptimKit /home/lkdvos/.julia/packages/OptimKit/xpmbV/src/cg.jl:83\n"
     ]
    },
    {
     "name": "stderr",
     "output_type": "stream",
     "text": [
      "┌ Info: CG: iter    6: f = -0.340855801602, ‖∇f‖ = 4.3957e-01, α = 7.36e-01, β = 2.93e-01, nfg = 3\n",
      "└ @ OptimKit /home/lkdvos/.julia/packages/OptimKit/xpmbV/src/cg.jl:83\n"
     ]
    },
    {
     "name": "stderr",
     "output_type": "stream",
     "text": [
      "┌ Info: CG: iter    7: f = -0.379793590790, ‖∇f‖ = 3.7800e-01, α = 6.08e-01, β = 4.30e-01, nfg = 2\n",
      "└ @ OptimKit /home/lkdvos/.julia/packages/OptimKit/xpmbV/src/cg.jl:83\n"
     ]
    },
    {
     "name": "stderr",
     "output_type": "stream",
     "text": [
      "┌ Info: CG: iter    8: f = -0.413937349400, ‖∇f‖ = 2.0057e-01, α = 4.30e-01, β = 2.00e-01, nfg = 2\n",
      "└ @ OptimKit /home/lkdvos/.julia/packages/OptimKit/xpmbV/src/cg.jl:83\n"
     ]
    },
    {
     "name": "stderr",
     "output_type": "stream",
     "text": [
      "┌ Info: CG: iter    9: f = -0.423086710259, ‖∇f‖ = 1.5362e-01, α = 3.04e-01, β = 3.37e-01, nfg = 2\n",
      "└ @ OptimKit /home/lkdvos/.julia/packages/OptimKit/xpmbV/src/cg.jl:83\n"
     ]
    },
    {
     "name": "stderr",
     "output_type": "stream",
     "text": [
      "┌ Info: CG: iter   10: f = -0.428855621460, ‖∇f‖ = 1.2543e-01, α = 3.11e-01, β = 3.94e-01, nfg = 2\n",
      "└ @ OptimKit /home/lkdvos/.julia/packages/OptimKit/xpmbV/src/cg.jl:83\n"
     ]
    },
    {
     "name": "stderr",
     "output_type": "stream",
     "text": [
      "┌ Info: CG: iter   11: f = -0.432143720301, ‖∇f‖ = 1.2041e-01, α = 2.17e-01, β = 5.02e-01, nfg = 2\n",
      "└ @ OptimKit /home/lkdvos/.julia/packages/OptimKit/xpmbV/src/cg.jl:83\n"
     ]
    },
    {
     "name": "stderr",
     "output_type": "stream",
     "text": [
      "┌ Info: CG: iter   12: f = -0.435159050114, ‖∇f‖ = 1.3144e-01, α = 1.98e-01, β = 6.09e-01, nfg = 2\n",
      "└ @ OptimKit /home/lkdvos/.julia/packages/OptimKit/xpmbV/src/cg.jl:83\n"
     ]
    },
    {
     "name": "stderr",
     "output_type": "stream",
     "text": [
      "┌ Info: CG: iter   13: f = -0.438348700685, ‖∇f‖ = 1.0134e-01, α = 2.38e-01, β = 4.25e-01, nfg = 2\n",
      "└ @ OptimKit /home/lkdvos/.julia/packages/OptimKit/xpmbV/src/cg.jl:83\n"
     ]
    },
    {
     "name": "stderr",
     "output_type": "stream",
     "text": [
      "┌ Info: CG: iter   14: f = -0.439972474747, ‖∇f‖ = 5.4357e-02, α = 3.28e-01, β = 1.17e-01, nfg = 2\n",
      "└ @ OptimKit /home/lkdvos/.julia/packages/OptimKit/xpmbV/src/cg.jl:83\n"
     ]
    },
    {
     "name": "stderr",
     "output_type": "stream",
     "text": [
      "┌ Info: CG: iter   15: f = -0.440490471493, ‖∇f‖ = 4.4983e-02, α = 2.19e-01, β = 2.42e-01, nfg = 2\n",
      "└ @ OptimKit /home/lkdvos/.julia/packages/OptimKit/xpmbV/src/cg.jl:83\n"
     ]
    },
    {
     "name": "stderr",
     "output_type": "stream",
     "text": [
      "┌ Info: CG: iter   16: f = -0.440756433362, ‖∇f‖ = 4.2534e-02, α = 8.35e-02, β = 1.14e+00, nfg = 2\n",
      "└ @ OptimKit /home/lkdvos/.julia/packages/OptimKit/xpmbV/src/cg.jl:83\n"
     ]
    },
    {
     "name": "stderr",
     "output_type": "stream",
     "text": [
      "┌ Info: CG: iter   17: f = -0.441041391328, ‖∇f‖ = 4.3233e-02, α = 1.94e-01, β = 3.71e-01, nfg = 3\n",
      "└ @ OptimKit /home/lkdvos/.julia/packages/OptimKit/xpmbV/src/cg.jl:83\n"
     ]
    },
    {
     "name": "stderr",
     "output_type": "stream",
     "text": [
      "┌ Info: CG: iter   18: f = -0.441542873349, ‖∇f‖ = 3.4137e-02, α = 4.23e-01, β = 2.42e-01, nfg = 3\n",
      "└ @ OptimKit /home/lkdvos/.julia/packages/OptimKit/xpmbV/src/cg.jl:83\n"
     ]
    },
    {
     "name": "stderr",
     "output_type": "stream",
     "text": [
      "┌ Info: CG: iter   19: f = -0.441684193345, ‖∇f‖ = 3.1435e-02, α = 1.33e-01, β = 4.95e-01, nfg = 2\n",
      "└ @ OptimKit /home/lkdvos/.julia/packages/OptimKit/xpmbV/src/cg.jl:83\n"
     ]
    },
    {
     "name": "stderr",
     "output_type": "stream",
     "text": [
      "┌ Warning: CG: not converged to requested tol: f = -0.441848638194, ‖∇f‖ = 2.7977e-02\n",
      "└ @ OptimKit /home/lkdvos/.julia/packages/OptimKit/xpmbV/src/cg.jl:103\n"
     ]
    }
   ],
   "source": [
    "groundstate, cache, delta = find_groundstate(state, H, GradientGrassmann(maxiter=20));"
   ]
  },
  {
   "attachments": {},
   "cell_type": "markdown",
   "metadata": {},
   "source": [
    "Convergence is quite slow and even fails after sufficiently many iterations.\n",
    "To understand why, we can look at the transfer matrix spectrum."
   ]
  },
  {
   "cell_type": "code",
   "execution_count": 6,
   "metadata": {},
   "outputs": [
    {
     "data": {
      "image/png": "[encoded data removed]",
      "image/svg+xml": [
       "<?xml version=\"1.0\" encoding=\"utf-8\"?>\n",
       "<svg xmlns=\"http://www.w3.org/2000/svg\" xmlns:xlink=\"http://www.w3.org/1999/xlink\" width=\"600\" height=\"400\" viewBox=\"0 0 2400 1600\">\n",
       "<defs>\n",
       "  <clipPath id=\"clip220\">\n",
       "    <rect x=\"0\" y=\"0\" width=\"2400\" height=\"1600\"/>\n",
       "  </clipPath>\n",
       "</defs>\n",
       "<path clip-path=\"url(#clip220)\" d=\"M0 1600 L2400 1600 L2400 0 L0 0  Z\" fill=\"#ffffff\" fill-rule=\"evenodd\" fill-opacity=\"1\"/>\n",
       "<defs>\n",
       "  <clipPath id=\"clip221\">\n",
       "    <rect x=\"480\" y=\"0\" width=\"1681\" height=\"1600\"/>\n",
       "  </clipPath>\n",
       "</defs>\n",
       "<path clip-path=\"url(#clip220)\" d=\"M279.704 1423.18 L2352.76 1423.18 L2352.76 47.2441 L279.704 47.2441  Z\" fill=\"#ffffff\" fill-rule=\"evenodd\" fill-opacity=\"1\"/>\n",
       "<defs>\n",
       "  <clipPath id=\"clip222\">\n",
       "    <rect x=\"279\" y=\"47\" width=\"2074\" height=\"1377\"/>\n",
       "  </clipPath>\n",
       "</defs>\n",
       "<polyline clip-path=\"url(#clip222)\" style=\"stroke:#000000; stroke-linecap:round; stroke-linejoin:round; stroke-width:2; stroke-opacity:0.1; fill:none\" points=\"338.375,1423.18 338.375,47.2441 \"/>\n",
       "<polyline clip-path=\"url(#clip222)\" style=\"stroke:#000000; stroke-linecap:round; stroke-linejoin:round; stroke-width:2; stroke-opacity:0.1; fill:none\" points=\"664.327,1423.18 664.327,47.2441 \"/>\n",
       "<polyline clip-path=\"url(#clip222)\" style=\"stroke:#000000; stroke-linecap:round; stroke-linejoin:round; stroke-width:2; stroke-opacity:0.1; fill:none\" points=\"990.278,1423.18 990.278,47.2441 \"/>\n",
       "<polyline clip-path=\"url(#clip222)\" style=\"stroke:#000000; stroke-linecap:round; stroke-linejoin:round; stroke-width:2; stroke-opacity:0.1; fill:none\" points=\"1316.23,1423.18 1316.23,47.2441 \"/>\n",
       "<polyline clip-path=\"url(#clip222)\" style=\"stroke:#000000; stroke-linecap:round; stroke-linejoin:round; stroke-width:2; stroke-opacity:0.1; fill:none\" points=\"1642.18,1423.18 1642.18,47.2441 \"/>\n",
       "<polyline clip-path=\"url(#clip222)\" style=\"stroke:#000000; stroke-linecap:round; stroke-linejoin:round; stroke-width:2; stroke-opacity:0.1; fill:none\" points=\"1968.13,1423.18 1968.13,47.2441 \"/>\n",
       "<polyline clip-path=\"url(#clip222)\" style=\"stroke:#000000; stroke-linecap:round; stroke-linejoin:round; stroke-width:2; stroke-opacity:0.1; fill:none\" points=\"2294.08,1423.18 2294.08,47.2441 \"/>\n",
       "<polyline clip-path=\"url(#clip220)\" style=\"stroke:#000000; stroke-linecap:round; stroke-linejoin:round; stroke-width:4; stroke-opacity:1; fill:none\" points=\"279.704,1423.18 2352.76,1423.18 \"/>\n",
       "<polyline clip-path=\"url(#clip220)\" style=\"stroke:#000000; stroke-linecap:round; stroke-linejoin:round; stroke-width:4; stroke-opacity:1; fill:none\" points=\"338.375,1423.18 338.375,1404.28 \"/>\n",
       "<polyline clip-path=\"url(#clip220)\" style=\"stroke:#000000; stroke-linecap:round; stroke-linejoin:round; stroke-width:4; stroke-opacity:1; fill:none\" points=\"664.327,1423.18 664.327,1404.28 \"/>\n",
       "<polyline clip-path=\"url(#clip220)\" style=\"stroke:#000000; stroke-linecap:round; stroke-linejoin:round; stroke-width:4; stroke-opacity:1; fill:none\" points=\"990.278,1423.18 990.278,1404.28 \"/>\n",
       "<polyline clip-path=\"url(#clip220)\" style=\"stroke:#000000; stroke-linecap:round; stroke-linejoin:round; stroke-width:4; stroke-opacity:1; fill:none\" points=\"1316.23,1423.18 1316.23,1404.28 \"/>\n",
       "<polyline clip-path=\"url(#clip220)\" style=\"stroke:#000000; stroke-linecap:round; stroke-linejoin:round; stroke-width:4; stroke-opacity:1; fill:none\" points=\"1642.18,1423.18 1642.18,1404.28 \"/>\n",
       "<polyline clip-path=\"url(#clip220)\" style=\"stroke:#000000; stroke-linecap:round; stroke-linejoin:round; stroke-width:4; stroke-opacity:1; fill:none\" points=\"1968.13,1423.18 1968.13,1404.28 \"/>\n",
       "<polyline clip-path=\"url(#clip220)\" style=\"stroke:#000000; stroke-linecap:round; stroke-linejoin:round; stroke-width:4; stroke-opacity:1; fill:none\" points=\"2294.08,1423.18 2294.08,1404.28 \"/>\n",
       "<path clip-path=\"url(#clip220)\" d=\"M292.137 1454.1 Q288.526 1454.1 286.697 1457.66 Q284.892 1461.2 284.892 1468.33 Q284.892 1475.44 286.697 1479.01 Q288.526 1482.55 292.137 1482.55 Q295.771 1482.55 297.577 1479.01 Q299.405 1475.44 299.405 1468.33 Q299.405 1461.2 297.577 1457.66 Q295.771 1454.1 292.137 1454.1 M292.137 1450.39 Q297.947 1450.39 301.003 1455 Q304.081 1459.58 304.081 1468.33 Q304.081 1477.06 301.003 1481.67 Q297.947 1486.25 292.137 1486.25 Q286.327 1486.25 283.248 1481.67 Q280.193 1477.06 280.193 1468.33 Q280.193 1459.58 283.248 1455 Q286.327 1450.39 292.137 1450.39 Z\" fill=\"#000000\" fill-rule=\"nonzero\" fill-opacity=\"1\" /><path clip-path=\"url(#clip220)\" d=\"M319.266 1451.02 L323.202 1451.02 L311.165 1489.98 L307.23 1489.98 L319.266 1451.02 Z\" fill=\"#000000\" fill-rule=\"nonzero\" fill-opacity=\"1\" /><path clip-path=\"url(#clip220)\" d=\"M335.239 1451.02 L339.174 1451.02 L327.137 1489.98 L323.202 1489.98 L335.239 1451.02 Z\" fill=\"#000000\" fill-rule=\"nonzero\" fill-opacity=\"1\" /><path clip-path=\"url(#clip220)\" d=\"M345.053 1481.64 L352.692 1481.64 L352.692 1455.28 L344.382 1456.95 L344.382 1452.69 L352.646 1451.02 L357.322 1451.02 L357.322 1481.64 L364.961 1481.64 L364.961 1485.58 L345.053 1485.58 L345.053 1481.64 Z\" fill=\"#000000\" fill-rule=\"nonzero\" fill-opacity=\"1\" /><path clip-path=\"url(#clip220)\" d=\"M371.049 1459.65 L395.886 1459.65 L395.886 1463.91 L392.623 1463.91 L392.623 1479.84 Q392.623 1481.51 393.178 1482.25 Q393.757 1482.96 395.03 1482.96 Q395.377 1482.96 395.886 1482.92 Q396.396 1482.85 396.558 1482.83 L396.558 1485.9 Q395.748 1486.2 394.891 1486.34 Q394.035 1486.48 393.178 1486.48 Q390.4 1486.48 389.336 1484.98 Q388.271 1483.45 388.271 1479.38 L388.271 1463.91 L378.711 1463.91 L378.711 1485.58 L374.359 1485.58 L374.359 1463.91 L371.049 1463.91 L371.049 1459.65 Z\" fill=\"#000000\" fill-rule=\"nonzero\" fill-opacity=\"1\" /><path clip-path=\"url(#clip220)\" d=\"M607.857 1481.64 L615.496 1481.64 L615.496 1455.28 L607.186 1456.95 L607.186 1452.69 L615.45 1451.02 L620.126 1451.02 L620.126 1481.64 L627.764 1481.64 L627.764 1485.58 L607.857 1485.58 L607.857 1481.64 Z\" fill=\"#000000\" fill-rule=\"nonzero\" fill-opacity=\"1\" /><path clip-path=\"url(#clip220)\" d=\"M644.176 1451.02 L648.112 1451.02 L636.075 1489.98 L632.139 1489.98 L644.176 1451.02 Z\" fill=\"#000000\" fill-rule=\"nonzero\" fill-opacity=\"1\" /><path clip-path=\"url(#clip220)\" d=\"M660.149 1451.02 L664.084 1451.02 L652.047 1489.98 L648.112 1489.98 L660.149 1451.02 Z\" fill=\"#000000\" fill-rule=\"nonzero\" fill-opacity=\"1\" /><path clip-path=\"url(#clip220)\" d=\"M683.32 1466.95 Q686.676 1467.66 688.551 1469.93 Q690.449 1472.2 690.449 1475.53 Q690.449 1480.65 686.931 1483.45 Q683.412 1486.25 676.931 1486.25 Q674.755 1486.25 672.44 1485.81 Q670.148 1485.39 667.695 1484.54 L667.695 1480.02 Q669.639 1481.16 671.954 1481.74 Q674.269 1482.32 676.792 1482.32 Q681.19 1482.32 683.482 1480.58 Q685.797 1478.84 685.797 1475.53 Q685.797 1472.48 683.644 1470.77 Q681.514 1469.03 677.695 1469.03 L673.667 1469.03 L673.667 1465.19 L677.88 1465.19 Q681.329 1465.19 683.158 1463.82 Q684.986 1462.43 684.986 1459.84 Q684.986 1457.18 683.088 1455.77 Q681.213 1454.33 677.695 1454.33 Q675.773 1454.33 673.574 1454.75 Q671.375 1455.16 668.736 1456.04 L668.736 1451.88 Q671.398 1451.14 673.713 1450.77 Q676.051 1450.39 678.111 1450.39 Q683.435 1450.39 686.537 1452.83 Q689.639 1455.23 689.639 1459.35 Q689.639 1462.22 687.996 1464.21 Q686.352 1466.18 683.32 1466.95 Z\" fill=\"#000000\" fill-rule=\"nonzero\" fill-opacity=\"1\" /><path clip-path=\"url(#clip220)\" d=\"M695.959 1459.65 L720.796 1459.65 L720.796 1463.91 L717.532 1463.91 L717.532 1479.84 Q717.532 1481.51 718.088 1482.25 Q718.667 1482.96 719.94 1482.96 Q720.287 1482.96 720.796 1482.92 Q721.306 1482.85 721.468 1482.83 L721.468 1485.9 Q720.657 1486.2 719.801 1486.34 Q718.945 1486.48 718.088 1486.48 Q715.31 1486.48 714.245 1484.98 Q713.181 1483.45 713.181 1479.38 L713.181 1463.91 L703.621 1463.91 L703.621 1485.58 L699.269 1485.58 L699.269 1463.91 L695.959 1463.91 L695.959 1459.65 Z\" fill=\"#000000\" fill-rule=\"nonzero\" fill-opacity=\"1\" /><path clip-path=\"url(#clip220)\" d=\"M937.894 1481.64 L954.214 1481.64 L954.214 1485.58 L932.269 1485.58 L932.269 1481.64 Q934.931 1478.89 939.515 1474.26 Q944.121 1469.61 945.302 1468.27 Q947.547 1465.74 948.427 1464.01 Q949.329 1462.25 949.329 1460.56 Q949.329 1457.8 947.385 1456.07 Q945.464 1454.33 942.362 1454.33 Q940.163 1454.33 937.709 1455.09 Q935.279 1455.86 932.501 1457.41 L932.501 1452.69 Q935.325 1451.55 937.779 1450.97 Q940.232 1450.39 942.269 1450.39 Q947.64 1450.39 950.834 1453.08 Q954.029 1455.77 954.029 1460.26 Q954.029 1462.39 953.218 1464.31 Q952.431 1466.2 950.325 1468.8 Q949.746 1469.47 946.644 1472.69 Q943.542 1475.88 937.894 1481.64 Z\" fill=\"#000000\" fill-rule=\"nonzero\" fill-opacity=\"1\" /><path clip-path=\"url(#clip220)\" d=\"M970.996 1451.02 L974.931 1451.02 L962.894 1489.98 L958.959 1489.98 L970.996 1451.02 Z\" fill=\"#000000\" fill-rule=\"nonzero\" fill-opacity=\"1\" /><path clip-path=\"url(#clip220)\" d=\"M986.968 1451.02 L990.903 1451.02 L978.866 1489.98 L974.931 1489.98 L986.968 1451.02 Z\" fill=\"#000000\" fill-rule=\"nonzero\" fill-opacity=\"1\" /><path clip-path=\"url(#clip220)\" d=\"M1010.14 1466.95 Q1013.5 1467.66 1015.37 1469.93 Q1017.27 1472.2 1017.27 1475.53 Q1017.27 1480.65 1013.75 1483.45 Q1010.23 1486.25 1003.75 1486.25 Q1001.57 1486.25 999.26 1485.81 Q996.968 1485.39 994.514 1484.54 L994.514 1480.02 Q996.459 1481.16 998.774 1481.74 Q1001.09 1482.32 1003.61 1482.32 Q1008.01 1482.32 1010.3 1480.58 Q1012.62 1478.84 1012.62 1475.53 Q1012.62 1472.48 1010.46 1470.77 Q1008.33 1469.03 1004.51 1469.03 L1000.49 1469.03 L1000.49 1465.19 L1004.7 1465.19 Q1008.15 1465.19 1009.98 1463.82 Q1011.81 1462.43 1011.81 1459.84 Q1011.81 1457.18 1009.91 1455.77 Q1008.03 1454.33 1004.51 1454.33 Q1002.59 1454.33 1000.39 1454.75 Q998.195 1455.16 995.556 1456.04 L995.556 1451.88 Q998.218 1451.14 1000.53 1450.77 Q1002.87 1450.39 1004.93 1450.39 Q1010.26 1450.39 1013.36 1452.83 Q1016.46 1455.23 1016.46 1459.35 Q1016.46 1462.22 1014.82 1464.21 Q1013.17 1466.18 1010.14 1466.95 Z\" fill=\"#000000\" fill-rule=\"nonzero\" fill-opacity=\"1\" /><path clip-path=\"url(#clip220)\" d=\"M1022.78 1459.65 L1047.62 1459.65 L1047.62 1463.91 L1044.35 1463.91 L1044.35 1479.84 Q1044.35 1481.51 1044.91 1482.25 Q1045.49 1482.96 1046.76 1482.96 Q1047.11 1482.96 1047.62 1482.92 Q1048.13 1482.85 1048.29 1482.83 L1048.29 1485.9 Q1047.48 1486.2 1046.62 1486.34 Q1045.76 1486.48 1044.91 1486.48 Q1042.13 1486.48 1041.07 1484.98 Q1040 1483.45 1040 1479.38 L1040 1463.91 L1030.44 1463.91 L1030.44 1485.58 L1026.09 1485.58 L1026.09 1463.91 L1022.78 1463.91 L1022.78 1459.65 Z\" fill=\"#000000\" fill-rule=\"nonzero\" fill-opacity=\"1\" /><path clip-path=\"url(#clip220)\" d=\"M1259.76 1481.64 L1267.4 1481.64 L1267.4 1455.28 L1259.09 1456.95 L1259.09 1452.69 L1267.35 1451.02 L1272.03 1451.02 L1272.03 1481.64 L1279.67 1481.64 L1279.67 1485.58 L1259.76 1485.58 L1259.76 1481.64 Z\" fill=\"#000000\" fill-rule=\"nonzero\" fill-opacity=\"1\" /><path clip-path=\"url(#clip220)\" d=\"M1296.08 1451.02 L1300.01 1451.02 L1287.98 1489.98 L1284.04 1489.98 L1296.08 1451.02 Z\" fill=\"#000000\" fill-rule=\"nonzero\" fill-opacity=\"1\" /><path clip-path=\"url(#clip220)\" d=\"M1312.05 1451.02 L1315.99 1451.02 L1303.95 1489.98 L1300.01 1489.98 L1312.05 1451.02 Z\" fill=\"#000000\" fill-rule=\"nonzero\" fill-opacity=\"1\" /><path clip-path=\"url(#clip220)\" d=\"M1321.87 1481.64 L1329.51 1481.64 L1329.51 1455.28 L1321.2 1456.95 L1321.2 1452.69 L1329.46 1451.02 L1334.13 1451.02 L1334.13 1481.64 L1341.77 1481.64 L1341.77 1485.58 L1321.87 1485.58 L1321.87 1481.64 Z\" fill=\"#000000\" fill-rule=\"nonzero\" fill-opacity=\"1\" /><path clip-path=\"url(#clip220)\" d=\"M1347.86 1459.65 L1372.7 1459.65 L1372.7 1463.91 L1369.44 1463.91 L1369.44 1479.84 Q1369.44 1481.51 1369.99 1482.25 Q1370.57 1482.96 1371.84 1482.96 Q1372.19 1482.96 1372.7 1482.92 Q1373.21 1482.85 1373.37 1482.83 L1373.37 1485.9 Q1372.56 1486.2 1371.7 1486.34 Q1370.85 1486.48 1369.99 1486.48 Q1367.21 1486.48 1366.15 1484.98 Q1365.08 1483.45 1365.08 1479.38 L1365.08 1463.91 L1355.52 1463.91 L1355.52 1485.58 L1351.17 1485.58 L1351.17 1463.91 L1347.86 1463.91 L1347.86 1459.65 Z\" fill=\"#000000\" fill-rule=\"nonzero\" fill-opacity=\"1\" /><path clip-path=\"url(#clip220)\" d=\"M1599.2 1455.09 L1587.39 1473.54 L1599.2 1473.54 L1599.2 1455.09 M1597.97 1451.02 L1603.85 1451.02 L1603.85 1473.54 L1608.78 1473.54 L1608.78 1477.43 L1603.85 1477.43 L1603.85 1485.58 L1599.2 1485.58 L1599.2 1477.43 L1583.59 1477.43 L1583.59 1472.92 L1597.97 1451.02 Z\" fill=\"#000000\" fill-rule=\"nonzero\" fill-opacity=\"1\" /><path clip-path=\"url(#clip220)\" d=\"M1623.48 1451.02 L1627.41 1451.02 L1615.38 1489.98 L1611.44 1489.98 L1623.48 1451.02 Z\" fill=\"#000000\" fill-rule=\"nonzero\" fill-opacity=\"1\" /><path clip-path=\"url(#clip220)\" d=\"M1639.45 1451.02 L1643.39 1451.02 L1631.35 1489.98 L1627.41 1489.98 L1639.45 1451.02 Z\" fill=\"#000000\" fill-rule=\"nonzero\" fill-opacity=\"1\" /><path clip-path=\"url(#clip220)\" d=\"M1662.62 1466.95 Q1665.98 1467.66 1667.85 1469.93 Q1669.75 1472.2 1669.75 1475.53 Q1669.75 1480.65 1666.23 1483.45 Q1662.71 1486.25 1656.23 1486.25 Q1654.06 1486.25 1651.74 1485.81 Q1649.45 1485.39 1647 1484.54 L1647 1480.02 Q1648.94 1481.16 1651.26 1481.74 Q1653.57 1482.32 1656.09 1482.32 Q1660.49 1482.32 1662.78 1480.58 Q1665.1 1478.84 1665.1 1475.53 Q1665.1 1472.48 1662.95 1470.77 Q1660.82 1469.03 1657 1469.03 L1652.97 1469.03 L1652.97 1465.19 L1657.18 1465.19 Q1660.63 1465.19 1662.46 1463.82 Q1664.29 1462.43 1664.29 1459.84 Q1664.29 1457.18 1662.39 1455.77 Q1660.51 1454.33 1657 1454.33 Q1655.07 1454.33 1652.88 1454.75 Q1650.68 1455.16 1648.04 1456.04 L1648.04 1451.88 Q1650.7 1451.14 1653.01 1450.77 Q1655.35 1450.39 1657.41 1450.39 Q1662.74 1450.39 1665.84 1452.83 Q1668.94 1455.23 1668.94 1459.35 Q1668.94 1462.22 1667.3 1464.21 Q1665.65 1466.18 1662.62 1466.95 Z\" fill=\"#000000\" fill-rule=\"nonzero\" fill-opacity=\"1\" /><path clip-path=\"url(#clip220)\" d=\"M1675.26 1459.65 L1700.1 1459.65 L1700.1 1463.91 L1696.83 1463.91 L1696.83 1479.84 Q1696.83 1481.51 1697.39 1482.25 Q1697.97 1482.96 1699.24 1482.96 Q1699.59 1482.96 1700.1 1482.92 Q1700.61 1482.85 1700.77 1482.83 L1700.77 1485.9 Q1699.96 1486.2 1699.1 1486.34 Q1698.25 1486.48 1697.39 1486.48 Q1694.61 1486.48 1693.55 1484.98 Q1692.48 1483.45 1692.48 1479.38 L1692.48 1463.91 L1682.92 1463.91 L1682.92 1485.58 L1678.57 1485.58 L1678.57 1463.91 L1675.26 1463.91 L1675.26 1459.65 Z\" fill=\"#000000\" fill-rule=\"nonzero\" fill-opacity=\"1\" /><path clip-path=\"url(#clip220)\" d=\"M1911.68 1451.02 L1930.03 1451.02 L1930.03 1454.96 L1915.96 1454.96 L1915.96 1463.43 Q1916.98 1463.08 1917.99 1462.92 Q1919.01 1462.73 1920.03 1462.73 Q1925.82 1462.73 1929.2 1465.9 Q1932.58 1469.08 1932.58 1474.49 Q1932.58 1480.07 1929.11 1483.17 Q1925.63 1486.25 1919.31 1486.25 Q1917.14 1486.25 1914.87 1485.88 Q1912.62 1485.51 1910.22 1484.77 L1910.22 1480.07 Q1912.3 1481.2 1914.52 1481.76 Q1916.74 1482.32 1919.22 1482.32 Q1923.23 1482.32 1925.56 1480.21 Q1927.9 1478.1 1927.9 1474.49 Q1927.9 1470.88 1925.56 1468.77 Q1923.23 1466.67 1919.22 1466.67 Q1917.35 1466.67 1915.47 1467.08 Q1913.62 1467.5 1911.68 1468.38 L1911.68 1451.02 Z\" fill=\"#000000\" fill-rule=\"nonzero\" fill-opacity=\"1\" /><path clip-path=\"url(#clip220)\" d=\"M1948.76 1451.02 L1952.69 1451.02 L1940.66 1489.98 L1936.72 1489.98 L1948.76 1451.02 Z\" fill=\"#000000\" fill-rule=\"nonzero\" fill-opacity=\"1\" /><path clip-path=\"url(#clip220)\" d=\"M1964.73 1451.02 L1968.67 1451.02 L1956.63 1489.98 L1952.69 1489.98 L1964.73 1451.02 Z\" fill=\"#000000\" fill-rule=\"nonzero\" fill-opacity=\"1\" /><path clip-path=\"url(#clip220)\" d=\"M1987.9 1466.95 Q1991.26 1467.66 1993.13 1469.93 Q1995.03 1472.2 1995.03 1475.53 Q1995.03 1480.65 1991.51 1483.45 Q1987.99 1486.25 1981.51 1486.25 Q1979.34 1486.25 1977.02 1485.81 Q1974.73 1485.39 1972.28 1484.54 L1972.28 1480.02 Q1974.22 1481.16 1976.54 1481.74 Q1978.85 1482.32 1981.37 1482.32 Q1985.77 1482.32 1988.06 1480.58 Q1990.38 1478.84 1990.38 1475.53 Q1990.38 1472.48 1988.23 1470.77 Q1986.1 1469.03 1982.28 1469.03 L1978.25 1469.03 L1978.25 1465.19 L1982.46 1465.19 Q1985.91 1465.19 1987.74 1463.82 Q1989.57 1462.43 1989.57 1459.84 Q1989.57 1457.18 1987.67 1455.77 Q1985.79 1454.33 1982.28 1454.33 Q1980.36 1454.33 1978.16 1454.75 Q1975.96 1455.16 1973.32 1456.04 L1973.32 1451.88 Q1975.98 1451.14 1978.3 1450.77 Q1980.63 1450.39 1982.69 1450.39 Q1988.02 1450.39 1991.12 1452.83 Q1994.22 1455.23 1994.22 1459.35 Q1994.22 1462.22 1992.58 1464.21 Q1990.93 1466.18 1987.9 1466.95 Z\" fill=\"#000000\" fill-rule=\"nonzero\" fill-opacity=\"1\" /><path clip-path=\"url(#clip220)\" d=\"M2000.54 1459.65 L2025.38 1459.65 L2025.38 1463.91 L2022.11 1463.91 L2022.11 1479.84 Q2022.11 1481.51 2022.67 1482.25 Q2023.25 1482.96 2024.52 1482.96 Q2024.87 1482.96 2025.38 1482.92 Q2025.89 1482.85 2026.05 1482.83 L2026.05 1485.9 Q2025.24 1486.2 2024.38 1486.34 Q2023.53 1486.48 2022.67 1486.48 Q2019.89 1486.48 2018.83 1484.98 Q2017.76 1483.45 2017.76 1479.38 L2017.76 1463.91 L2008.2 1463.91 L2008.2 1485.58 L2003.85 1485.58 L2003.85 1463.91 L2000.54 1463.91 L2000.54 1459.65 Z\" fill=\"#000000\" fill-rule=\"nonzero\" fill-opacity=\"1\" /><path clip-path=\"url(#clip220)\" d=\"M2241.7 1481.64 L2258.02 1481.64 L2258.02 1485.58 L2236.08 1485.58 L2236.08 1481.64 Q2238.74 1478.89 2243.32 1474.26 Q2247.93 1469.61 2249.11 1468.27 Q2251.35 1465.74 2252.23 1464.01 Q2253.14 1462.25 2253.14 1460.56 Q2253.14 1457.8 2251.19 1456.07 Q2249.27 1454.33 2246.17 1454.33 Q2243.97 1454.33 2241.52 1455.09 Q2239.08 1455.86 2236.31 1457.41 L2236.31 1452.69 Q2239.13 1451.55 2241.58 1450.97 Q2244.04 1450.39 2246.08 1450.39 Q2251.45 1450.39 2254.64 1453.08 Q2257.83 1455.77 2257.83 1460.26 Q2257.83 1462.39 2257.02 1464.31 Q2256.24 1466.2 2254.13 1468.8 Q2253.55 1469.47 2250.45 1472.69 Q2247.35 1475.88 2241.7 1481.64 Z\" fill=\"#000000\" fill-rule=\"nonzero\" fill-opacity=\"1\" /><path clip-path=\"url(#clip220)\" d=\"M2274.8 1451.02 L2278.74 1451.02 L2266.7 1489.98 L2262.77 1489.98 L2274.8 1451.02 Z\" fill=\"#000000\" fill-rule=\"nonzero\" fill-opacity=\"1\" /><path clip-path=\"url(#clip220)\" d=\"M2290.77 1451.02 L2294.71 1451.02 L2282.67 1489.98 L2278.74 1489.98 L2290.77 1451.02 Z\" fill=\"#000000\" fill-rule=\"nonzero\" fill-opacity=\"1\" /><path clip-path=\"url(#clip220)\" d=\"M2300.59 1481.64 L2308.23 1481.64 L2308.23 1455.28 L2299.92 1456.95 L2299.92 1452.69 L2308.18 1451.02 L2312.86 1451.02 L2312.86 1481.64 L2320.5 1481.64 L2320.5 1485.58 L2300.59 1485.58 L2300.59 1481.64 Z\" fill=\"#000000\" fill-rule=\"nonzero\" fill-opacity=\"1\" /><path clip-path=\"url(#clip220)\" d=\"M2326.58 1459.65 L2351.42 1459.65 L2351.42 1463.91 L2348.16 1463.91 L2348.16 1479.84 Q2348.16 1481.51 2348.71 1482.25 Q2349.29 1482.96 2350.57 1482.96 Q2350.91 1482.96 2351.42 1482.92 Q2351.93 1482.85 2352.09 1482.83 L2352.09 1485.9 Q2351.28 1486.2 2350.43 1486.34 Q2349.57 1486.48 2348.71 1486.48 Q2345.94 1486.48 2344.87 1484.98 Q2343.81 1483.45 2343.81 1479.38 L2343.81 1463.91 L2334.25 1463.91 L2334.25 1485.58 L2329.89 1485.58 L2329.89 1463.91 L2326.58 1463.91 L2326.58 1459.65 Z\" fill=\"#000000\" fill-rule=\"nonzero\" fill-opacity=\"1\" /><path clip-path=\"url(#clip220)\" d=\"M1326.35 1545.45 L1306.08 1545.45 Q1306.55 1554.96 1308.75 1559 Q1311.49 1563.97 1316.23 1563.97 Q1321 1563.97 1323.65 1558.97 Q1325.97 1554.58 1326.35 1545.45 M1326.26 1540.03 Q1325.36 1531 1323.65 1527.81 Q1320.91 1522.78 1316.23 1522.78 Q1311.36 1522.78 1308.78 1527.75 Q1306.75 1531.76 1306.14 1540.03 L1326.26 1540.03 M1316.23 1518.01 Q1323.87 1518.01 1328.23 1524.76 Q1332.59 1531.47 1332.59 1543.38 Q1332.59 1555.25 1328.23 1562 Q1323.87 1568.78 1316.23 1568.78 Q1308.56 1568.78 1304.23 1562 Q1299.87 1555.25 1299.87 1543.38 Q1299.87 1531.47 1304.23 1524.76 Q1308.56 1518.01 1316.23 1518.01 Z\" fill=\"#000000\" fill-rule=\"nonzero\" fill-opacity=\"1\" /><polyline clip-path=\"url(#clip222)\" style=\"stroke:#000000; stroke-linecap:round; stroke-linejoin:round; stroke-width:2; stroke-opacity:0.1; fill:none\" points=\"279.704,1265.46 2352.76,1265.46 \"/>\n",
       "<polyline clip-path=\"url(#clip222)\" style=\"stroke:#000000; stroke-linecap:round; stroke-linejoin:round; stroke-width:2; stroke-opacity:0.1; fill:none\" points=\"279.704,1021.82 2352.76,1021.82 \"/>\n",
       "<polyline clip-path=\"url(#clip222)\" style=\"stroke:#000000; stroke-linecap:round; stroke-linejoin:round; stroke-width:2; stroke-opacity:0.1; fill:none\" points=\"279.704,778.173 2352.76,778.173 \"/>\n",
       "<polyline clip-path=\"url(#clip222)\" style=\"stroke:#000000; stroke-linecap:round; stroke-linejoin:round; stroke-width:2; stroke-opacity:0.1; fill:none\" points=\"279.704,534.53 2352.76,534.53 \"/>\n",
       "<polyline clip-path=\"url(#clip222)\" style=\"stroke:#000000; stroke-linecap:round; stroke-linejoin:round; stroke-width:2; stroke-opacity:0.1; fill:none\" points=\"279.704,290.887 2352.76,290.887 \"/>\n",
       "<polyline clip-path=\"url(#clip220)\" style=\"stroke:#000000; stroke-linecap:round; stroke-linejoin:round; stroke-width:4; stroke-opacity:1; fill:none\" points=\"279.704,1423.18 279.704,47.2441 \"/>\n",
       "<polyline clip-path=\"url(#clip220)\" style=\"stroke:#000000; stroke-linecap:round; stroke-linejoin:round; stroke-width:4; stroke-opacity:1; fill:none\" points=\"279.704,1265.46 298.602,1265.46 \"/>\n",
       "<polyline clip-path=\"url(#clip220)\" style=\"stroke:#000000; stroke-linecap:round; stroke-linejoin:round; stroke-width:4; stroke-opacity:1; fill:none\" points=\"279.704,1021.82 298.602,1021.82 \"/>\n",
       "<polyline clip-path=\"url(#clip220)\" style=\"stroke:#000000; stroke-linecap:round; stroke-linejoin:round; stroke-width:4; stroke-opacity:1; fill:none\" points=\"279.704,778.173 298.602,778.173 \"/>\n",
       "<polyline clip-path=\"url(#clip220)\" style=\"stroke:#000000; stroke-linecap:round; stroke-linejoin:round; stroke-width:4; stroke-opacity:1; fill:none\" points=\"279.704,534.53 298.602,534.53 \"/>\n",
       "<polyline clip-path=\"url(#clip220)\" style=\"stroke:#000000; stroke-linecap:round; stroke-linejoin:round; stroke-width:4; stroke-opacity:1; fill:none\" points=\"279.704,290.887 298.602,290.887 \"/>\n",
       "<path clip-path=\"url(#clip220)\" d=\"M127.2 1251.26 Q123.589 1251.26 121.76 1254.82 Q119.955 1258.36 119.955 1265.49 Q119.955 1272.6 121.76 1276.16 Q123.589 1279.71 127.2 1279.71 Q130.834 1279.71 132.64 1276.16 Q134.468 1272.6 134.468 1265.49 Q134.468 1258.36 132.64 1254.82 Q130.834 1251.26 127.2 1251.26 M127.2 1247.55 Q133.01 1247.55 136.066 1252.16 Q139.144 1256.74 139.144 1265.49 Q139.144 1274.22 136.066 1278.83 Q133.01 1283.41 127.2 1283.41 Q121.39 1283.41 118.311 1278.83 Q115.256 1274.22 115.256 1265.49 Q115.256 1256.74 118.311 1252.16 Q121.39 1247.55 127.2 1247.55 Z\" fill=\"#000000\" fill-rule=\"nonzero\" fill-opacity=\"1\" /><path clip-path=\"url(#clip220)\" d=\"M147.362 1276.86 L152.246 1276.86 L152.246 1282.74 L147.362 1282.74 L147.362 1276.86 Z\" fill=\"#000000\" fill-rule=\"nonzero\" fill-opacity=\"1\" /><path clip-path=\"url(#clip220)\" d=\"M162.57 1282.02 L162.57 1277.76 Q164.329 1278.59 166.135 1279.03 Q167.94 1279.47 169.677 1279.47 Q174.306 1279.47 176.737 1276.37 Q179.19 1273.25 179.538 1266.9 Q178.195 1268.9 176.135 1269.96 Q174.075 1271.03 171.575 1271.03 Q166.39 1271.03 163.357 1267.9 Q160.348 1264.75 160.348 1259.31 Q160.348 1253.99 163.496 1250.77 Q166.644 1247.55 171.876 1247.55 Q177.871 1247.55 181.019 1252.16 Q184.19 1256.74 184.19 1265.49 Q184.19 1273.66 180.301 1278.55 Q176.436 1283.41 169.885 1283.41 Q168.126 1283.41 166.32 1283.06 Q164.515 1282.71 162.57 1282.02 M171.876 1267.37 Q175.024 1267.37 176.852 1265.22 Q178.704 1263.06 178.704 1259.31 Q178.704 1255.59 176.852 1253.43 Q175.024 1251.26 171.876 1251.26 Q168.727 1251.26 166.876 1253.43 Q165.047 1255.59 165.047 1259.31 Q165.047 1263.06 166.876 1265.22 Q168.727 1267.37 171.876 1267.37 Z\" fill=\"#000000\" fill-rule=\"nonzero\" fill-opacity=\"1\" /><path clip-path=\"url(#clip220)\" d=\"M196.621 1278.8 L212.94 1278.8 L212.94 1282.74 L190.996 1282.74 L190.996 1278.8 Q193.658 1276.05 198.241 1271.42 Q202.848 1266.77 204.028 1265.42 Q206.274 1262.9 207.153 1261.16 Q208.056 1259.4 208.056 1257.72 Q208.056 1254.96 206.112 1253.22 Q204.19 1251.49 201.088 1251.49 Q198.889 1251.49 196.436 1252.25 Q194.005 1253.02 191.227 1254.57 L191.227 1249.84 Q194.051 1248.71 196.505 1248.13 Q198.959 1247.55 200.996 1247.55 Q206.366 1247.55 209.561 1250.24 Q212.755 1252.92 212.755 1257.41 Q212.755 1259.54 211.945 1261.47 Q211.158 1263.36 209.051 1265.96 Q208.473 1266.63 205.371 1269.84 Q202.269 1273.04 196.621 1278.8 Z\" fill=\"#000000\" fill-rule=\"nonzero\" fill-opacity=\"1\" /><path clip-path=\"url(#clip220)\" d=\"M222.801 1248.18 L241.158 1248.18 L241.158 1252.11 L227.084 1252.11 L227.084 1260.59 Q228.102 1260.24 229.121 1260.08 Q230.139 1259.89 231.158 1259.89 Q236.945 1259.89 240.324 1263.06 Q243.704 1266.23 243.704 1271.65 Q243.704 1277.23 240.232 1280.33 Q236.76 1283.41 230.44 1283.41 Q228.264 1283.41 225.996 1283.04 Q223.75 1282.67 221.343 1281.93 L221.343 1277.23 Q223.426 1278.36 225.648 1278.92 Q227.871 1279.47 230.347 1279.47 Q234.352 1279.47 236.69 1277.37 Q239.028 1275.26 239.028 1271.65 Q239.028 1268.04 236.69 1265.93 Q234.352 1263.83 230.347 1263.83 Q228.473 1263.83 226.598 1264.24 Q224.746 1264.66 222.801 1265.54 L222.801 1248.18 Z\" fill=\"#000000\" fill-rule=\"nonzero\" fill-opacity=\"1\" /><path clip-path=\"url(#clip220)\" d=\"M126.205 1007.61 Q122.593 1007.61 120.765 1011.18 Q118.959 1014.72 118.959 1021.85 Q118.959 1028.96 120.765 1032.52 Q122.593 1036.06 126.205 1036.06 Q129.839 1036.06 131.644 1032.52 Q133.473 1028.96 133.473 1021.85 Q133.473 1014.72 131.644 1011.18 Q129.839 1007.61 126.205 1007.61 M126.205 1003.91 Q132.015 1003.91 135.07 1008.52 Q138.149 1013.1 138.149 1021.85 Q138.149 1030.58 135.07 1035.18 Q132.015 1039.77 126.205 1039.77 Q120.394 1039.77 117.316 1035.18 Q114.26 1030.58 114.26 1021.85 Q114.26 1013.1 117.316 1008.52 Q120.394 1003.91 126.205 1003.91 Z\" fill=\"#000000\" fill-rule=\"nonzero\" fill-opacity=\"1\" /><path clip-path=\"url(#clip220)\" d=\"M146.366 1033.22 L151.251 1033.22 L151.251 1039.1 L146.366 1039.1 L146.366 1033.22 Z\" fill=\"#000000\" fill-rule=\"nonzero\" fill-opacity=\"1\" /><path clip-path=\"url(#clip220)\" d=\"M161.575 1038.38 L161.575 1034.12 Q163.334 1034.95 165.14 1035.39 Q166.945 1035.83 168.681 1035.83 Q173.311 1035.83 175.741 1032.73 Q178.195 1029.6 178.542 1023.26 Q177.2 1025.25 175.139 1026.32 Q173.079 1027.38 170.579 1027.38 Q165.394 1027.38 162.362 1024.26 Q159.353 1021.11 159.353 1015.67 Q159.353 1010.35 162.501 1007.13 Q165.649 1003.91 170.88 1003.91 Q176.876 1003.91 180.024 1008.52 Q183.195 1013.1 183.195 1021.85 Q183.195 1030.02 179.306 1034.91 Q175.44 1039.77 168.889 1039.77 Q167.13 1039.77 165.325 1039.42 Q163.519 1039.07 161.575 1038.38 M170.88 1023.73 Q174.028 1023.73 175.857 1021.57 Q177.709 1019.42 177.709 1015.67 Q177.709 1011.94 175.857 1009.79 Q174.028 1007.61 170.88 1007.61 Q167.732 1007.61 165.88 1009.79 Q164.052 1011.94 164.052 1015.67 Q164.052 1019.42 165.88 1021.57 Q167.732 1023.73 170.88 1023.73 Z\" fill=\"#000000\" fill-rule=\"nonzero\" fill-opacity=\"1\" /><path clip-path=\"url(#clip220)\" d=\"M191.644 1004.54 L210 1004.54 L210 1008.47 L195.926 1008.47 L195.926 1016.94 Q196.945 1016.6 197.963 1016.43 Q198.982 1016.25 200 1016.25 Q205.787 1016.25 209.167 1019.42 Q212.547 1022.59 212.547 1028.01 Q212.547 1033.59 209.074 1036.69 Q205.602 1039.77 199.283 1039.77 Q197.107 1039.77 194.838 1039.4 Q192.593 1039.03 190.186 1038.29 L190.186 1033.59 Q192.269 1034.72 194.491 1035.28 Q196.713 1035.83 199.19 1035.83 Q203.195 1035.83 205.533 1033.72 Q207.871 1031.62 207.871 1028.01 Q207.871 1024.4 205.533 1022.29 Q203.195 1020.18 199.19 1020.18 Q197.315 1020.18 195.44 1020.6 Q193.588 1021.02 191.644 1021.9 L191.644 1004.54 Z\" fill=\"#000000\" fill-rule=\"nonzero\" fill-opacity=\"1\" /><path clip-path=\"url(#clip220)\" d=\"M231.76 1007.61 Q228.148 1007.61 226.32 1011.18 Q224.514 1014.72 224.514 1021.85 Q224.514 1028.96 226.32 1032.52 Q228.148 1036.06 231.76 1036.06 Q235.394 1036.06 237.199 1032.52 Q239.028 1028.96 239.028 1021.85 Q239.028 1014.72 237.199 1011.18 Q235.394 1007.61 231.76 1007.61 M231.76 1003.91 Q237.57 1003.91 240.625 1008.52 Q243.704 1013.1 243.704 1021.85 Q243.704 1030.58 240.625 1035.18 Q237.57 1039.77 231.76 1039.77 Q225.949 1039.77 222.871 1035.18 Q219.815 1030.58 219.815 1021.85 Q219.815 1013.1 222.871 1008.52 Q225.949 1003.91 231.76 1003.91 Z\" fill=\"#000000\" fill-rule=\"nonzero\" fill-opacity=\"1\" /><path clip-path=\"url(#clip220)\" d=\"M127.2 763.971 Q123.589 763.971 121.76 767.536 Q119.955 771.078 119.955 778.207 Q119.955 785.314 121.76 788.878 Q123.589 792.42 127.2 792.42 Q130.834 792.42 132.64 788.878 Q134.468 785.314 134.468 778.207 Q134.468 771.078 132.64 767.536 Q130.834 763.971 127.2 763.971 M127.2 760.268 Q133.01 760.268 136.066 764.874 Q139.144 769.457 139.144 778.207 Q139.144 786.934 136.066 791.54 Q133.01 796.124 127.2 796.124 Q121.39 796.124 118.311 791.54 Q115.256 786.934 115.256 778.207 Q115.256 769.457 118.311 764.874 Q121.39 760.268 127.2 760.268 Z\" fill=\"#000000\" fill-rule=\"nonzero\" fill-opacity=\"1\" /><path clip-path=\"url(#clip220)\" d=\"M147.362 789.573 L152.246 789.573 L152.246 795.453 L147.362 795.453 L147.362 789.573 Z\" fill=\"#000000\" fill-rule=\"nonzero\" fill-opacity=\"1\" /><path clip-path=\"url(#clip220)\" d=\"M162.57 794.735 L162.57 790.476 Q164.329 791.309 166.135 791.749 Q167.94 792.189 169.677 792.189 Q174.306 792.189 176.737 789.087 Q179.19 785.962 179.538 779.619 Q178.195 781.61 176.135 782.675 Q174.075 783.74 171.575 783.74 Q166.39 783.74 163.357 780.615 Q160.348 777.466 160.348 772.027 Q160.348 766.703 163.496 763.485 Q166.644 760.268 171.876 760.268 Q177.871 760.268 181.019 764.874 Q184.19 769.457 184.19 778.207 Q184.19 786.378 180.301 791.263 Q176.436 796.124 169.885 796.124 Q168.126 796.124 166.32 795.777 Q164.515 795.429 162.57 794.735 M171.876 780.082 Q175.024 780.082 176.852 777.929 Q178.704 775.777 178.704 772.027 Q178.704 768.3 176.852 766.147 Q175.024 763.971 171.876 763.971 Q168.727 763.971 166.876 766.147 Q165.047 768.3 165.047 772.027 Q165.047 775.777 166.876 777.929 Q168.727 780.082 171.876 780.082 Z\" fill=\"#000000\" fill-rule=\"nonzero\" fill-opacity=\"1\" /><path clip-path=\"url(#clip220)\" d=\"M191.413 760.893 L213.635 760.893 L213.635 762.883 L201.088 795.453 L196.204 795.453 L208.01 764.828 L191.413 764.828 L191.413 760.893 Z\" fill=\"#000000\" fill-rule=\"nonzero\" fill-opacity=\"1\" /><path clip-path=\"url(#clip220)\" d=\"M222.801 760.893 L241.158 760.893 L241.158 764.828 L227.084 764.828 L227.084 773.3 Q228.102 772.953 229.121 772.791 Q230.139 772.605 231.158 772.605 Q236.945 772.605 240.324 775.777 Q243.704 778.948 243.704 784.365 Q243.704 789.943 240.232 793.045 Q236.76 796.124 230.44 796.124 Q228.264 796.124 225.996 795.753 Q223.75 795.383 221.343 794.642 L221.343 789.943 Q223.426 791.078 225.648 791.633 Q227.871 792.189 230.347 792.189 Q234.352 792.189 236.69 790.082 Q239.028 787.976 239.028 784.365 Q239.028 780.754 236.69 778.647 Q234.352 776.541 230.347 776.541 Q228.473 776.541 226.598 776.957 Q224.746 777.374 222.801 778.254 L222.801 760.893 Z\" fill=\"#000000\" fill-rule=\"nonzero\" fill-opacity=\"1\" /><path clip-path=\"url(#clip220)\" d=\"M117.015 547.875 L124.654 547.875 L124.654 521.509 L116.343 523.176 L116.343 518.916 L124.607 517.25 L129.283 517.25 L129.283 547.875 L136.922 547.875 L136.922 551.81 L117.015 551.81 L117.015 547.875 Z\" fill=\"#000000\" fill-rule=\"nonzero\" fill-opacity=\"1\" /><path clip-path=\"url(#clip220)\" d=\"M146.366 545.93 L151.251 545.93 L151.251 551.81 L146.366 551.81 L146.366 545.93 Z\" fill=\"#000000\" fill-rule=\"nonzero\" fill-opacity=\"1\" /><path clip-path=\"url(#clip220)\" d=\"M171.436 520.328 Q167.825 520.328 165.996 523.893 Q164.19 527.435 164.19 534.564 Q164.19 541.671 165.996 545.236 Q167.825 548.777 171.436 548.777 Q175.07 548.777 176.876 545.236 Q178.704 541.671 178.704 534.564 Q178.704 527.435 176.876 523.893 Q175.07 520.328 171.436 520.328 M171.436 516.625 Q177.246 516.625 180.301 521.231 Q183.38 525.814 183.38 534.564 Q183.38 543.291 180.301 547.898 Q177.246 552.481 171.436 552.481 Q165.626 552.481 162.547 547.898 Q159.491 543.291 159.491 534.564 Q159.491 525.814 162.547 521.231 Q165.626 516.625 171.436 516.625 Z\" fill=\"#000000\" fill-rule=\"nonzero\" fill-opacity=\"1\" /><path clip-path=\"url(#clip220)\" d=\"M201.598 520.328 Q197.987 520.328 196.158 523.893 Q194.352 527.435 194.352 534.564 Q194.352 541.671 196.158 545.236 Q197.987 548.777 201.598 548.777 Q205.232 548.777 207.037 545.236 Q208.866 541.671 208.866 534.564 Q208.866 527.435 207.037 523.893 Q205.232 520.328 201.598 520.328 M201.598 516.625 Q207.408 516.625 210.463 521.231 Q213.542 525.814 213.542 534.564 Q213.542 543.291 210.463 547.898 Q207.408 552.481 201.598 552.481 Q195.787 552.481 192.709 547.898 Q189.653 543.291 189.653 534.564 Q189.653 525.814 192.709 521.231 Q195.787 516.625 201.598 516.625 Z\" fill=\"#000000\" fill-rule=\"nonzero\" fill-opacity=\"1\" /><path clip-path=\"url(#clip220)\" d=\"M231.76 520.328 Q228.148 520.328 226.32 523.893 Q224.514 527.435 224.514 534.564 Q224.514 541.671 226.32 545.236 Q228.148 548.777 231.76 548.777 Q235.394 548.777 237.199 545.236 Q239.028 541.671 239.028 534.564 Q239.028 527.435 237.199 523.893 Q235.394 520.328 231.76 520.328 M231.76 516.625 Q237.57 516.625 240.625 521.231 Q243.704 525.814 243.704 534.564 Q243.704 543.291 240.625 547.898 Q237.57 552.481 231.76 552.481 Q225.949 552.481 222.871 547.898 Q219.815 543.291 219.815 534.564 Q219.815 525.814 222.871 521.231 Q225.949 516.625 231.76 516.625 Z\" fill=\"#000000\" fill-rule=\"nonzero\" fill-opacity=\"1\" /><path clip-path=\"url(#clip220)\" d=\"M118.01 304.232 L125.649 304.232 L125.649 277.866 L117.339 279.533 L117.339 275.274 L125.603 273.607 L130.279 273.607 L130.279 304.232 L137.917 304.232 L137.917 308.167 L118.01 308.167 L118.01 304.232 Z\" fill=\"#000000\" fill-rule=\"nonzero\" fill-opacity=\"1\" /><path clip-path=\"url(#clip220)\" d=\"M147.362 302.287 L152.246 302.287 L152.246 308.167 L147.362 308.167 L147.362 302.287 Z\" fill=\"#000000\" fill-rule=\"nonzero\" fill-opacity=\"1\" /><path clip-path=\"url(#clip220)\" d=\"M172.431 276.686 Q168.82 276.686 166.991 280.25 Q165.186 283.792 165.186 290.922 Q165.186 298.028 166.991 301.593 Q168.82 305.135 172.431 305.135 Q176.065 305.135 177.871 301.593 Q179.7 298.028 179.7 290.922 Q179.7 283.792 177.871 280.25 Q176.065 276.686 172.431 276.686 M172.431 272.982 Q178.241 272.982 181.297 277.588 Q184.376 282.172 184.376 290.922 Q184.376 299.648 181.297 304.255 Q178.241 308.838 172.431 308.838 Q166.621 308.838 163.542 304.255 Q160.487 299.648 160.487 290.922 Q160.487 282.172 163.542 277.588 Q166.621 272.982 172.431 272.982 Z\" fill=\"#000000\" fill-rule=\"nonzero\" fill-opacity=\"1\" /><path clip-path=\"url(#clip220)\" d=\"M196.621 304.232 L212.94 304.232 L212.94 308.167 L190.996 308.167 L190.996 304.232 Q193.658 301.477 198.241 296.848 Q202.848 292.195 204.028 290.852 Q206.274 288.329 207.153 286.593 Q208.056 284.834 208.056 283.144 Q208.056 280.389 206.112 278.653 Q204.19 276.917 201.088 276.917 Q198.889 276.917 196.436 277.681 Q194.005 278.445 191.227 279.996 L191.227 275.274 Q194.051 274.139 196.505 273.561 Q198.959 272.982 200.996 272.982 Q206.366 272.982 209.561 275.667 Q212.755 278.352 212.755 282.843 Q212.755 284.973 211.945 286.894 Q211.158 288.792 209.051 291.385 Q208.473 292.056 205.371 295.273 Q202.269 298.468 196.621 304.232 Z\" fill=\"#000000\" fill-rule=\"nonzero\" fill-opacity=\"1\" /><path clip-path=\"url(#clip220)\" d=\"M222.801 273.607 L241.158 273.607 L241.158 277.542 L227.084 277.542 L227.084 286.014 Q228.102 285.667 229.121 285.505 Q230.139 285.32 231.158 285.32 Q236.945 285.32 240.324 288.491 Q243.704 291.662 243.704 297.079 Q243.704 302.658 240.232 305.76 Q236.76 308.838 230.44 308.838 Q228.264 308.838 225.996 308.468 Q223.75 308.097 221.343 307.357 L221.343 302.658 Q223.426 303.792 225.648 304.347 Q227.871 304.903 230.347 304.903 Q234.352 304.903 236.69 302.797 Q239.028 300.69 239.028 297.079 Q239.028 293.468 236.69 291.361 Q234.352 289.255 230.347 289.255 Q228.473 289.255 226.598 289.672 Q224.746 290.088 222.801 290.968 L222.801 273.607 Z\" fill=\"#000000\" fill-rule=\"nonzero\" fill-opacity=\"1\" /><path clip-path=\"url(#clip220)\" d=\"M33.8307 724.772 Q33.2578 725.759 33.0032 726.937 Q32.7167 728.082 32.7167 729.483 Q32.7167 734.448 35.9632 737.122 Q39.1779 739.763 45.2253 739.763 L64.0042 739.763 L64.0042 745.652 L28.3562 745.652 L28.3562 739.763 L33.8944 739.763 Q30.6479 737.917 29.0883 734.957 Q27.4968 731.997 27.4968 727.764 Q27.4968 727.159 27.5923 726.427 Q27.656 725.695 27.8151 724.804 L33.8307 724.772 Z\" fill=\"#000000\" fill-rule=\"nonzero\" fill-opacity=\"1\" /><line clip-path=\"url(#clip222)\" x1=\"2294.08\" y1=\"534.53\" x2=\"2294.08\" y2=\"518.53\" style=\"stroke:#009af9; stroke-width:3.2; stroke-opacity:1\"/>\n",
       "<line clip-path=\"url(#clip222)\" x1=\"2294.08\" y1=\"534.53\" x2=\"2278.08\" y2=\"534.53\" style=\"stroke:#009af9; stroke-width:3.2; stroke-opacity:1\"/>\n",
       "<line clip-path=\"url(#clip222)\" x1=\"2294.08\" y1=\"534.53\" x2=\"2294.08\" y2=\"550.53\" style=\"stroke:#009af9; stroke-width:3.2; stroke-opacity:1\"/>\n",
       "<line clip-path=\"url(#clip222)\" x1=\"2294.08\" y1=\"534.53\" x2=\"2310.08\" y2=\"534.53\" style=\"stroke:#009af9; stroke-width:3.2; stroke-opacity:1\"/>\n",
       "<line clip-path=\"url(#clip222)\" x1=\"1316.23\" y1=\"534.748\" x2=\"1316.23\" y2=\"518.748\" style=\"stroke:#009af9; stroke-width:3.2; stroke-opacity:1\"/>\n",
       "<line clip-path=\"url(#clip222)\" x1=\"1316.23\" y1=\"534.748\" x2=\"1300.23\" y2=\"534.748\" style=\"stroke:#009af9; stroke-width:3.2; stroke-opacity:1\"/>\n",
       "<line clip-path=\"url(#clip222)\" x1=\"1316.23\" y1=\"534.748\" x2=\"1316.23\" y2=\"550.748\" style=\"stroke:#009af9; stroke-width:3.2; stroke-opacity:1\"/>\n",
       "<line clip-path=\"url(#clip222)\" x1=\"1316.23\" y1=\"534.748\" x2=\"1332.23\" y2=\"534.748\" style=\"stroke:#009af9; stroke-width:3.2; stroke-opacity:1\"/>\n",
       "<line clip-path=\"url(#clip222)\" x1=\"2143.94\" y1=\"732.986\" x2=\"2143.94\" y2=\"716.986\" style=\"stroke:#009af9; stroke-width:3.2; stroke-opacity:1\"/>\n",
       "<line clip-path=\"url(#clip222)\" x1=\"2143.94\" y1=\"732.986\" x2=\"2127.94\" y2=\"732.986\" style=\"stroke:#009af9; stroke-width:3.2; stroke-opacity:1\"/>\n",
       "<line clip-path=\"url(#clip222)\" x1=\"2143.94\" y1=\"732.986\" x2=\"2143.94\" y2=\"748.986\" style=\"stroke:#009af9; stroke-width:3.2; stroke-opacity:1\"/>\n",
       "<line clip-path=\"url(#clip222)\" x1=\"2143.94\" y1=\"732.986\" x2=\"2159.94\" y2=\"732.986\" style=\"stroke:#009af9; stroke-width:3.2; stroke-opacity:1\"/>\n",
       "<line clip-path=\"url(#clip222)\" x1=\"488.523\" y1=\"732.986\" x2=\"488.523\" y2=\"716.986\" style=\"stroke:#009af9; stroke-width:3.2; stroke-opacity:1\"/>\n",
       "<line clip-path=\"url(#clip222)\" x1=\"488.523\" y1=\"732.986\" x2=\"472.523\" y2=\"732.986\" style=\"stroke:#009af9; stroke-width:3.2; stroke-opacity:1\"/>\n",
       "<line clip-path=\"url(#clip222)\" x1=\"488.523\" y1=\"732.986\" x2=\"488.523\" y2=\"748.986\" style=\"stroke:#009af9; stroke-width:3.2; stroke-opacity:1\"/>\n",
       "<line clip-path=\"url(#clip222)\" x1=\"488.523\" y1=\"732.986\" x2=\"504.523\" y2=\"732.986\" style=\"stroke:#009af9; stroke-width:3.2; stroke-opacity:1\"/>\n",
       "<line clip-path=\"url(#clip222)\" x1=\"1466.38\" y1=\"732.989\" x2=\"1466.38\" y2=\"716.989\" style=\"stroke:#009af9; stroke-width:3.2; stroke-opacity:1\"/>\n",
       "<line clip-path=\"url(#clip222)\" x1=\"1466.38\" y1=\"732.989\" x2=\"1450.38\" y2=\"732.989\" style=\"stroke:#009af9; stroke-width:3.2; stroke-opacity:1\"/>\n",
       "<line clip-path=\"url(#clip222)\" x1=\"1466.38\" y1=\"732.989\" x2=\"1466.38\" y2=\"748.989\" style=\"stroke:#009af9; stroke-width:3.2; stroke-opacity:1\"/>\n",
       "<line clip-path=\"url(#clip222)\" x1=\"1466.38\" y1=\"732.989\" x2=\"1482.38\" y2=\"732.989\" style=\"stroke:#009af9; stroke-width:3.2; stroke-opacity:1\"/>\n",
       "<line clip-path=\"url(#clip222)\" x1=\"1166.08\" y1=\"732.989\" x2=\"1166.08\" y2=\"716.989\" style=\"stroke:#009af9; stroke-width:3.2; stroke-opacity:1\"/>\n",
       "<line clip-path=\"url(#clip222)\" x1=\"1166.08\" y1=\"732.989\" x2=\"1150.08\" y2=\"732.989\" style=\"stroke:#009af9; stroke-width:3.2; stroke-opacity:1\"/>\n",
       "<line clip-path=\"url(#clip222)\" x1=\"1166.08\" y1=\"732.989\" x2=\"1166.08\" y2=\"748.989\" style=\"stroke:#009af9; stroke-width:3.2; stroke-opacity:1\"/>\n",
       "<line clip-path=\"url(#clip222)\" x1=\"1166.08\" y1=\"732.989\" x2=\"1182.08\" y2=\"732.989\" style=\"stroke:#009af9; stroke-width:3.2; stroke-opacity:1\"/>\n",
       "<line clip-path=\"url(#clip222)\" x1=\"338.375\" y1=\"772.63\" x2=\"338.375\" y2=\"756.63\" style=\"stroke:#009af9; stroke-width:3.2; stroke-opacity:1\"/>\n",
       "<line clip-path=\"url(#clip222)\" x1=\"338.375\" y1=\"772.63\" x2=\"322.375\" y2=\"772.63\" style=\"stroke:#009af9; stroke-width:3.2; stroke-opacity:1\"/>\n",
       "<line clip-path=\"url(#clip222)\" x1=\"338.375\" y1=\"772.63\" x2=\"338.375\" y2=\"788.63\" style=\"stroke:#009af9; stroke-width:3.2; stroke-opacity:1\"/>\n",
       "<line clip-path=\"url(#clip222)\" x1=\"338.375\" y1=\"772.63\" x2=\"354.375\" y2=\"772.63\" style=\"stroke:#009af9; stroke-width:3.2; stroke-opacity:1\"/>\n",
       "<line clip-path=\"url(#clip222)\" x1=\"1316.23\" y1=\"775.48\" x2=\"1316.23\" y2=\"759.48\" style=\"stroke:#009af9; stroke-width:3.2; stroke-opacity:1\"/>\n",
       "<line clip-path=\"url(#clip222)\" x1=\"1316.23\" y1=\"775.48\" x2=\"1300.23\" y2=\"775.48\" style=\"stroke:#009af9; stroke-width:3.2; stroke-opacity:1\"/>\n",
       "<line clip-path=\"url(#clip222)\" x1=\"1316.23\" y1=\"775.48\" x2=\"1316.23\" y2=\"791.48\" style=\"stroke:#009af9; stroke-width:3.2; stroke-opacity:1\"/>\n",
       "<line clip-path=\"url(#clip222)\" x1=\"1316.23\" y1=\"775.48\" x2=\"1332.23\" y2=\"775.48\" style=\"stroke:#009af9; stroke-width:3.2; stroke-opacity:1\"/>\n",
       "<line clip-path=\"url(#clip222)\" x1=\"832.191\" y1=\"1154.85\" x2=\"832.191\" y2=\"1138.85\" style=\"stroke:#009af9; stroke-width:3.2; stroke-opacity:1\"/>\n",
       "<line clip-path=\"url(#clip222)\" x1=\"832.191\" y1=\"1154.85\" x2=\"816.191\" y2=\"1154.85\" style=\"stroke:#009af9; stroke-width:3.2; stroke-opacity:1\"/>\n",
       "<line clip-path=\"url(#clip222)\" x1=\"832.191\" y1=\"1154.85\" x2=\"832.191\" y2=\"1170.85\" style=\"stroke:#009af9; stroke-width:3.2; stroke-opacity:1\"/>\n",
       "<line clip-path=\"url(#clip222)\" x1=\"832.191\" y1=\"1154.85\" x2=\"848.191\" y2=\"1154.85\" style=\"stroke:#009af9; stroke-width:3.2; stroke-opacity:1\"/>\n",
       "<line clip-path=\"url(#clip222)\" x1=\"1800.27\" y1=\"1154.85\" x2=\"1800.27\" y2=\"1138.85\" style=\"stroke:#009af9; stroke-width:3.2; stroke-opacity:1\"/>\n",
       "<line clip-path=\"url(#clip222)\" x1=\"1800.27\" y1=\"1154.85\" x2=\"1784.27\" y2=\"1154.85\" style=\"stroke:#009af9; stroke-width:3.2; stroke-opacity:1\"/>\n",
       "<line clip-path=\"url(#clip222)\" x1=\"1800.27\" y1=\"1154.85\" x2=\"1800.27\" y2=\"1170.85\" style=\"stroke:#009af9; stroke-width:3.2; stroke-opacity:1\"/>\n",
       "<line clip-path=\"url(#clip222)\" x1=\"1800.27\" y1=\"1154.85\" x2=\"1816.27\" y2=\"1154.85\" style=\"stroke:#009af9; stroke-width:3.2; stroke-opacity:1\"/>\n",
       "<line clip-path=\"url(#clip222)\" x1=\"1810.05\" y1=\"1154.86\" x2=\"1810.05\" y2=\"1138.86\" style=\"stroke:#009af9; stroke-width:3.2; stroke-opacity:1\"/>\n",
       "<line clip-path=\"url(#clip222)\" x1=\"1810.05\" y1=\"1154.86\" x2=\"1794.05\" y2=\"1154.86\" style=\"stroke:#009af9; stroke-width:3.2; stroke-opacity:1\"/>\n",
       "<line clip-path=\"url(#clip222)\" x1=\"1810.05\" y1=\"1154.86\" x2=\"1810.05\" y2=\"1170.86\" style=\"stroke:#009af9; stroke-width:3.2; stroke-opacity:1\"/>\n",
       "<line clip-path=\"url(#clip222)\" x1=\"1810.05\" y1=\"1154.86\" x2=\"1826.05\" y2=\"1154.86\" style=\"stroke:#009af9; stroke-width:3.2; stroke-opacity:1\"/>\n",
       "<line clip-path=\"url(#clip222)\" x1=\"822.414\" y1=\"1154.86\" x2=\"822.414\" y2=\"1138.86\" style=\"stroke:#009af9; stroke-width:3.2; stroke-opacity:1\"/>\n",
       "<line clip-path=\"url(#clip222)\" x1=\"822.414\" y1=\"1154.86\" x2=\"806.414\" y2=\"1154.86\" style=\"stroke:#009af9; stroke-width:3.2; stroke-opacity:1\"/>\n",
       "<line clip-path=\"url(#clip222)\" x1=\"822.414\" y1=\"1154.86\" x2=\"822.414\" y2=\"1170.86\" style=\"stroke:#009af9; stroke-width:3.2; stroke-opacity:1\"/>\n",
       "<line clip-path=\"url(#clip222)\" x1=\"822.414\" y1=\"1154.86\" x2=\"838.414\" y2=\"1154.86\" style=\"stroke:#009af9; stroke-width:3.2; stroke-opacity:1\"/>\n",
       "<line clip-path=\"url(#clip222)\" x1=\"1646.55\" y1=\"1339.41\" x2=\"1646.55\" y2=\"1323.41\" style=\"stroke:#009af9; stroke-width:3.2; stroke-opacity:1\"/>\n",
       "<line clip-path=\"url(#clip222)\" x1=\"1646.55\" y1=\"1339.41\" x2=\"1630.55\" y2=\"1339.41\" style=\"stroke:#009af9; stroke-width:3.2; stroke-opacity:1\"/>\n",
       "<line clip-path=\"url(#clip222)\" x1=\"1646.55\" y1=\"1339.41\" x2=\"1646.55\" y2=\"1355.41\" style=\"stroke:#009af9; stroke-width:3.2; stroke-opacity:1\"/>\n",
       "<line clip-path=\"url(#clip222)\" x1=\"1646.55\" y1=\"1339.41\" x2=\"1662.55\" y2=\"1339.41\" style=\"stroke:#009af9; stroke-width:3.2; stroke-opacity:1\"/>\n",
       "<line clip-path=\"url(#clip222)\" x1=\"985.907\" y1=\"1339.41\" x2=\"985.907\" y2=\"1323.41\" style=\"stroke:#009af9; stroke-width:3.2; stroke-opacity:1\"/>\n",
       "<line clip-path=\"url(#clip222)\" x1=\"985.907\" y1=\"1339.41\" x2=\"969.907\" y2=\"1339.41\" style=\"stroke:#009af9; stroke-width:3.2; stroke-opacity:1\"/>\n",
       "<line clip-path=\"url(#clip222)\" x1=\"985.907\" y1=\"1339.41\" x2=\"985.907\" y2=\"1355.41\" style=\"stroke:#009af9; stroke-width:3.2; stroke-opacity:1\"/>\n",
       "<line clip-path=\"url(#clip222)\" x1=\"985.907\" y1=\"1339.41\" x2=\"1001.91\" y2=\"1339.41\" style=\"stroke:#009af9; stroke-width:3.2; stroke-opacity:1\"/>\n",
       "<line clip-path=\"url(#clip222)\" x1=\"668.7\" y1=\"1339.47\" x2=\"668.7\" y2=\"1323.47\" style=\"stroke:#009af9; stroke-width:3.2; stroke-opacity:1\"/>\n",
       "<line clip-path=\"url(#clip222)\" x1=\"668.7\" y1=\"1339.47\" x2=\"652.7\" y2=\"1339.47\" style=\"stroke:#009af9; stroke-width:3.2; stroke-opacity:1\"/>\n",
       "<line clip-path=\"url(#clip222)\" x1=\"668.7\" y1=\"1339.47\" x2=\"668.7\" y2=\"1355.47\" style=\"stroke:#009af9; stroke-width:3.2; stroke-opacity:1\"/>\n",
       "<line clip-path=\"url(#clip222)\" x1=\"668.7\" y1=\"1339.47\" x2=\"684.7\" y2=\"1339.47\" style=\"stroke:#009af9; stroke-width:3.2; stroke-opacity:1\"/>\n",
       "<line clip-path=\"url(#clip222)\" x1=\"1963.76\" y1=\"1339.47\" x2=\"1963.76\" y2=\"1323.47\" style=\"stroke:#009af9; stroke-width:3.2; stroke-opacity:1\"/>\n",
       "<line clip-path=\"url(#clip222)\" x1=\"1963.76\" y1=\"1339.47\" x2=\"1947.76\" y2=\"1339.47\" style=\"stroke:#009af9; stroke-width:3.2; stroke-opacity:1\"/>\n",
       "<line clip-path=\"url(#clip222)\" x1=\"1963.76\" y1=\"1339.47\" x2=\"1963.76\" y2=\"1355.47\" style=\"stroke:#009af9; stroke-width:3.2; stroke-opacity:1\"/>\n",
       "<line clip-path=\"url(#clip222)\" x1=\"1963.76\" y1=\"1339.47\" x2=\"1979.76\" y2=\"1339.47\" style=\"stroke:#009af9; stroke-width:3.2; stroke-opacity:1\"/>\n",
       "<line clip-path=\"url(#clip222)\" x1=\"1948.14\" y1=\"1360.48\" x2=\"1948.14\" y2=\"1344.48\" style=\"stroke:#009af9; stroke-width:3.2; stroke-opacity:1\"/>\n",
       "<line clip-path=\"url(#clip222)\" x1=\"1948.14\" y1=\"1360.48\" x2=\"1932.14\" y2=\"1360.48\" style=\"stroke:#009af9; stroke-width:3.2; stroke-opacity:1\"/>\n",
       "<line clip-path=\"url(#clip222)\" x1=\"1948.14\" y1=\"1360.48\" x2=\"1948.14\" y2=\"1376.48\" style=\"stroke:#009af9; stroke-width:3.2; stroke-opacity:1\"/>\n",
       "<line clip-path=\"url(#clip222)\" x1=\"1948.14\" y1=\"1360.48\" x2=\"1964.14\" y2=\"1360.48\" style=\"stroke:#009af9; stroke-width:3.2; stroke-opacity:1\"/>\n",
       "<line clip-path=\"url(#clip222)\" x1=\"684.324\" y1=\"1360.48\" x2=\"684.324\" y2=\"1344.48\" style=\"stroke:#009af9; stroke-width:3.2; stroke-opacity:1\"/>\n",
       "<line clip-path=\"url(#clip222)\" x1=\"684.324\" y1=\"1360.48\" x2=\"668.324\" y2=\"1360.48\" style=\"stroke:#009af9; stroke-width:3.2; stroke-opacity:1\"/>\n",
       "<line clip-path=\"url(#clip222)\" x1=\"684.324\" y1=\"1360.48\" x2=\"684.324\" y2=\"1376.48\" style=\"stroke:#009af9; stroke-width:3.2; stroke-opacity:1\"/>\n",
       "<line clip-path=\"url(#clip222)\" x1=\"684.324\" y1=\"1360.48\" x2=\"700.324\" y2=\"1360.48\" style=\"stroke:#009af9; stroke-width:3.2; stroke-opacity:1\"/>\n",
       "<line clip-path=\"url(#clip222)\" x1=\"1662.19\" y1=\"1360.54\" x2=\"1662.19\" y2=\"1344.54\" style=\"stroke:#009af9; stroke-width:3.2; stroke-opacity:1\"/>\n",
       "<line clip-path=\"url(#clip222)\" x1=\"1662.19\" y1=\"1360.54\" x2=\"1646.19\" y2=\"1360.54\" style=\"stroke:#009af9; stroke-width:3.2; stroke-opacity:1\"/>\n",
       "<line clip-path=\"url(#clip222)\" x1=\"1662.19\" y1=\"1360.54\" x2=\"1662.19\" y2=\"1376.54\" style=\"stroke:#009af9; stroke-width:3.2; stroke-opacity:1\"/>\n",
       "<line clip-path=\"url(#clip222)\" x1=\"1662.19\" y1=\"1360.54\" x2=\"1678.19\" y2=\"1360.54\" style=\"stroke:#009af9; stroke-width:3.2; stroke-opacity:1\"/>\n",
       "<line clip-path=\"url(#clip222)\" x1=\"970.273\" y1=\"1360.54\" x2=\"970.273\" y2=\"1344.54\" style=\"stroke:#009af9; stroke-width:3.2; stroke-opacity:1\"/>\n",
       "<line clip-path=\"url(#clip222)\" x1=\"970.273\" y1=\"1360.54\" x2=\"954.273\" y2=\"1360.54\" style=\"stroke:#009af9; stroke-width:3.2; stroke-opacity:1\"/>\n",
       "<line clip-path=\"url(#clip222)\" x1=\"970.273\" y1=\"1360.54\" x2=\"970.273\" y2=\"1376.54\" style=\"stroke:#009af9; stroke-width:3.2; stroke-opacity:1\"/>\n",
       "<line clip-path=\"url(#clip222)\" x1=\"970.273\" y1=\"1360.54\" x2=\"986.273\" y2=\"1360.54\" style=\"stroke:#009af9; stroke-width:3.2; stroke-opacity:1\"/>\n",
       "<line clip-path=\"url(#clip222)\" x1=\"1827.4\" y1=\"1423.18\" x2=\"1827.4\" y2=\"1407.18\" style=\"stroke:#009af9; stroke-width:3.2; stroke-opacity:1\"/>\n",
       "<line clip-path=\"url(#clip222)\" x1=\"1827.4\" y1=\"1423.18\" x2=\"1811.4\" y2=\"1423.18\" style=\"stroke:#009af9; stroke-width:3.2; stroke-opacity:1\"/>\n",
       "<line clip-path=\"url(#clip222)\" x1=\"1827.4\" y1=\"1423.18\" x2=\"1827.4\" y2=\"1439.18\" style=\"stroke:#009af9; stroke-width:3.2; stroke-opacity:1\"/>\n",
       "<line clip-path=\"url(#clip222)\" x1=\"1827.4\" y1=\"1423.18\" x2=\"1843.4\" y2=\"1423.18\" style=\"stroke:#009af9; stroke-width:3.2; stroke-opacity:1\"/>\n",
       "<line clip-path=\"url(#clip222)\" x1=\"805.061\" y1=\"1423.18\" x2=\"805.061\" y2=\"1407.18\" style=\"stroke:#009af9; stroke-width:3.2; stroke-opacity:1\"/>\n",
       "<line clip-path=\"url(#clip222)\" x1=\"805.061\" y1=\"1423.18\" x2=\"789.061\" y2=\"1423.18\" style=\"stroke:#009af9; stroke-width:3.2; stroke-opacity:1\"/>\n",
       "<line clip-path=\"url(#clip222)\" x1=\"805.061\" y1=\"1423.18\" x2=\"805.061\" y2=\"1439.18\" style=\"stroke:#009af9; stroke-width:3.2; stroke-opacity:1\"/>\n",
       "<line clip-path=\"url(#clip222)\" x1=\"805.061\" y1=\"1423.18\" x2=\"821.061\" y2=\"1423.18\" style=\"stroke:#009af9; stroke-width:3.2; stroke-opacity:1\"/>\n",
       "<path clip-path=\"url(#clip220)\" d=\"M1905.19 196.789 L2283.65 196.789 L2283.65 93.1086 L1905.19 93.1086  Z\" fill=\"#ffffff\" fill-rule=\"evenodd\" fill-opacity=\"1\"/>\n",
       "<polyline clip-path=\"url(#clip220)\" style=\"stroke:#000000; stroke-linecap:round; stroke-linejoin:round; stroke-width:4; stroke-opacity:1; fill:none\" points=\"1905.19,196.789 2283.65,196.789 2283.65,93.1086 1905.19,93.1086 1905.19,196.789 \"/>\n",
       "<line clip-path=\"url(#clip220)\" x1=\"1997.33\" y1=\"144.949\" x2=\"1997.33\" y2=\"122.193\" style=\"stroke:#009af9; stroke-width:4.55111; stroke-opacity:1\"/>\n",
       "<line clip-path=\"url(#clip220)\" x1=\"1997.33\" y1=\"144.949\" x2=\"1974.57\" y2=\"144.949\" style=\"stroke:#009af9; stroke-width:4.55111; stroke-opacity:1\"/>\n",
       "<line clip-path=\"url(#clip220)\" x1=\"1997.33\" y1=\"144.949\" x2=\"1997.33\" y2=\"167.704\" style=\"stroke:#009af9; stroke-width:4.55111; stroke-opacity:1\"/>\n",
       "<line clip-path=\"url(#clip220)\" x1=\"1997.33\" y1=\"144.949\" x2=\"2020.08\" y2=\"144.949\" style=\"stroke:#009af9; stroke-width:4.55111; stroke-opacity:1\"/>\n",
       "<path clip-path=\"url(#clip220)\" d=\"M2089.46 127.669 L2118.7 127.669 L2118.7 131.604 L2106.43 131.604 L2106.43 162.229 L2101.73 162.229 L2101.73 131.604 L2089.46 131.604 L2089.46 127.669 Z\" fill=\"#000000\" fill-rule=\"nonzero\" fill-opacity=\"1\" /><path clip-path=\"url(#clip220)\" d=\"M2131.08 140.284 Q2130.37 139.868 2129.51 139.682 Q2128.68 139.474 2127.66 139.474 Q2124.05 139.474 2122.1 141.835 Q2120.18 144.173 2120.18 148.571 L2120.18 162.229 L2115.9 162.229 L2115.9 136.303 L2120.18 136.303 L2120.18 140.331 Q2121.52 137.969 2123.68 136.835 Q2125.83 135.678 2128.91 135.678 Q2129.35 135.678 2129.88 135.747 Q2130.41 135.794 2131.06 135.909 L2131.08 140.284 Z\" fill=\"#000000\" fill-rule=\"nonzero\" fill-opacity=\"1\" /><path clip-path=\"url(#clip220)\" d=\"M2135.55 136.303 L2139.81 136.303 L2139.81 162.229 L2135.55 162.229 L2135.55 136.303 M2135.55 126.21 L2139.81 126.21 L2139.81 131.604 L2135.55 131.604 L2135.55 126.21 Z\" fill=\"#000000\" fill-rule=\"nonzero\" fill-opacity=\"1\" /><path clip-path=\"url(#clip220)\" d=\"M2145.67 136.303 L2150.18 136.303 L2158.28 158.062 L2166.38 136.303 L2170.9 136.303 L2161.18 162.229 L2155.39 162.229 L2145.67 136.303 Z\" fill=\"#000000\" fill-rule=\"nonzero\" fill-opacity=\"1\" /><path clip-path=\"url(#clip220)\" d=\"M2176.78 136.303 L2181.04 136.303 L2181.04 162.229 L2176.78 162.229 L2176.78 136.303 M2176.78 126.21 L2181.04 126.21 L2181.04 131.604 L2176.78 131.604 L2176.78 126.21 Z\" fill=\"#000000\" fill-rule=\"nonzero\" fill-opacity=\"1\" /><path clip-path=\"url(#clip220)\" d=\"M2201.73 149.196 Q2196.57 149.196 2194.58 150.377 Q2192.59 151.557 2192.59 154.405 Q2192.59 156.673 2194.07 158.016 Q2195.57 159.335 2198.14 159.335 Q2201.69 159.335 2203.82 156.835 Q2205.97 154.312 2205.97 150.145 L2205.97 149.196 L2201.73 149.196 M2210.23 147.437 L2210.23 162.229 L2205.97 162.229 L2205.97 158.293 Q2204.51 160.655 2202.33 161.789 Q2200.16 162.9 2197.01 162.9 Q2193.03 162.9 2190.67 160.678 Q2188.33 158.432 2188.33 154.682 Q2188.33 150.307 2191.25 148.085 Q2194.19 145.863 2200 145.863 L2205.97 145.863 L2205.97 145.446 Q2205.97 142.507 2204.02 140.909 Q2202.1 139.289 2198.61 139.289 Q2196.38 139.289 2194.28 139.821 Q2192.17 140.354 2190.23 141.419 L2190.23 137.483 Q2192.57 136.581 2194.76 136.141 Q2196.96 135.678 2199.05 135.678 Q2204.67 135.678 2207.45 138.594 Q2210.23 141.511 2210.23 147.437 Z\" fill=\"#000000\" fill-rule=\"nonzero\" fill-opacity=\"1\" /><path clip-path=\"url(#clip220)\" d=\"M2219 126.21 L2223.26 126.21 L2223.26 162.229 L2219 162.229 L2219 126.21 Z\" fill=\"#000000\" fill-rule=\"nonzero\" fill-opacity=\"1\" /><path clip-path=\"url(#clip220)\" d=\"M2242.4 126.257 Q2239.3 131.581 2237.8 136.789 Q2236.29 141.997 2236.29 147.344 Q2236.29 152.692 2237.8 157.946 Q2239.32 163.178 2242.4 168.479 L2238.7 168.479 Q2235.23 163.039 2233.49 157.784 Q2231.78 152.53 2231.78 147.344 Q2231.78 142.182 2233.49 136.951 Q2235.2 131.72 2238.7 126.257 L2242.4 126.257 Z\" fill=\"#000000\" fill-rule=\"nonzero\" fill-opacity=\"1\" /><path clip-path=\"url(#clip220)\" d=\"M2250 126.257 L2253.7 126.257 Q2257.17 131.72 2258.88 136.951 Q2260.62 142.182 2260.62 147.344 Q2260.62 152.53 2258.88 157.784 Q2257.17 163.039 2253.7 168.479 L2250 168.479 Q2253.07 163.178 2254.58 157.946 Q2256.11 152.692 2256.11 147.344 Q2256.11 141.997 2254.58 136.789 Q2253.07 131.581 2250 126.257 Z\" fill=\"#000000\" fill-rule=\"nonzero\" fill-opacity=\"1\" /></svg>\n"
      ],
      "text/html": [
       "<?xml version=\"1.0\" encoding=\"utf-8\"?>\n",
       "<svg xmlns=\"http://www.w3.org/2000/svg\" xmlns:xlink=\"http://www.w3.org/1999/xlink\" width=\"600\" height=\"400\" viewBox=\"0 0 2400 1600\">\n",
       "<defs>\n",
       "  <clipPath id=\"clip270\">\n",
       "    <rect x=\"0\" y=\"0\" width=\"2400\" height=\"1600\"/>\n",
       "  </clipPath>\n",
       "</defs>\n",
       "<path clip-path=\"url(#clip270)\" d=\"M0 1600 L2400 1600 L2400 0 L0 0  Z\" fill=\"#ffffff\" fill-rule=\"evenodd\" fill-opacity=\"1\"/>\n",
       "<defs>\n",
       "  <clipPath id=\"clip271\">\n",
       "    <rect x=\"480\" y=\"0\" width=\"1681\" height=\"1600\"/>\n",
       "  </clipPath>\n",
       "</defs>\n",
       "<path clip-path=\"url(#clip270)\" d=\"M279.704 1423.18 L2352.76 1423.18 L2352.76 47.2441 L279.704 47.2441  Z\" fill=\"#ffffff\" fill-rule=\"evenodd\" fill-opacity=\"1\"/>\n",
       "<defs>\n",
       "  <clipPath id=\"clip272\">\n",
       "    <rect x=\"279\" y=\"47\" width=\"2074\" height=\"1377\"/>\n",
       "  </clipPath>\n",
       "</defs>\n",
       "<polyline clip-path=\"url(#clip272)\" style=\"stroke:#000000; stroke-linecap:round; stroke-linejoin:round; stroke-width:2; stroke-opacity:0.1; fill:none\" points=\"338.375,1423.18 338.375,47.2441 \"/>\n",
       "<polyline clip-path=\"url(#clip272)\" style=\"stroke:#000000; stroke-linecap:round; stroke-linejoin:round; stroke-width:2; stroke-opacity:0.1; fill:none\" points=\"664.327,1423.18 664.327,47.2441 \"/>\n",
       "<polyline clip-path=\"url(#clip272)\" style=\"stroke:#000000; stroke-linecap:round; stroke-linejoin:round; stroke-width:2; stroke-opacity:0.1; fill:none\" points=\"990.278,1423.18 990.278,47.2441 \"/>\n",
       "<polyline clip-path=\"url(#clip272)\" style=\"stroke:#000000; stroke-linecap:round; stroke-linejoin:round; stroke-width:2; stroke-opacity:0.1; fill:none\" points=\"1316.23,1423.18 1316.23,47.2441 \"/>\n",
       "<polyline clip-path=\"url(#clip272)\" style=\"stroke:#000000; stroke-linecap:round; stroke-linejoin:round; stroke-width:2; stroke-opacity:0.1; fill:none\" points=\"1642.18,1423.18 1642.18,47.2441 \"/>\n",
       "<polyline clip-path=\"url(#clip272)\" style=\"stroke:#000000; stroke-linecap:round; stroke-linejoin:round; stroke-width:2; stroke-opacity:0.1; fill:none\" points=\"1968.13,1423.18 1968.13,47.2441 \"/>\n",
       "<polyline clip-path=\"url(#clip272)\" style=\"stroke:#000000; stroke-linecap:round; stroke-linejoin:round; stroke-width:2; stroke-opacity:0.1; fill:none\" points=\"2294.08,1423.18 2294.08,47.2441 \"/>\n",
       "<polyline clip-path=\"url(#clip270)\" style=\"stroke:#000000; stroke-linecap:round; stroke-linejoin:round; stroke-width:4; stroke-opacity:1; fill:none\" points=\"279.704,1423.18 2352.76,1423.18 \"/>\n",
       "<polyline clip-path=\"url(#clip270)\" style=\"stroke:#000000; stroke-linecap:round; stroke-linejoin:round; stroke-width:4; stroke-opacity:1; fill:none\" points=\"338.375,1423.18 338.375,1404.28 \"/>\n",
       "<polyline clip-path=\"url(#clip270)\" style=\"stroke:#000000; stroke-linecap:round; stroke-linejoin:round; stroke-width:4; stroke-opacity:1; fill:none\" points=\"664.327,1423.18 664.327,1404.28 \"/>\n",
       "<polyline clip-path=\"url(#clip270)\" style=\"stroke:#000000; stroke-linecap:round; stroke-linejoin:round; stroke-width:4; stroke-opacity:1; fill:none\" points=\"990.278,1423.18 990.278,1404.28 \"/>\n",
       "<polyline clip-path=\"url(#clip270)\" style=\"stroke:#000000; stroke-linecap:round; stroke-linejoin:round; stroke-width:4; stroke-opacity:1; fill:none\" points=\"1316.23,1423.18 1316.23,1404.28 \"/>\n",
       "<polyline clip-path=\"url(#clip270)\" style=\"stroke:#000000; stroke-linecap:round; stroke-linejoin:round; stroke-width:4; stroke-opacity:1; fill:none\" points=\"1642.18,1423.18 1642.18,1404.28 \"/>\n",
       "<polyline clip-path=\"url(#clip270)\" style=\"stroke:#000000; stroke-linecap:round; stroke-linejoin:round; stroke-width:4; stroke-opacity:1; fill:none\" points=\"1968.13,1423.18 1968.13,1404.28 \"/>\n",
       "<polyline clip-path=\"url(#clip270)\" style=\"stroke:#000000; stroke-linecap:round; stroke-linejoin:round; stroke-width:4; stroke-opacity:1; fill:none\" points=\"2294.08,1423.18 2294.08,1404.28 \"/>\n",
       "<path clip-path=\"url(#clip270)\" d=\"M292.137 1454.1 Q288.526 1454.1 286.697 1457.66 Q284.892 1461.2 284.892 1468.33 Q284.892 1475.44 286.697 1479.01 Q288.526 1482.55 292.137 1482.55 Q295.771 1482.55 297.577 1479.01 Q299.405 1475.44 299.405 1468.33 Q299.405 1461.2 297.577 1457.66 Q295.771 1454.1 292.137 1454.1 M292.137 1450.39 Q297.947 1450.39 301.003 1455 Q304.081 1459.58 304.081 1468.33 Q304.081 1477.06 301.003 1481.67 Q297.947 1486.25 292.137 1486.25 Q286.327 1486.25 283.248 1481.67 Q280.193 1477.06 280.193 1468.33 Q280.193 1459.58 283.248 1455 Q286.327 1450.39 292.137 1450.39 Z\" fill=\"#000000\" fill-rule=\"nonzero\" fill-opacity=\"1\" /><path clip-path=\"url(#clip270)\" d=\"M319.266 1451.02 L323.202 1451.02 L311.165 1489.98 L307.23 1489.98 L319.266 1451.02 Z\" fill=\"#000000\" fill-rule=\"nonzero\" fill-opacity=\"1\" /><path clip-path=\"url(#clip270)\" d=\"M335.239 1451.02 L339.174 1451.02 L327.137 1489.98 L323.202 1489.98 L335.239 1451.02 Z\" fill=\"#000000\" fill-rule=\"nonzero\" fill-opacity=\"1\" /><path clip-path=\"url(#clip270)\" d=\"M345.053 1481.64 L352.692 1481.64 L352.692 1455.28 L344.382 1456.95 L344.382 1452.69 L352.646 1451.02 L357.322 1451.02 L357.322 1481.64 L364.961 1481.64 L364.961 1485.58 L345.053 1485.58 L345.053 1481.64 Z\" fill=\"#000000\" fill-rule=\"nonzero\" fill-opacity=\"1\" /><path clip-path=\"url(#clip270)\" d=\"M371.049 1459.65 L395.886 1459.65 L395.886 1463.91 L392.623 1463.91 L392.623 1479.84 Q392.623 1481.51 393.178 1482.25 Q393.757 1482.96 395.03 1482.96 Q395.377 1482.96 395.886 1482.92 Q396.396 1482.85 396.558 1482.83 L396.558 1485.9 Q395.748 1486.2 394.891 1486.34 Q394.035 1486.48 393.178 1486.48 Q390.4 1486.48 389.336 1484.98 Q388.271 1483.45 388.271 1479.38 L388.271 1463.91 L378.711 1463.91 L378.711 1485.58 L374.359 1485.58 L374.359 1463.91 L371.049 1463.91 L371.049 1459.65 Z\" fill=\"#000000\" fill-rule=\"nonzero\" fill-opacity=\"1\" /><path clip-path=\"url(#clip270)\" d=\"M607.857 1481.64 L615.496 1481.64 L615.496 1455.28 L607.186 1456.95 L607.186 1452.69 L615.45 1451.02 L620.126 1451.02 L620.126 1481.64 L627.764 1481.64 L627.764 1485.58 L607.857 1485.58 L607.857 1481.64 Z\" fill=\"#000000\" fill-rule=\"nonzero\" fill-opacity=\"1\" /><path clip-path=\"url(#clip270)\" d=\"M644.176 1451.02 L648.112 1451.02 L636.075 1489.98 L632.139 1489.98 L644.176 1451.02 Z\" fill=\"#000000\" fill-rule=\"nonzero\" fill-opacity=\"1\" /><path clip-path=\"url(#clip270)\" d=\"M660.149 1451.02 L664.084 1451.02 L652.047 1489.98 L648.112 1489.98 L660.149 1451.02 Z\" fill=\"#000000\" fill-rule=\"nonzero\" fill-opacity=\"1\" /><path clip-path=\"url(#clip270)\" d=\"M683.32 1466.95 Q686.676 1467.66 688.551 1469.93 Q690.449 1472.2 690.449 1475.53 Q690.449 1480.65 686.931 1483.45 Q683.412 1486.25 676.931 1486.25 Q674.755 1486.25 672.44 1485.81 Q670.148 1485.39 667.695 1484.54 L667.695 1480.02 Q669.639 1481.16 671.954 1481.74 Q674.269 1482.32 676.792 1482.32 Q681.19 1482.32 683.482 1480.58 Q685.797 1478.84 685.797 1475.53 Q685.797 1472.48 683.644 1470.77 Q681.514 1469.03 677.695 1469.03 L673.667 1469.03 L673.667 1465.19 L677.88 1465.19 Q681.329 1465.19 683.158 1463.82 Q684.986 1462.43 684.986 1459.84 Q684.986 1457.18 683.088 1455.77 Q681.213 1454.33 677.695 1454.33 Q675.773 1454.33 673.574 1454.75 Q671.375 1455.16 668.736 1456.04 L668.736 1451.88 Q671.398 1451.14 673.713 1450.77 Q676.051 1450.39 678.111 1450.39 Q683.435 1450.39 686.537 1452.83 Q689.639 1455.23 689.639 1459.35 Q689.639 1462.22 687.996 1464.21 Q686.352 1466.18 683.32 1466.95 Z\" fill=\"#000000\" fill-rule=\"nonzero\" fill-opacity=\"1\" /><path clip-path=\"url(#clip270)\" d=\"M695.959 1459.65 L720.796 1459.65 L720.796 1463.91 L717.532 1463.91 L717.532 1479.84 Q717.532 1481.51 718.088 1482.25 Q718.667 1482.96 719.94 1482.96 Q720.287 1482.96 720.796 1482.92 Q721.306 1482.85 721.468 1482.83 L721.468 1485.9 Q720.657 1486.2 719.801 1486.34 Q718.945 1486.48 718.088 1486.48 Q715.31 1486.48 714.245 1484.98 Q713.181 1483.45 713.181 1479.38 L713.181 1463.91 L703.621 1463.91 L703.621 1485.58 L699.269 1485.58 L699.269 1463.91 L695.959 1463.91 L695.959 1459.65 Z\" fill=\"#000000\" fill-rule=\"nonzero\" fill-opacity=\"1\" /><path clip-path=\"url(#clip270)\" d=\"M937.894 1481.64 L954.214 1481.64 L954.214 1485.58 L932.269 1485.58 L932.269 1481.64 Q934.931 1478.89 939.515 1474.26 Q944.121 1469.61 945.302 1468.27 Q947.547 1465.74 948.427 1464.01 Q949.329 1462.25 949.329 1460.56 Q949.329 1457.8 947.385 1456.07 Q945.464 1454.33 942.362 1454.33 Q940.163 1454.33 937.709 1455.09 Q935.279 1455.86 932.501 1457.41 L932.501 1452.69 Q935.325 1451.55 937.779 1450.97 Q940.232 1450.39 942.269 1450.39 Q947.64 1450.39 950.834 1453.08 Q954.029 1455.77 954.029 1460.26 Q954.029 1462.39 953.218 1464.31 Q952.431 1466.2 950.325 1468.8 Q949.746 1469.47 946.644 1472.69 Q943.542 1475.88 937.894 1481.64 Z\" fill=\"#000000\" fill-rule=\"nonzero\" fill-opacity=\"1\" /><path clip-path=\"url(#clip270)\" d=\"M970.996 1451.02 L974.931 1451.02 L962.894 1489.98 L958.959 1489.98 L970.996 1451.02 Z\" fill=\"#000000\" fill-rule=\"nonzero\" fill-opacity=\"1\" /><path clip-path=\"url(#clip270)\" d=\"M986.968 1451.02 L990.903 1451.02 L978.866 1489.98 L974.931 1489.98 L986.968 1451.02 Z\" fill=\"#000000\" fill-rule=\"nonzero\" fill-opacity=\"1\" /><path clip-path=\"url(#clip270)\" d=\"M1010.14 1466.95 Q1013.5 1467.66 1015.37 1469.93 Q1017.27 1472.2 1017.27 1475.53 Q1017.27 1480.65 1013.75 1483.45 Q1010.23 1486.25 1003.75 1486.25 Q1001.57 1486.25 999.26 1485.81 Q996.968 1485.39 994.514 1484.54 L994.514 1480.02 Q996.459 1481.16 998.774 1481.74 Q1001.09 1482.32 1003.61 1482.32 Q1008.01 1482.32 1010.3 1480.58 Q1012.62 1478.84 1012.62 1475.53 Q1012.62 1472.48 1010.46 1470.77 Q1008.33 1469.03 1004.51 1469.03 L1000.49 1469.03 L1000.49 1465.19 L1004.7 1465.19 Q1008.15 1465.19 1009.98 1463.82 Q1011.81 1462.43 1011.81 1459.84 Q1011.81 1457.18 1009.91 1455.77 Q1008.03 1454.33 1004.51 1454.33 Q1002.59 1454.33 1000.39 1454.75 Q998.195 1455.16 995.556 1456.04 L995.556 1451.88 Q998.218 1451.14 1000.53 1450.77 Q1002.87 1450.39 1004.93 1450.39 Q1010.26 1450.39 1013.36 1452.83 Q1016.46 1455.23 1016.46 1459.35 Q1016.46 1462.22 1014.82 1464.21 Q1013.17 1466.18 1010.14 1466.95 Z\" fill=\"#000000\" fill-rule=\"nonzero\" fill-opacity=\"1\" /><path clip-path=\"url(#clip270)\" d=\"M1022.78 1459.65 L1047.62 1459.65 L1047.62 1463.91 L1044.35 1463.91 L1044.35 1479.84 Q1044.35 1481.51 1044.91 1482.25 Q1045.49 1482.96 1046.76 1482.96 Q1047.11 1482.96 1047.62 1482.92 Q1048.13 1482.85 1048.29 1482.83 L1048.29 1485.9 Q1047.48 1486.2 1046.62 1486.34 Q1045.76 1486.48 1044.91 1486.48 Q1042.13 1486.48 1041.07 1484.98 Q1040 1483.45 1040 1479.38 L1040 1463.91 L1030.44 1463.91 L1030.44 1485.58 L1026.09 1485.58 L1026.09 1463.91 L1022.78 1463.91 L1022.78 1459.65 Z\" fill=\"#000000\" fill-rule=\"nonzero\" fill-opacity=\"1\" /><path clip-path=\"url(#clip270)\" d=\"M1259.76 1481.64 L1267.4 1481.64 L1267.4 1455.28 L1259.09 1456.95 L1259.09 1452.69 L1267.35 1451.02 L1272.03 1451.02 L1272.03 1481.64 L1279.67 1481.64 L1279.67 1485.58 L1259.76 1485.58 L1259.76 1481.64 Z\" fill=\"#000000\" fill-rule=\"nonzero\" fill-opacity=\"1\" /><path clip-path=\"url(#clip270)\" d=\"M1296.08 1451.02 L1300.01 1451.02 L1287.98 1489.98 L1284.04 1489.98 L1296.08 1451.02 Z\" fill=\"#000000\" fill-rule=\"nonzero\" fill-opacity=\"1\" /><path clip-path=\"url(#clip270)\" d=\"M1312.05 1451.02 L1315.99 1451.02 L1303.95 1489.98 L1300.01 1489.98 L1312.05 1451.02 Z\" fill=\"#000000\" fill-rule=\"nonzero\" fill-opacity=\"1\" /><path clip-path=\"url(#clip270)\" d=\"M1321.87 1481.64 L1329.51 1481.64 L1329.51 1455.28 L1321.2 1456.95 L1321.2 1452.69 L1329.46 1451.02 L1334.13 1451.02 L1334.13 1481.64 L1341.77 1481.64 L1341.77 1485.58 L1321.87 1485.58 L1321.87 1481.64 Z\" fill=\"#000000\" fill-rule=\"nonzero\" fill-opacity=\"1\" /><path clip-path=\"url(#clip270)\" d=\"M1347.86 1459.65 L1372.7 1459.65 L1372.7 1463.91 L1369.44 1463.91 L1369.44 1479.84 Q1369.44 1481.51 1369.99 1482.25 Q1370.57 1482.96 1371.84 1482.96 Q1372.19 1482.96 1372.7 1482.92 Q1373.21 1482.85 1373.37 1482.83 L1373.37 1485.9 Q1372.56 1486.2 1371.7 1486.34 Q1370.85 1486.48 1369.99 1486.48 Q1367.21 1486.48 1366.15 1484.98 Q1365.08 1483.45 1365.08 1479.38 L1365.08 1463.91 L1355.52 1463.91 L1355.52 1485.58 L1351.17 1485.58 L1351.17 1463.91 L1347.86 1463.91 L1347.86 1459.65 Z\" fill=\"#000000\" fill-rule=\"nonzero\" fill-opacity=\"1\" /><path clip-path=\"url(#clip270)\" d=\"M1599.2 1455.09 L1587.39 1473.54 L1599.2 1473.54 L1599.2 1455.09 M1597.97 1451.02 L1603.85 1451.02 L1603.85 1473.54 L1608.78 1473.54 L1608.78 1477.43 L1603.85 1477.43 L1603.85 1485.58 L1599.2 1485.58 L1599.2 1477.43 L1583.59 1477.43 L1583.59 1472.92 L1597.97 1451.02 Z\" fill=\"#000000\" fill-rule=\"nonzero\" fill-opacity=\"1\" /><path clip-path=\"url(#clip270)\" d=\"M1623.48 1451.02 L1627.41 1451.02 L1615.38 1489.98 L1611.44 1489.98 L1623.48 1451.02 Z\" fill=\"#000000\" fill-rule=\"nonzero\" fill-opacity=\"1\" /><path clip-path=\"url(#clip270)\" d=\"M1639.45 1451.02 L1643.39 1451.02 L1631.35 1489.98 L1627.41 1489.98 L1639.45 1451.02 Z\" fill=\"#000000\" fill-rule=\"nonzero\" fill-opacity=\"1\" /><path clip-path=\"url(#clip270)\" d=\"M1662.62 1466.95 Q1665.98 1467.66 1667.85 1469.93 Q1669.75 1472.2 1669.75 1475.53 Q1669.75 1480.65 1666.23 1483.45 Q1662.71 1486.25 1656.23 1486.25 Q1654.06 1486.25 1651.74 1485.81 Q1649.45 1485.39 1647 1484.54 L1647 1480.02 Q1648.94 1481.16 1651.26 1481.74 Q1653.57 1482.32 1656.09 1482.32 Q1660.49 1482.32 1662.78 1480.58 Q1665.1 1478.84 1665.1 1475.53 Q1665.1 1472.48 1662.95 1470.77 Q1660.82 1469.03 1657 1469.03 L1652.97 1469.03 L1652.97 1465.19 L1657.18 1465.19 Q1660.63 1465.19 1662.46 1463.82 Q1664.29 1462.43 1664.29 1459.84 Q1664.29 1457.18 1662.39 1455.77 Q1660.51 1454.33 1657 1454.33 Q1655.07 1454.33 1652.88 1454.75 Q1650.68 1455.16 1648.04 1456.04 L1648.04 1451.88 Q1650.7 1451.14 1653.01 1450.77 Q1655.35 1450.39 1657.41 1450.39 Q1662.74 1450.39 1665.84 1452.83 Q1668.94 1455.23 1668.94 1459.35 Q1668.94 1462.22 1667.3 1464.21 Q1665.65 1466.18 1662.62 1466.95 Z\" fill=\"#000000\" fill-rule=\"nonzero\" fill-opacity=\"1\" /><path clip-path=\"url(#clip270)\" d=\"M1675.26 1459.65 L1700.1 1459.65 L1700.1 1463.91 L1696.83 1463.91 L1696.83 1479.84 Q1696.83 1481.51 1697.39 1482.25 Q1697.97 1482.96 1699.24 1482.96 Q1699.59 1482.96 1700.1 1482.92 Q1700.61 1482.85 1700.77 1482.83 L1700.77 1485.9 Q1699.96 1486.2 1699.1 1486.34 Q1698.25 1486.48 1697.39 1486.48 Q1694.61 1486.48 1693.55 1484.98 Q1692.48 1483.45 1692.48 1479.38 L1692.48 1463.91 L1682.92 1463.91 L1682.92 1485.58 L1678.57 1485.58 L1678.57 1463.91 L1675.26 1463.91 L1675.26 1459.65 Z\" fill=\"#000000\" fill-rule=\"nonzero\" fill-opacity=\"1\" /><path clip-path=\"url(#clip270)\" d=\"M1911.68 1451.02 L1930.03 1451.02 L1930.03 1454.96 L1915.96 1454.96 L1915.96 1463.43 Q1916.98 1463.08 1917.99 1462.92 Q1919.01 1462.73 1920.03 1462.73 Q1925.82 1462.73 1929.2 1465.9 Q1932.58 1469.08 1932.58 1474.49 Q1932.58 1480.07 1929.11 1483.17 Q1925.63 1486.25 1919.31 1486.25 Q1917.14 1486.25 1914.87 1485.88 Q1912.62 1485.51 1910.22 1484.77 L1910.22 1480.07 Q1912.3 1481.2 1914.52 1481.76 Q1916.74 1482.32 1919.22 1482.32 Q1923.23 1482.32 1925.56 1480.21 Q1927.9 1478.1 1927.9 1474.49 Q1927.9 1470.88 1925.56 1468.77 Q1923.23 1466.67 1919.22 1466.67 Q1917.35 1466.67 1915.47 1467.08 Q1913.62 1467.5 1911.68 1468.38 L1911.68 1451.02 Z\" fill=\"#000000\" fill-rule=\"nonzero\" fill-opacity=\"1\" /><path clip-path=\"url(#clip270)\" d=\"M1948.76 1451.02 L1952.69 1451.02 L1940.66 1489.98 L1936.72 1489.98 L1948.76 1451.02 Z\" fill=\"#000000\" fill-rule=\"nonzero\" fill-opacity=\"1\" /><path clip-path=\"url(#clip270)\" d=\"M1964.73 1451.02 L1968.67 1451.02 L1956.63 1489.98 L1952.69 1489.98 L1964.73 1451.02 Z\" fill=\"#000000\" fill-rule=\"nonzero\" fill-opacity=\"1\" /><path clip-path=\"url(#clip270)\" d=\"M1987.9 1466.95 Q1991.26 1467.66 1993.13 1469.93 Q1995.03 1472.2 1995.03 1475.53 Q1995.03 1480.65 1991.51 1483.45 Q1987.99 1486.25 1981.51 1486.25 Q1979.34 1486.25 1977.02 1485.81 Q1974.73 1485.39 1972.28 1484.54 L1972.28 1480.02 Q1974.22 1481.16 1976.54 1481.74 Q1978.85 1482.32 1981.37 1482.32 Q1985.77 1482.32 1988.06 1480.58 Q1990.38 1478.84 1990.38 1475.53 Q1990.38 1472.48 1988.23 1470.77 Q1986.1 1469.03 1982.28 1469.03 L1978.25 1469.03 L1978.25 1465.19 L1982.46 1465.19 Q1985.91 1465.19 1987.74 1463.82 Q1989.57 1462.43 1989.57 1459.84 Q1989.57 1457.18 1987.67 1455.77 Q1985.79 1454.33 1982.28 1454.33 Q1980.36 1454.33 1978.16 1454.75 Q1975.96 1455.16 1973.32 1456.04 L1973.32 1451.88 Q1975.98 1451.14 1978.3 1450.77 Q1980.63 1450.39 1982.69 1450.39 Q1988.02 1450.39 1991.12 1452.83 Q1994.22 1455.23 1994.22 1459.35 Q1994.22 1462.22 1992.58 1464.21 Q1990.93 1466.18 1987.9 1466.95 Z\" fill=\"#000000\" fill-rule=\"nonzero\" fill-opacity=\"1\" /><path clip-path=\"url(#clip270)\" d=\"M2000.54 1459.65 L2025.38 1459.65 L2025.38 1463.91 L2022.11 1463.91 L2022.11 1479.84 Q2022.11 1481.51 2022.67 1482.25 Q2023.25 1482.96 2024.52 1482.96 Q2024.87 1482.96 2025.38 1482.92 Q2025.89 1482.85 2026.05 1482.83 L2026.05 1485.9 Q2025.24 1486.2 2024.38 1486.34 Q2023.53 1486.48 2022.67 1486.48 Q2019.89 1486.48 2018.83 1484.98 Q2017.76 1483.45 2017.76 1479.38 L2017.76 1463.91 L2008.2 1463.91 L2008.2 1485.58 L2003.85 1485.58 L2003.85 1463.91 L2000.54 1463.91 L2000.54 1459.65 Z\" fill=\"#000000\" fill-rule=\"nonzero\" fill-opacity=\"1\" /><path clip-path=\"url(#clip270)\" d=\"M2241.7 1481.64 L2258.02 1481.64 L2258.02 1485.58 L2236.08 1485.58 L2236.08 1481.64 Q2238.74 1478.89 2243.32 1474.26 Q2247.93 1469.61 2249.11 1468.27 Q2251.35 1465.74 2252.23 1464.01 Q2253.14 1462.25 2253.14 1460.56 Q2253.14 1457.8 2251.19 1456.07 Q2249.27 1454.33 2246.17 1454.33 Q2243.97 1454.33 2241.52 1455.09 Q2239.08 1455.86 2236.31 1457.41 L2236.31 1452.69 Q2239.13 1451.55 2241.58 1450.97 Q2244.04 1450.39 2246.08 1450.39 Q2251.45 1450.39 2254.64 1453.08 Q2257.83 1455.77 2257.83 1460.26 Q2257.83 1462.39 2257.02 1464.31 Q2256.24 1466.2 2254.13 1468.8 Q2253.55 1469.47 2250.45 1472.69 Q2247.35 1475.88 2241.7 1481.64 Z\" fill=\"#000000\" fill-rule=\"nonzero\" fill-opacity=\"1\" /><path clip-path=\"url(#clip270)\" d=\"M2274.8 1451.02 L2278.74 1451.02 L2266.7 1489.98 L2262.77 1489.98 L2274.8 1451.02 Z\" fill=\"#000000\" fill-rule=\"nonzero\" fill-opacity=\"1\" /><path clip-path=\"url(#clip270)\" d=\"M2290.77 1451.02 L2294.71 1451.02 L2282.67 1489.98 L2278.74 1489.98 L2290.77 1451.02 Z\" fill=\"#000000\" fill-rule=\"nonzero\" fill-opacity=\"1\" /><path clip-path=\"url(#clip270)\" d=\"M2300.59 1481.64 L2308.23 1481.64 L2308.23 1455.28 L2299.92 1456.95 L2299.92 1452.69 L2308.18 1451.02 L2312.86 1451.02 L2312.86 1481.64 L2320.5 1481.64 L2320.5 1485.58 L2300.59 1485.58 L2300.59 1481.64 Z\" fill=\"#000000\" fill-rule=\"nonzero\" fill-opacity=\"1\" /><path clip-path=\"url(#clip270)\" d=\"M2326.58 1459.65 L2351.42 1459.65 L2351.42 1463.91 L2348.16 1463.91 L2348.16 1479.84 Q2348.16 1481.51 2348.71 1482.25 Q2349.29 1482.96 2350.57 1482.96 Q2350.91 1482.96 2351.42 1482.92 Q2351.93 1482.85 2352.09 1482.83 L2352.09 1485.9 Q2351.28 1486.2 2350.43 1486.34 Q2349.57 1486.48 2348.71 1486.48 Q2345.94 1486.48 2344.87 1484.98 Q2343.81 1483.45 2343.81 1479.38 L2343.81 1463.91 L2334.25 1463.91 L2334.25 1485.58 L2329.89 1485.58 L2329.89 1463.91 L2326.58 1463.91 L2326.58 1459.65 Z\" fill=\"#000000\" fill-rule=\"nonzero\" fill-opacity=\"1\" /><path clip-path=\"url(#clip270)\" d=\"M1326.35 1545.45 L1306.08 1545.45 Q1306.55 1554.96 1308.75 1559 Q1311.49 1563.97 1316.23 1563.97 Q1321 1563.97 1323.65 1558.97 Q1325.97 1554.58 1326.35 1545.45 M1326.26 1540.03 Q1325.36 1531 1323.65 1527.81 Q1320.91 1522.78 1316.23 1522.78 Q1311.36 1522.78 1308.78 1527.75 Q1306.75 1531.76 1306.14 1540.03 L1326.26 1540.03 M1316.23 1518.01 Q1323.87 1518.01 1328.23 1524.76 Q1332.59 1531.47 1332.59 1543.38 Q1332.59 1555.25 1328.23 1562 Q1323.87 1568.78 1316.23 1568.78 Q1308.56 1568.78 1304.23 1562 Q1299.87 1555.25 1299.87 1543.38 Q1299.87 1531.47 1304.23 1524.76 Q1308.56 1518.01 1316.23 1518.01 Z\" fill=\"#000000\" fill-rule=\"nonzero\" fill-opacity=\"1\" /><polyline clip-path=\"url(#clip272)\" style=\"stroke:#000000; stroke-linecap:round; stroke-linejoin:round; stroke-width:2; stroke-opacity:0.1; fill:none\" points=\"279.704,1265.46 2352.76,1265.46 \"/>\n",
       "<polyline clip-path=\"url(#clip272)\" style=\"stroke:#000000; stroke-linecap:round; stroke-linejoin:round; stroke-width:2; stroke-opacity:0.1; fill:none\" points=\"279.704,1021.82 2352.76,1021.82 \"/>\n",
       "<polyline clip-path=\"url(#clip272)\" style=\"stroke:#000000; stroke-linecap:round; stroke-linejoin:round; stroke-width:2; stroke-opacity:0.1; fill:none\" points=\"279.704,778.173 2352.76,778.173 \"/>\n",
       "<polyline clip-path=\"url(#clip272)\" style=\"stroke:#000000; stroke-linecap:round; stroke-linejoin:round; stroke-width:2; stroke-opacity:0.1; fill:none\" points=\"279.704,534.53 2352.76,534.53 \"/>\n",
       "<polyline clip-path=\"url(#clip272)\" style=\"stroke:#000000; stroke-linecap:round; stroke-linejoin:round; stroke-width:2; stroke-opacity:0.1; fill:none\" points=\"279.704,290.887 2352.76,290.887 \"/>\n",
       "<polyline clip-path=\"url(#clip270)\" style=\"stroke:#000000; stroke-linecap:round; stroke-linejoin:round; stroke-width:4; stroke-opacity:1; fill:none\" points=\"279.704,1423.18 279.704,47.2441 \"/>\n",
       "<polyline clip-path=\"url(#clip270)\" style=\"stroke:#000000; stroke-linecap:round; stroke-linejoin:round; stroke-width:4; stroke-opacity:1; fill:none\" points=\"279.704,1265.46 298.602,1265.46 \"/>\n",
       "<polyline clip-path=\"url(#clip270)\" style=\"stroke:#000000; stroke-linecap:round; stroke-linejoin:round; stroke-width:4; stroke-opacity:1; fill:none\" points=\"279.704,1021.82 298.602,1021.82 \"/>\n",
       "<polyline clip-path=\"url(#clip270)\" style=\"stroke:#000000; stroke-linecap:round; stroke-linejoin:round; stroke-width:4; stroke-opacity:1; fill:none\" points=\"279.704,778.173 298.602,778.173 \"/>\n",
       "<polyline clip-path=\"url(#clip270)\" style=\"stroke:#000000; stroke-linecap:round; stroke-linejoin:round; stroke-width:4; stroke-opacity:1; fill:none\" points=\"279.704,534.53 298.602,534.53 \"/>\n",
       "<polyline clip-path=\"url(#clip270)\" style=\"stroke:#000000; stroke-linecap:round; stroke-linejoin:round; stroke-width:4; stroke-opacity:1; fill:none\" points=\"279.704,290.887 298.602,290.887 \"/>\n",
       "<path clip-path=\"url(#clip270)\" d=\"M127.2 1251.26 Q123.589 1251.26 121.76 1254.82 Q119.955 1258.36 119.955 1265.49 Q119.955 1272.6 121.76 1276.16 Q123.589 1279.71 127.2 1279.71 Q130.834 1279.71 132.64 1276.16 Q134.468 1272.6 134.468 1265.49 Q134.468 1258.36 132.64 1254.82 Q130.834 1251.26 127.2 1251.26 M127.2 1247.55 Q133.01 1247.55 136.066 1252.16 Q139.144 1256.74 139.144 1265.49 Q139.144 1274.22 136.066 1278.83 Q133.01 1283.41 127.2 1283.41 Q121.39 1283.41 118.311 1278.83 Q115.256 1274.22 115.256 1265.49 Q115.256 1256.74 118.311 1252.16 Q121.39 1247.55 127.2 1247.55 Z\" fill=\"#000000\" fill-rule=\"nonzero\" fill-opacity=\"1\" /><path clip-path=\"url(#clip270)\" d=\"M147.362 1276.86 L152.246 1276.86 L152.246 1282.74 L147.362 1282.74 L147.362 1276.86 Z\" fill=\"#000000\" fill-rule=\"nonzero\" fill-opacity=\"1\" /><path clip-path=\"url(#clip270)\" d=\"M162.57 1282.02 L162.57 1277.76 Q164.329 1278.59 166.135 1279.03 Q167.94 1279.47 169.677 1279.47 Q174.306 1279.47 176.737 1276.37 Q179.19 1273.25 179.538 1266.9 Q178.195 1268.9 176.135 1269.96 Q174.075 1271.03 171.575 1271.03 Q166.39 1271.03 163.357 1267.9 Q160.348 1264.75 160.348 1259.31 Q160.348 1253.99 163.496 1250.77 Q166.644 1247.55 171.876 1247.55 Q177.871 1247.55 181.019 1252.16 Q184.19 1256.74 184.19 1265.49 Q184.19 1273.66 180.301 1278.55 Q176.436 1283.41 169.885 1283.41 Q168.126 1283.41 166.32 1283.06 Q164.515 1282.71 162.57 1282.02 M171.876 1267.37 Q175.024 1267.37 176.852 1265.22 Q178.704 1263.06 178.704 1259.31 Q178.704 1255.59 176.852 1253.43 Q175.024 1251.26 171.876 1251.26 Q168.727 1251.26 166.876 1253.43 Q165.047 1255.59 165.047 1259.31 Q165.047 1263.06 166.876 1265.22 Q168.727 1267.37 171.876 1267.37 Z\" fill=\"#000000\" fill-rule=\"nonzero\" fill-opacity=\"1\" /><path clip-path=\"url(#clip270)\" d=\"M196.621 1278.8 L212.94 1278.8 L212.94 1282.74 L190.996 1282.74 L190.996 1278.8 Q193.658 1276.05 198.241 1271.42 Q202.848 1266.77 204.028 1265.42 Q206.274 1262.9 207.153 1261.16 Q208.056 1259.4 208.056 1257.72 Q208.056 1254.96 206.112 1253.22 Q204.19 1251.49 201.088 1251.49 Q198.889 1251.49 196.436 1252.25 Q194.005 1253.02 191.227 1254.57 L191.227 1249.84 Q194.051 1248.71 196.505 1248.13 Q198.959 1247.55 200.996 1247.55 Q206.366 1247.55 209.561 1250.24 Q212.755 1252.92 212.755 1257.41 Q212.755 1259.54 211.945 1261.47 Q211.158 1263.36 209.051 1265.96 Q208.473 1266.63 205.371 1269.84 Q202.269 1273.04 196.621 1278.8 Z\" fill=\"#000000\" fill-rule=\"nonzero\" fill-opacity=\"1\" /><path clip-path=\"url(#clip270)\" d=\"M222.801 1248.18 L241.158 1248.18 L241.158 1252.11 L227.084 1252.11 L227.084 1260.59 Q228.102 1260.24 229.121 1260.08 Q230.139 1259.89 231.158 1259.89 Q236.945 1259.89 240.324 1263.06 Q243.704 1266.23 243.704 1271.65 Q243.704 1277.23 240.232 1280.33 Q236.76 1283.41 230.44 1283.41 Q228.264 1283.41 225.996 1283.04 Q223.75 1282.67 221.343 1281.93 L221.343 1277.23 Q223.426 1278.36 225.648 1278.92 Q227.871 1279.47 230.347 1279.47 Q234.352 1279.47 236.69 1277.37 Q239.028 1275.26 239.028 1271.65 Q239.028 1268.04 236.69 1265.93 Q234.352 1263.83 230.347 1263.83 Q228.473 1263.83 226.598 1264.24 Q224.746 1264.66 222.801 1265.54 L222.801 1248.18 Z\" fill=\"#000000\" fill-rule=\"nonzero\" fill-opacity=\"1\" /><path clip-path=\"url(#clip270)\" d=\"M126.205 1007.61 Q122.593 1007.61 120.765 1011.18 Q118.959 1014.72 118.959 1021.85 Q118.959 1028.96 120.765 1032.52 Q122.593 1036.06 126.205 1036.06 Q129.839 1036.06 131.644 1032.52 Q133.473 1028.96 133.473 1021.85 Q133.473 1014.72 131.644 1011.18 Q129.839 1007.61 126.205 1007.61 M126.205 1003.91 Q132.015 1003.91 135.07 1008.52 Q138.149 1013.1 138.149 1021.85 Q138.149 1030.58 135.07 1035.18 Q132.015 1039.77 126.205 1039.77 Q120.394 1039.77 117.316 1035.18 Q114.26 1030.58 114.26 1021.85 Q114.26 1013.1 117.316 1008.52 Q120.394 1003.91 126.205 1003.91 Z\" fill=\"#000000\" fill-rule=\"nonzero\" fill-opacity=\"1\" /><path clip-path=\"url(#clip270)\" d=\"M146.366 1033.22 L151.251 1033.22 L151.251 1039.1 L146.366 1039.1 L146.366 1033.22 Z\" fill=\"#000000\" fill-rule=\"nonzero\" fill-opacity=\"1\" /><path clip-path=\"url(#clip270)\" d=\"M161.575 1038.38 L161.575 1034.12 Q163.334 1034.95 165.14 1035.39 Q166.945 1035.83 168.681 1035.83 Q173.311 1035.83 175.741 1032.73 Q178.195 1029.6 178.542 1023.26 Q177.2 1025.25 175.139 1026.32 Q173.079 1027.38 170.579 1027.38 Q165.394 1027.38 162.362 1024.26 Q159.353 1021.11 159.353 1015.67 Q159.353 1010.35 162.501 1007.13 Q165.649 1003.91 170.88 1003.91 Q176.876 1003.91 180.024 1008.52 Q183.195 1013.1 183.195 1021.85 Q183.195 1030.02 179.306 1034.91 Q175.44 1039.77 168.889 1039.77 Q167.13 1039.77 165.325 1039.42 Q163.519 1039.07 161.575 1038.38 M170.88 1023.73 Q174.028 1023.73 175.857 1021.57 Q177.709 1019.42 177.709 1015.67 Q177.709 1011.94 175.857 1009.79 Q174.028 1007.61 170.88 1007.61 Q167.732 1007.61 165.88 1009.79 Q164.052 1011.94 164.052 1015.67 Q164.052 1019.42 165.88 1021.57 Q167.732 1023.73 170.88 1023.73 Z\" fill=\"#000000\" fill-rule=\"nonzero\" fill-opacity=\"1\" /><path clip-path=\"url(#clip270)\" d=\"M191.644 1004.54 L210 1004.54 L210 1008.47 L195.926 1008.47 L195.926 1016.94 Q196.945 1016.6 197.963 1016.43 Q198.982 1016.25 200 1016.25 Q205.787 1016.25 209.167 1019.42 Q212.547 1022.59 212.547 1028.01 Q212.547 1033.59 209.074 1036.69 Q205.602 1039.77 199.283 1039.77 Q197.107 1039.77 194.838 1039.4 Q192.593 1039.03 190.186 1038.29 L190.186 1033.59 Q192.269 1034.72 194.491 1035.28 Q196.713 1035.83 199.19 1035.83 Q203.195 1035.83 205.533 1033.72 Q207.871 1031.62 207.871 1028.01 Q207.871 1024.4 205.533 1022.29 Q203.195 1020.18 199.19 1020.18 Q197.315 1020.18 195.44 1020.6 Q193.588 1021.02 191.644 1021.9 L191.644 1004.54 Z\" fill=\"#000000\" fill-rule=\"nonzero\" fill-opacity=\"1\" /><path clip-path=\"url(#clip270)\" d=\"M231.76 1007.61 Q228.148 1007.61 226.32 1011.18 Q224.514 1014.72 224.514 1021.85 Q224.514 1028.96 226.32 1032.52 Q228.148 1036.06 231.76 1036.06 Q235.394 1036.06 237.199 1032.52 Q239.028 1028.96 239.028 1021.85 Q239.028 1014.72 237.199 1011.18 Q235.394 1007.61 231.76 1007.61 M231.76 1003.91 Q237.57 1003.91 240.625 1008.52 Q243.704 1013.1 243.704 1021.85 Q243.704 1030.58 240.625 1035.18 Q237.57 1039.77 231.76 1039.77 Q225.949 1039.77 222.871 1035.18 Q219.815 1030.58 219.815 1021.85 Q219.815 1013.1 222.871 1008.52 Q225.949 1003.91 231.76 1003.91 Z\" fill=\"#000000\" fill-rule=\"nonzero\" fill-opacity=\"1\" /><path clip-path=\"url(#clip270)\" d=\"M127.2 763.971 Q123.589 763.971 121.76 767.536 Q119.955 771.078 119.955 778.207 Q119.955 785.314 121.76 788.878 Q123.589 792.42 127.2 792.42 Q130.834 792.42 132.64 788.878 Q134.468 785.314 134.468 778.207 Q134.468 771.078 132.64 767.536 Q130.834 763.971 127.2 763.971 M127.2 760.268 Q133.01 760.268 136.066 764.874 Q139.144 769.457 139.144 778.207 Q139.144 786.934 136.066 791.54 Q133.01 796.124 127.2 796.124 Q121.39 796.124 118.311 791.54 Q115.256 786.934 115.256 778.207 Q115.256 769.457 118.311 764.874 Q121.39 760.268 127.2 760.268 Z\" fill=\"#000000\" fill-rule=\"nonzero\" fill-opacity=\"1\" /><path clip-path=\"url(#clip270)\" d=\"M147.362 789.573 L152.246 789.573 L152.246 795.453 L147.362 795.453 L147.362 789.573 Z\" fill=\"#000000\" fill-rule=\"nonzero\" fill-opacity=\"1\" /><path clip-path=\"url(#clip270)\" d=\"M162.57 794.735 L162.57 790.476 Q164.329 791.309 166.135 791.749 Q167.94 792.189 169.677 792.189 Q174.306 792.189 176.737 789.087 Q179.19 785.962 179.538 779.619 Q178.195 781.61 176.135 782.675 Q174.075 783.74 171.575 783.74 Q166.39 783.74 163.357 780.615 Q160.348 777.466 160.348 772.027 Q160.348 766.703 163.496 763.485 Q166.644 760.268 171.876 760.268 Q177.871 760.268 181.019 764.874 Q184.19 769.457 184.19 778.207 Q184.19 786.378 180.301 791.263 Q176.436 796.124 169.885 796.124 Q168.126 796.124 166.32 795.777 Q164.515 795.429 162.57 794.735 M171.876 780.082 Q175.024 780.082 176.852 777.929 Q178.704 775.777 178.704 772.027 Q178.704 768.3 176.852 766.147 Q175.024 763.971 171.876 763.971 Q168.727 763.971 166.876 766.147 Q165.047 768.3 165.047 772.027 Q165.047 775.777 166.876 777.929 Q168.727 780.082 171.876 780.082 Z\" fill=\"#000000\" fill-rule=\"nonzero\" fill-opacity=\"1\" /><path clip-path=\"url(#clip270)\" d=\"M191.413 760.893 L213.635 760.893 L213.635 762.883 L201.088 795.453 L196.204 795.453 L208.01 764.828 L191.413 764.828 L191.413 760.893 Z\" fill=\"#000000\" fill-rule=\"nonzero\" fill-opacity=\"1\" /><path clip-path=\"url(#clip270)\" d=\"M222.801 760.893 L241.158 760.893 L241.158 764.828 L227.084 764.828 L227.084 773.3 Q228.102 772.953 229.121 772.791 Q230.139 772.605 231.158 772.605 Q236.945 772.605 240.324 775.777 Q243.704 778.948 243.704 784.365 Q243.704 789.943 240.232 793.045 Q236.76 796.124 230.44 796.124 Q228.264 796.124 225.996 795.753 Q223.75 795.383 221.343 794.642 L221.343 789.943 Q223.426 791.078 225.648 791.633 Q227.871 792.189 230.347 792.189 Q234.352 792.189 236.69 790.082 Q239.028 787.976 239.028 784.365 Q239.028 780.754 236.69 778.647 Q234.352 776.541 230.347 776.541 Q228.473 776.541 226.598 776.957 Q224.746 777.374 222.801 778.254 L222.801 760.893 Z\" fill=\"#000000\" fill-rule=\"nonzero\" fill-opacity=\"1\" /><path clip-path=\"url(#clip270)\" d=\"M117.015 547.875 L124.654 547.875 L124.654 521.509 L116.343 523.176 L116.343 518.916 L124.607 517.25 L129.283 517.25 L129.283 547.875 L136.922 547.875 L136.922 551.81 L117.015 551.81 L117.015 547.875 Z\" fill=\"#000000\" fill-rule=\"nonzero\" fill-opacity=\"1\" /><path clip-path=\"url(#clip270)\" d=\"M146.366 545.93 L151.251 545.93 L151.251 551.81 L146.366 551.81 L146.366 545.93 Z\" fill=\"#000000\" fill-rule=\"nonzero\" fill-opacity=\"1\" /><path clip-path=\"url(#clip270)\" d=\"M171.436 520.328 Q167.825 520.328 165.996 523.893 Q164.19 527.435 164.19 534.564 Q164.19 541.671 165.996 545.236 Q167.825 548.777 171.436 548.777 Q175.07 548.777 176.876 545.236 Q178.704 541.671 178.704 534.564 Q178.704 527.435 176.876 523.893 Q175.07 520.328 171.436 520.328 M171.436 516.625 Q177.246 516.625 180.301 521.231 Q183.38 525.814 183.38 534.564 Q183.38 543.291 180.301 547.898 Q177.246 552.481 171.436 552.481 Q165.626 552.481 162.547 547.898 Q159.491 543.291 159.491 534.564 Q159.491 525.814 162.547 521.231 Q165.626 516.625 171.436 516.625 Z\" fill=\"#000000\" fill-rule=\"nonzero\" fill-opacity=\"1\" /><path clip-path=\"url(#clip270)\" d=\"M201.598 520.328 Q197.987 520.328 196.158 523.893 Q194.352 527.435 194.352 534.564 Q194.352 541.671 196.158 545.236 Q197.987 548.777 201.598 548.777 Q205.232 548.777 207.037 545.236 Q208.866 541.671 208.866 534.564 Q208.866 527.435 207.037 523.893 Q205.232 520.328 201.598 520.328 M201.598 516.625 Q207.408 516.625 210.463 521.231 Q213.542 525.814 213.542 534.564 Q213.542 543.291 210.463 547.898 Q207.408 552.481 201.598 552.481 Q195.787 552.481 192.709 547.898 Q189.653 543.291 189.653 534.564 Q189.653 525.814 192.709 521.231 Q195.787 516.625 201.598 516.625 Z\" fill=\"#000000\" fill-rule=\"nonzero\" fill-opacity=\"1\" /><path clip-path=\"url(#clip270)\" d=\"M231.76 520.328 Q228.148 520.328 226.32 523.893 Q224.514 527.435 224.514 534.564 Q224.514 541.671 226.32 545.236 Q228.148 548.777 231.76 548.777 Q235.394 548.777 237.199 545.236 Q239.028 541.671 239.028 534.564 Q239.028 527.435 237.199 523.893 Q235.394 520.328 231.76 520.328 M231.76 516.625 Q237.57 516.625 240.625 521.231 Q243.704 525.814 243.704 534.564 Q243.704 543.291 240.625 547.898 Q237.57 552.481 231.76 552.481 Q225.949 552.481 222.871 547.898 Q219.815 543.291 219.815 534.564 Q219.815 525.814 222.871 521.231 Q225.949 516.625 231.76 516.625 Z\" fill=\"#000000\" fill-rule=\"nonzero\" fill-opacity=\"1\" /><path clip-path=\"url(#clip270)\" d=\"M118.01 304.232 L125.649 304.232 L125.649 277.866 L117.339 279.533 L117.339 275.274 L125.603 273.607 L130.279 273.607 L130.279 304.232 L137.917 304.232 L137.917 308.167 L118.01 308.167 L118.01 304.232 Z\" fill=\"#000000\" fill-rule=\"nonzero\" fill-opacity=\"1\" /><path clip-path=\"url(#clip270)\" d=\"M147.362 302.287 L152.246 302.287 L152.246 308.167 L147.362 308.167 L147.362 302.287 Z\" fill=\"#000000\" fill-rule=\"nonzero\" fill-opacity=\"1\" /><path clip-path=\"url(#clip270)\" d=\"M172.431 276.686 Q168.82 276.686 166.991 280.25 Q165.186 283.792 165.186 290.922 Q165.186 298.028 166.991 301.593 Q168.82 305.135 172.431 305.135 Q176.065 305.135 177.871 301.593 Q179.7 298.028 179.7 290.922 Q179.7 283.792 177.871 280.25 Q176.065 276.686 172.431 276.686 M172.431 272.982 Q178.241 272.982 181.297 277.588 Q184.376 282.172 184.376 290.922 Q184.376 299.648 181.297 304.255 Q178.241 308.838 172.431 308.838 Q166.621 308.838 163.542 304.255 Q160.487 299.648 160.487 290.922 Q160.487 282.172 163.542 277.588 Q166.621 272.982 172.431 272.982 Z\" fill=\"#000000\" fill-rule=\"nonzero\" fill-opacity=\"1\" /><path clip-path=\"url(#clip270)\" d=\"M196.621 304.232 L212.94 304.232 L212.94 308.167 L190.996 308.167 L190.996 304.232 Q193.658 301.477 198.241 296.848 Q202.848 292.195 204.028 290.852 Q206.274 288.329 207.153 286.593 Q208.056 284.834 208.056 283.144 Q208.056 280.389 206.112 278.653 Q204.19 276.917 201.088 276.917 Q198.889 276.917 196.436 277.681 Q194.005 278.445 191.227 279.996 L191.227 275.274 Q194.051 274.139 196.505 273.561 Q198.959 272.982 200.996 272.982 Q206.366 272.982 209.561 275.667 Q212.755 278.352 212.755 282.843 Q212.755 284.973 211.945 286.894 Q211.158 288.792 209.051 291.385 Q208.473 292.056 205.371 295.273 Q202.269 298.468 196.621 304.232 Z\" fill=\"#000000\" fill-rule=\"nonzero\" fill-opacity=\"1\" /><path clip-path=\"url(#clip270)\" d=\"M222.801 273.607 L241.158 273.607 L241.158 277.542 L227.084 277.542 L227.084 286.014 Q228.102 285.667 229.121 285.505 Q230.139 285.32 231.158 285.32 Q236.945 285.32 240.324 288.491 Q243.704 291.662 243.704 297.079 Q243.704 302.658 240.232 305.76 Q236.76 308.838 230.44 308.838 Q228.264 308.838 225.996 308.468 Q223.75 308.097 221.343 307.357 L221.343 302.658 Q223.426 303.792 225.648 304.347 Q227.871 304.903 230.347 304.903 Q234.352 304.903 236.69 302.797 Q239.028 300.69 239.028 297.079 Q239.028 293.468 236.69 291.361 Q234.352 289.255 230.347 289.255 Q228.473 289.255 226.598 289.672 Q224.746 290.088 222.801 290.968 L222.801 273.607 Z\" fill=\"#000000\" fill-rule=\"nonzero\" fill-opacity=\"1\" /><path clip-path=\"url(#clip270)\" d=\"M33.8307 724.772 Q33.2578 725.759 33.0032 726.937 Q32.7167 728.082 32.7167 729.483 Q32.7167 734.448 35.9632 737.122 Q39.1779 739.763 45.2253 739.763 L64.0042 739.763 L64.0042 745.652 L28.3562 745.652 L28.3562 739.763 L33.8944 739.763 Q30.6479 737.917 29.0883 734.957 Q27.4968 731.997 27.4968 727.764 Q27.4968 727.159 27.5923 726.427 Q27.656 725.695 27.8151 724.804 L33.8307 724.772 Z\" fill=\"#000000\" fill-rule=\"nonzero\" fill-opacity=\"1\" /><line clip-path=\"url(#clip272)\" x1=\"2294.08\" y1=\"534.53\" x2=\"2294.08\" y2=\"518.53\" style=\"stroke:#009af9; stroke-width:3.2; stroke-opacity:1\"/>\n",
       "<line clip-path=\"url(#clip272)\" x1=\"2294.08\" y1=\"534.53\" x2=\"2278.08\" y2=\"534.53\" style=\"stroke:#009af9; stroke-width:3.2; stroke-opacity:1\"/>\n",
       "<line clip-path=\"url(#clip272)\" x1=\"2294.08\" y1=\"534.53\" x2=\"2294.08\" y2=\"550.53\" style=\"stroke:#009af9; stroke-width:3.2; stroke-opacity:1\"/>\n",
       "<line clip-path=\"url(#clip272)\" x1=\"2294.08\" y1=\"534.53\" x2=\"2310.08\" y2=\"534.53\" style=\"stroke:#009af9; stroke-width:3.2; stroke-opacity:1\"/>\n",
       "<line clip-path=\"url(#clip272)\" x1=\"1316.23\" y1=\"534.748\" x2=\"1316.23\" y2=\"518.748\" style=\"stroke:#009af9; stroke-width:3.2; stroke-opacity:1\"/>\n",
       "<line clip-path=\"url(#clip272)\" x1=\"1316.23\" y1=\"534.748\" x2=\"1300.23\" y2=\"534.748\" style=\"stroke:#009af9; stroke-width:3.2; stroke-opacity:1\"/>\n",
       "<line clip-path=\"url(#clip272)\" x1=\"1316.23\" y1=\"534.748\" x2=\"1316.23\" y2=\"550.748\" style=\"stroke:#009af9; stroke-width:3.2; stroke-opacity:1\"/>\n",
       "<line clip-path=\"url(#clip272)\" x1=\"1316.23\" y1=\"534.748\" x2=\"1332.23\" y2=\"534.748\" style=\"stroke:#009af9; stroke-width:3.2; stroke-opacity:1\"/>\n",
       "<line clip-path=\"url(#clip272)\" x1=\"2143.94\" y1=\"732.986\" x2=\"2143.94\" y2=\"716.986\" style=\"stroke:#009af9; stroke-width:3.2; stroke-opacity:1\"/>\n",
       "<line clip-path=\"url(#clip272)\" x1=\"2143.94\" y1=\"732.986\" x2=\"2127.94\" y2=\"732.986\" style=\"stroke:#009af9; stroke-width:3.2; stroke-opacity:1\"/>\n",
       "<line clip-path=\"url(#clip272)\" x1=\"2143.94\" y1=\"732.986\" x2=\"2143.94\" y2=\"748.986\" style=\"stroke:#009af9; stroke-width:3.2; stroke-opacity:1\"/>\n",
       "<line clip-path=\"url(#clip272)\" x1=\"2143.94\" y1=\"732.986\" x2=\"2159.94\" y2=\"732.986\" style=\"stroke:#009af9; stroke-width:3.2; stroke-opacity:1\"/>\n",
       "<line clip-path=\"url(#clip272)\" x1=\"488.523\" y1=\"732.986\" x2=\"488.523\" y2=\"716.986\" style=\"stroke:#009af9; stroke-width:3.2; stroke-opacity:1\"/>\n",
       "<line clip-path=\"url(#clip272)\" x1=\"488.523\" y1=\"732.986\" x2=\"472.523\" y2=\"732.986\" style=\"stroke:#009af9; stroke-width:3.2; stroke-opacity:1\"/>\n",
       "<line clip-path=\"url(#clip272)\" x1=\"488.523\" y1=\"732.986\" x2=\"488.523\" y2=\"748.986\" style=\"stroke:#009af9; stroke-width:3.2; stroke-opacity:1\"/>\n",
       "<line clip-path=\"url(#clip272)\" x1=\"488.523\" y1=\"732.986\" x2=\"504.523\" y2=\"732.986\" style=\"stroke:#009af9; stroke-width:3.2; stroke-opacity:1\"/>\n",
       "<line clip-path=\"url(#clip272)\" x1=\"1466.38\" y1=\"732.989\" x2=\"1466.38\" y2=\"716.989\" style=\"stroke:#009af9; stroke-width:3.2; stroke-opacity:1\"/>\n",
       "<line clip-path=\"url(#clip272)\" x1=\"1466.38\" y1=\"732.989\" x2=\"1450.38\" y2=\"732.989\" style=\"stroke:#009af9; stroke-width:3.2; stroke-opacity:1\"/>\n",
       "<line clip-path=\"url(#clip272)\" x1=\"1466.38\" y1=\"732.989\" x2=\"1466.38\" y2=\"748.989\" style=\"stroke:#009af9; stroke-width:3.2; stroke-opacity:1\"/>\n",
       "<line clip-path=\"url(#clip272)\" x1=\"1466.38\" y1=\"732.989\" x2=\"1482.38\" y2=\"732.989\" style=\"stroke:#009af9; stroke-width:3.2; stroke-opacity:1\"/>\n",
       "<line clip-path=\"url(#clip272)\" x1=\"1166.08\" y1=\"732.989\" x2=\"1166.08\" y2=\"716.989\" style=\"stroke:#009af9; stroke-width:3.2; stroke-opacity:1\"/>\n",
       "<line clip-path=\"url(#clip272)\" x1=\"1166.08\" y1=\"732.989\" x2=\"1150.08\" y2=\"732.989\" style=\"stroke:#009af9; stroke-width:3.2; stroke-opacity:1\"/>\n",
       "<line clip-path=\"url(#clip272)\" x1=\"1166.08\" y1=\"732.989\" x2=\"1166.08\" y2=\"748.989\" style=\"stroke:#009af9; stroke-width:3.2; stroke-opacity:1\"/>\n",
       "<line clip-path=\"url(#clip272)\" x1=\"1166.08\" y1=\"732.989\" x2=\"1182.08\" y2=\"732.989\" style=\"stroke:#009af9; stroke-width:3.2; stroke-opacity:1\"/>\n",
       "<line clip-path=\"url(#clip272)\" x1=\"338.375\" y1=\"772.63\" x2=\"338.375\" y2=\"756.63\" style=\"stroke:#009af9; stroke-width:3.2; stroke-opacity:1\"/>\n",
       "<line clip-path=\"url(#clip272)\" x1=\"338.375\" y1=\"772.63\" x2=\"322.375\" y2=\"772.63\" style=\"stroke:#009af9; stroke-width:3.2; stroke-opacity:1\"/>\n",
       "<line clip-path=\"url(#clip272)\" x1=\"338.375\" y1=\"772.63\" x2=\"338.375\" y2=\"788.63\" style=\"stroke:#009af9; stroke-width:3.2; stroke-opacity:1\"/>\n",
       "<line clip-path=\"url(#clip272)\" x1=\"338.375\" y1=\"772.63\" x2=\"354.375\" y2=\"772.63\" style=\"stroke:#009af9; stroke-width:3.2; stroke-opacity:1\"/>\n",
       "<line clip-path=\"url(#clip272)\" x1=\"1316.23\" y1=\"775.48\" x2=\"1316.23\" y2=\"759.48\" style=\"stroke:#009af9; stroke-width:3.2; stroke-opacity:1\"/>\n",
       "<line clip-path=\"url(#clip272)\" x1=\"1316.23\" y1=\"775.48\" x2=\"1300.23\" y2=\"775.48\" style=\"stroke:#009af9; stroke-width:3.2; stroke-opacity:1\"/>\n",
       "<line clip-path=\"url(#clip272)\" x1=\"1316.23\" y1=\"775.48\" x2=\"1316.23\" y2=\"791.48\" style=\"stroke:#009af9; stroke-width:3.2; stroke-opacity:1\"/>\n",
       "<line clip-path=\"url(#clip272)\" x1=\"1316.23\" y1=\"775.48\" x2=\"1332.23\" y2=\"775.48\" style=\"stroke:#009af9; stroke-width:3.2; stroke-opacity:1\"/>\n",
       "<line clip-path=\"url(#clip272)\" x1=\"832.191\" y1=\"1154.85\" x2=\"832.191\" y2=\"1138.85\" style=\"stroke:#009af9; stroke-width:3.2; stroke-opacity:1\"/>\n",
       "<line clip-path=\"url(#clip272)\" x1=\"832.191\" y1=\"1154.85\" x2=\"816.191\" y2=\"1154.85\" style=\"stroke:#009af9; stroke-width:3.2; stroke-opacity:1\"/>\n",
       "<line clip-path=\"url(#clip272)\" x1=\"832.191\" y1=\"1154.85\" x2=\"832.191\" y2=\"1170.85\" style=\"stroke:#009af9; stroke-width:3.2; stroke-opacity:1\"/>\n",
       "<line clip-path=\"url(#clip272)\" x1=\"832.191\" y1=\"1154.85\" x2=\"848.191\" y2=\"1154.85\" style=\"stroke:#009af9; stroke-width:3.2; stroke-opacity:1\"/>\n",
       "<line clip-path=\"url(#clip272)\" x1=\"1800.27\" y1=\"1154.85\" x2=\"1800.27\" y2=\"1138.85\" style=\"stroke:#009af9; stroke-width:3.2; stroke-opacity:1\"/>\n",
       "<line clip-path=\"url(#clip272)\" x1=\"1800.27\" y1=\"1154.85\" x2=\"1784.27\" y2=\"1154.85\" style=\"stroke:#009af9; stroke-width:3.2; stroke-opacity:1\"/>\n",
       "<line clip-path=\"url(#clip272)\" x1=\"1800.27\" y1=\"1154.85\" x2=\"1800.27\" y2=\"1170.85\" style=\"stroke:#009af9; stroke-width:3.2; stroke-opacity:1\"/>\n",
       "<line clip-path=\"url(#clip272)\" x1=\"1800.27\" y1=\"1154.85\" x2=\"1816.27\" y2=\"1154.85\" style=\"stroke:#009af9; stroke-width:3.2; stroke-opacity:1\"/>\n",
       "<line clip-path=\"url(#clip272)\" x1=\"1810.05\" y1=\"1154.86\" x2=\"1810.05\" y2=\"1138.86\" style=\"stroke:#009af9; stroke-width:3.2; stroke-opacity:1\"/>\n",
       "<line clip-path=\"url(#clip272)\" x1=\"1810.05\" y1=\"1154.86\" x2=\"1794.05\" y2=\"1154.86\" style=\"stroke:#009af9; stroke-width:3.2; stroke-opacity:1\"/>\n",
       "<line clip-path=\"url(#clip272)\" x1=\"1810.05\" y1=\"1154.86\" x2=\"1810.05\" y2=\"1170.86\" style=\"stroke:#009af9; stroke-width:3.2; stroke-opacity:1\"/>\n",
       "<line clip-path=\"url(#clip272)\" x1=\"1810.05\" y1=\"1154.86\" x2=\"1826.05\" y2=\"1154.86\" style=\"stroke:#009af9; stroke-width:3.2; stroke-opacity:1\"/>\n",
       "<line clip-path=\"url(#clip272)\" x1=\"822.414\" y1=\"1154.86\" x2=\"822.414\" y2=\"1138.86\" style=\"stroke:#009af9; stroke-width:3.2; stroke-opacity:1\"/>\n",
       "<line clip-path=\"url(#clip272)\" x1=\"822.414\" y1=\"1154.86\" x2=\"806.414\" y2=\"1154.86\" style=\"stroke:#009af9; stroke-width:3.2; stroke-opacity:1\"/>\n",
       "<line clip-path=\"url(#clip272)\" x1=\"822.414\" y1=\"1154.86\" x2=\"822.414\" y2=\"1170.86\" style=\"stroke:#009af9; stroke-width:3.2; stroke-opacity:1\"/>\n",
       "<line clip-path=\"url(#clip272)\" x1=\"822.414\" y1=\"1154.86\" x2=\"838.414\" y2=\"1154.86\" style=\"stroke:#009af9; stroke-width:3.2; stroke-opacity:1\"/>\n",
       "<line clip-path=\"url(#clip272)\" x1=\"1646.55\" y1=\"1339.41\" x2=\"1646.55\" y2=\"1323.41\" style=\"stroke:#009af9; stroke-width:3.2; stroke-opacity:1\"/>\n",
       "<line clip-path=\"url(#clip272)\" x1=\"1646.55\" y1=\"1339.41\" x2=\"1630.55\" y2=\"1339.41\" style=\"stroke:#009af9; stroke-width:3.2; stroke-opacity:1\"/>\n",
       "<line clip-path=\"url(#clip272)\" x1=\"1646.55\" y1=\"1339.41\" x2=\"1646.55\" y2=\"1355.41\" style=\"stroke:#009af9; stroke-width:3.2; stroke-opacity:1\"/>\n",
       "<line clip-path=\"url(#clip272)\" x1=\"1646.55\" y1=\"1339.41\" x2=\"1662.55\" y2=\"1339.41\" style=\"stroke:#009af9; stroke-width:3.2; stroke-opacity:1\"/>\n",
       "<line clip-path=\"url(#clip272)\" x1=\"985.907\" y1=\"1339.41\" x2=\"985.907\" y2=\"1323.41\" style=\"stroke:#009af9; stroke-width:3.2; stroke-opacity:1\"/>\n",
       "<line clip-path=\"url(#clip272)\" x1=\"985.907\" y1=\"1339.41\" x2=\"969.907\" y2=\"1339.41\" style=\"stroke:#009af9; stroke-width:3.2; stroke-opacity:1\"/>\n",
       "<line clip-path=\"url(#clip272)\" x1=\"985.907\" y1=\"1339.41\" x2=\"985.907\" y2=\"1355.41\" style=\"stroke:#009af9; stroke-width:3.2; stroke-opacity:1\"/>\n",
       "<line clip-path=\"url(#clip272)\" x1=\"985.907\" y1=\"1339.41\" x2=\"1001.91\" y2=\"1339.41\" style=\"stroke:#009af9; stroke-width:3.2; stroke-opacity:1\"/>\n",
       "<line clip-path=\"url(#clip272)\" x1=\"668.7\" y1=\"1339.47\" x2=\"668.7\" y2=\"1323.47\" style=\"stroke:#009af9; stroke-width:3.2; stroke-opacity:1\"/>\n",
       "<line clip-path=\"url(#clip272)\" x1=\"668.7\" y1=\"1339.47\" x2=\"652.7\" y2=\"1339.47\" style=\"stroke:#009af9; stroke-width:3.2; stroke-opacity:1\"/>\n",
       "<line clip-path=\"url(#clip272)\" x1=\"668.7\" y1=\"1339.47\" x2=\"668.7\" y2=\"1355.47\" style=\"stroke:#009af9; stroke-width:3.2; stroke-opacity:1\"/>\n",
       "<line clip-path=\"url(#clip272)\" x1=\"668.7\" y1=\"1339.47\" x2=\"684.7\" y2=\"1339.47\" style=\"stroke:#009af9; stroke-width:3.2; stroke-opacity:1\"/>\n",
       "<line clip-path=\"url(#clip272)\" x1=\"1963.76\" y1=\"1339.47\" x2=\"1963.76\" y2=\"1323.47\" style=\"stroke:#009af9; stroke-width:3.2; stroke-opacity:1\"/>\n",
       "<line clip-path=\"url(#clip272)\" x1=\"1963.76\" y1=\"1339.47\" x2=\"1947.76\" y2=\"1339.47\" style=\"stroke:#009af9; stroke-width:3.2; stroke-opacity:1\"/>\n",
       "<line clip-path=\"url(#clip272)\" x1=\"1963.76\" y1=\"1339.47\" x2=\"1963.76\" y2=\"1355.47\" style=\"stroke:#009af9; stroke-width:3.2; stroke-opacity:1\"/>\n",
       "<line clip-path=\"url(#clip272)\" x1=\"1963.76\" y1=\"1339.47\" x2=\"1979.76\" y2=\"1339.47\" style=\"stroke:#009af9; stroke-width:3.2; stroke-opacity:1\"/>\n",
       "<line clip-path=\"url(#clip272)\" x1=\"1948.14\" y1=\"1360.48\" x2=\"1948.14\" y2=\"1344.48\" style=\"stroke:#009af9; stroke-width:3.2; stroke-opacity:1\"/>\n",
       "<line clip-path=\"url(#clip272)\" x1=\"1948.14\" y1=\"1360.48\" x2=\"1932.14\" y2=\"1360.48\" style=\"stroke:#009af9; stroke-width:3.2; stroke-opacity:1\"/>\n",
       "<line clip-path=\"url(#clip272)\" x1=\"1948.14\" y1=\"1360.48\" x2=\"1948.14\" y2=\"1376.48\" style=\"stroke:#009af9; stroke-width:3.2; stroke-opacity:1\"/>\n",
       "<line clip-path=\"url(#clip272)\" x1=\"1948.14\" y1=\"1360.48\" x2=\"1964.14\" y2=\"1360.48\" style=\"stroke:#009af9; stroke-width:3.2; stroke-opacity:1\"/>\n",
       "<line clip-path=\"url(#clip272)\" x1=\"684.324\" y1=\"1360.48\" x2=\"684.324\" y2=\"1344.48\" style=\"stroke:#009af9; stroke-width:3.2; stroke-opacity:1\"/>\n",
       "<line clip-path=\"url(#clip272)\" x1=\"684.324\" y1=\"1360.48\" x2=\"668.324\" y2=\"1360.48\" style=\"stroke:#009af9; stroke-width:3.2; stroke-opacity:1\"/>\n",
       "<line clip-path=\"url(#clip272)\" x1=\"684.324\" y1=\"1360.48\" x2=\"684.324\" y2=\"1376.48\" style=\"stroke:#009af9; stroke-width:3.2; stroke-opacity:1\"/>\n",
       "<line clip-path=\"url(#clip272)\" x1=\"684.324\" y1=\"1360.48\" x2=\"700.324\" y2=\"1360.48\" style=\"stroke:#009af9; stroke-width:3.2; stroke-opacity:1\"/>\n",
       "<line clip-path=\"url(#clip272)\" x1=\"1662.19\" y1=\"1360.54\" x2=\"1662.19\" y2=\"1344.54\" style=\"stroke:#009af9; stroke-width:3.2; stroke-opacity:1\"/>\n",
       "<line clip-path=\"url(#clip272)\" x1=\"1662.19\" y1=\"1360.54\" x2=\"1646.19\" y2=\"1360.54\" style=\"stroke:#009af9; stroke-width:3.2; stroke-opacity:1\"/>\n",
       "<line clip-path=\"url(#clip272)\" x1=\"1662.19\" y1=\"1360.54\" x2=\"1662.19\" y2=\"1376.54\" style=\"stroke:#009af9; stroke-width:3.2; stroke-opacity:1\"/>\n",
       "<line clip-path=\"url(#clip272)\" x1=\"1662.19\" y1=\"1360.54\" x2=\"1678.19\" y2=\"1360.54\" style=\"stroke:#009af9; stroke-width:3.2; stroke-opacity:1\"/>\n",
       "<line clip-path=\"url(#clip272)\" x1=\"970.273\" y1=\"1360.54\" x2=\"970.273\" y2=\"1344.54\" style=\"stroke:#009af9; stroke-width:3.2; stroke-opacity:1\"/>\n",
       "<line clip-path=\"url(#clip272)\" x1=\"970.273\" y1=\"1360.54\" x2=\"954.273\" y2=\"1360.54\" style=\"stroke:#009af9; stroke-width:3.2; stroke-opacity:1\"/>\n",
       "<line clip-path=\"url(#clip272)\" x1=\"970.273\" y1=\"1360.54\" x2=\"970.273\" y2=\"1376.54\" style=\"stroke:#009af9; stroke-width:3.2; stroke-opacity:1\"/>\n",
       "<line clip-path=\"url(#clip272)\" x1=\"970.273\" y1=\"1360.54\" x2=\"986.273\" y2=\"1360.54\" style=\"stroke:#009af9; stroke-width:3.2; stroke-opacity:1\"/>\n",
       "<line clip-path=\"url(#clip272)\" x1=\"1827.4\" y1=\"1423.18\" x2=\"1827.4\" y2=\"1407.18\" style=\"stroke:#009af9; stroke-width:3.2; stroke-opacity:1\"/>\n",
       "<line clip-path=\"url(#clip272)\" x1=\"1827.4\" y1=\"1423.18\" x2=\"1811.4\" y2=\"1423.18\" style=\"stroke:#009af9; stroke-width:3.2; stroke-opacity:1\"/>\n",
       "<line clip-path=\"url(#clip272)\" x1=\"1827.4\" y1=\"1423.18\" x2=\"1827.4\" y2=\"1439.18\" style=\"stroke:#009af9; stroke-width:3.2; stroke-opacity:1\"/>\n",
       "<line clip-path=\"url(#clip272)\" x1=\"1827.4\" y1=\"1423.18\" x2=\"1843.4\" y2=\"1423.18\" style=\"stroke:#009af9; stroke-width:3.2; stroke-opacity:1\"/>\n",
       "<line clip-path=\"url(#clip272)\" x1=\"805.061\" y1=\"1423.18\" x2=\"805.061\" y2=\"1407.18\" style=\"stroke:#009af9; stroke-width:3.2; stroke-opacity:1\"/>\n",
       "<line clip-path=\"url(#clip272)\" x1=\"805.061\" y1=\"1423.18\" x2=\"789.061\" y2=\"1423.18\" style=\"stroke:#009af9; stroke-width:3.2; stroke-opacity:1\"/>\n",
       "<line clip-path=\"url(#clip272)\" x1=\"805.061\" y1=\"1423.18\" x2=\"805.061\" y2=\"1439.18\" style=\"stroke:#009af9; stroke-width:3.2; stroke-opacity:1\"/>\n",
       "<line clip-path=\"url(#clip272)\" x1=\"805.061\" y1=\"1423.18\" x2=\"821.061\" y2=\"1423.18\" style=\"stroke:#009af9; stroke-width:3.2; stroke-opacity:1\"/>\n",
       "<path clip-path=\"url(#clip270)\" d=\"M1905.19 196.789 L2283.65 196.789 L2283.65 93.1086 L1905.19 93.1086  Z\" fill=\"#ffffff\" fill-rule=\"evenodd\" fill-opacity=\"1\"/>\n",
       "<polyline clip-path=\"url(#clip270)\" style=\"stroke:#000000; stroke-linecap:round; stroke-linejoin:round; stroke-width:4; stroke-opacity:1; fill:none\" points=\"1905.19,196.789 2283.65,196.789 2283.65,93.1086 1905.19,93.1086 1905.19,196.789 \"/>\n",
       "<line clip-path=\"url(#clip270)\" x1=\"1997.33\" y1=\"144.949\" x2=\"1997.33\" y2=\"122.193\" style=\"stroke:#009af9; stroke-width:4.55111; stroke-opacity:1\"/>\n",
       "<line clip-path=\"url(#clip270)\" x1=\"1997.33\" y1=\"144.949\" x2=\"1974.57\" y2=\"144.949\" style=\"stroke:#009af9; stroke-width:4.55111; stroke-opacity:1\"/>\n",
       "<line clip-path=\"url(#clip270)\" x1=\"1997.33\" y1=\"144.949\" x2=\"1997.33\" y2=\"167.704\" style=\"stroke:#009af9; stroke-width:4.55111; stroke-opacity:1\"/>\n",
       "<line clip-path=\"url(#clip270)\" x1=\"1997.33\" y1=\"144.949\" x2=\"2020.08\" y2=\"144.949\" style=\"stroke:#009af9; stroke-width:4.55111; stroke-opacity:1\"/>\n",
       "<path clip-path=\"url(#clip270)\" d=\"M2089.46 127.669 L2118.7 127.669 L2118.7 131.604 L2106.43 131.604 L2106.43 162.229 L2101.73 162.229 L2101.73 131.604 L2089.46 131.604 L2089.46 127.669 Z\" fill=\"#000000\" fill-rule=\"nonzero\" fill-opacity=\"1\" /><path clip-path=\"url(#clip270)\" d=\"M2131.08 140.284 Q2130.37 139.868 2129.51 139.682 Q2128.68 139.474 2127.66 139.474 Q2124.05 139.474 2122.1 141.835 Q2120.18 144.173 2120.18 148.571 L2120.18 162.229 L2115.9 162.229 L2115.9 136.303 L2120.18 136.303 L2120.18 140.331 Q2121.52 137.969 2123.68 136.835 Q2125.83 135.678 2128.91 135.678 Q2129.35 135.678 2129.88 135.747 Q2130.41 135.794 2131.06 135.909 L2131.08 140.284 Z\" fill=\"#000000\" fill-rule=\"nonzero\" fill-opacity=\"1\" /><path clip-path=\"url(#clip270)\" d=\"M2135.55 136.303 L2139.81 136.303 L2139.81 162.229 L2135.55 162.229 L2135.55 136.303 M2135.55 126.21 L2139.81 126.21 L2139.81 131.604 L2135.55 131.604 L2135.55 126.21 Z\" fill=\"#000000\" fill-rule=\"nonzero\" fill-opacity=\"1\" /><path clip-path=\"url(#clip270)\" d=\"M2145.67 136.303 L2150.18 136.303 L2158.28 158.062 L2166.38 136.303 L2170.9 136.303 L2161.18 162.229 L2155.39 162.229 L2145.67 136.303 Z\" fill=\"#000000\" fill-rule=\"nonzero\" fill-opacity=\"1\" /><path clip-path=\"url(#clip270)\" d=\"M2176.78 136.303 L2181.04 136.303 L2181.04 162.229 L2176.78 162.229 L2176.78 136.303 M2176.78 126.21 L2181.04 126.21 L2181.04 131.604 L2176.78 131.604 L2176.78 126.21 Z\" fill=\"#000000\" fill-rule=\"nonzero\" fill-opacity=\"1\" /><path clip-path=\"url(#clip270)\" d=\"M2201.73 149.196 Q2196.57 149.196 2194.58 150.377 Q2192.59 151.557 2192.59 154.405 Q2192.59 156.673 2194.07 158.016 Q2195.57 159.335 2198.14 159.335 Q2201.69 159.335 2203.82 156.835 Q2205.97 154.312 2205.97 150.145 L2205.97 149.196 L2201.73 149.196 M2210.23 147.437 L2210.23 162.229 L2205.97 162.229 L2205.97 158.293 Q2204.51 160.655 2202.33 161.789 Q2200.16 162.9 2197.01 162.9 Q2193.03 162.9 2190.67 160.678 Q2188.33 158.432 2188.33 154.682 Q2188.33 150.307 2191.25 148.085 Q2194.19 145.863 2200 145.863 L2205.97 145.863 L2205.97 145.446 Q2205.97 142.507 2204.02 140.909 Q2202.1 139.289 2198.61 139.289 Q2196.38 139.289 2194.28 139.821 Q2192.17 140.354 2190.23 141.419 L2190.23 137.483 Q2192.57 136.581 2194.76 136.141 Q2196.96 135.678 2199.05 135.678 Q2204.67 135.678 2207.45 138.594 Q2210.23 141.511 2210.23 147.437 Z\" fill=\"#000000\" fill-rule=\"nonzero\" fill-opacity=\"1\" /><path clip-path=\"url(#clip270)\" d=\"M2219 126.21 L2223.26 126.21 L2223.26 162.229 L2219 162.229 L2219 126.21 Z\" fill=\"#000000\" fill-rule=\"nonzero\" fill-opacity=\"1\" /><path clip-path=\"url(#clip270)\" d=\"M2242.4 126.257 Q2239.3 131.581 2237.8 136.789 Q2236.29 141.997 2236.29 147.344 Q2236.29 152.692 2237.8 157.946 Q2239.32 163.178 2242.4 168.479 L2238.7 168.479 Q2235.23 163.039 2233.49 157.784 Q2231.78 152.53 2231.78 147.344 Q2231.78 142.182 2233.49 136.951 Q2235.2 131.72 2238.7 126.257 L2242.4 126.257 Z\" fill=\"#000000\" fill-rule=\"nonzero\" fill-opacity=\"1\" /><path clip-path=\"url(#clip270)\" d=\"M2250 126.257 L2253.7 126.257 Q2257.17 131.72 2258.88 136.951 Q2260.62 142.182 2260.62 147.344 Q2260.62 152.53 2258.88 157.784 Q2257.17 163.039 2253.7 168.479 L2250 168.479 Q2253.07 163.178 2254.58 157.946 Q2256.11 152.692 2256.11 147.344 Q2256.11 141.997 2254.58 136.789 Q2253.07 131.581 2250 126.257 Z\" fill=\"#000000\" fill-rule=\"nonzero\" fill-opacity=\"1\" /></svg>\n"
      ]
     },
     "metadata": {},
     "output_type": "display_data"
    }
   ],
   "source": [
    "transferplot(groundstate, groundstate)"
   ]
  },
  {
   "attachments": {},
   "cell_type": "markdown",
   "metadata": {},
   "source": [
    "We can clearly see multiple eigenvalues close to the unit circle.\n",
    "Our state is close to being non-injective, and represents the sum of multiple injective states.\n",
    "This is numerically very problematic, but also indicates that we used an incorrect ansatz to approximate the groundstate.\n",
    "We should retry with a larger unit cell."
   ]
  },
  {
   "attachments": {},
   "cell_type": "markdown",
   "metadata": {},
   "source": [
    "## Success\n",
    "\n",
    "Let's initialize a different initial state, this time with a 2-site unit cell:"
   ]
  },
  {
   "cell_type": "code",
   "execution_count": 7,
   "metadata": {},
   "outputs": [],
   "source": [
    "A = TensorMap(rand, ComplexF64, ℂ^20 * ℂ^2, ℂ^20);\n",
    "B = TensorMap(rand, ComplexF64, ℂ^20 * ℂ^2, ℂ^20);\n",
    "state = InfiniteMPS([A, B]);"
   ]
  },
  {
   "attachments": {},
   "cell_type": "markdown",
   "metadata": {},
   "source": [
    "In MPSKit, we require that the periodicity of the hamiltonian equals that of the state it is applied to.\n",
    "This is not a big obstacle, you can simply repeat the original hamiltonian.\n",
    "Alternatively, the hamiltonian can be constructed directly on a two-site unitcell by making use of MPSKitModels.jl's `@mpoham`."
   ]
  },
  {
   "cell_type": "code",
   "execution_count": 8,
   "metadata": {},
   "outputs": [
    {
     "data": {
      "text/plain": [
       "MPOHamiltonian{ComplexSpace, TensorMap{ComplexSpace, 2, 2, Trivial, Matrix{ComplexF64}, Nothing, Nothing}, ComplexF64}(MPSKit.SparseMPOSlice{ComplexSpace, TensorMap{ComplexSpace, 2, 2, Trivial, Matrix{ComplexF64}, Nothing, Nothing}, ComplexF64}[[TensorMap((ℂ^1 ⊗ ℂ^2) ← (ℂ^2 ⊗ ℂ^1)):\n",
       "[:, :, 1, 1] =\n",
       " 1.0 + 0.0im  0.0 + 0.0im\n",
       "\n",
       "[:, :, 2, 1] =\n",
       " 0.0 + 0.0im  1.0 + 0.0im\n",
       " TensorMap((ℂ^1 ⊗ ℂ^2) ← (ℂ^2 ⊗ ℂ^3)):\n",
       "[:, :, 1, 1] =\n",
       " 0.0 + 0.0im  0.0 + 0.0im\n",
       "\n",
       "[:, :, 2, 1] =\n",
       " 0.5 + 0.0im  0.0 + 0.0im\n",
       "\n",
       "[:, :, 1, 2] =\n",
       " 0.0 + 0.0im  0.5 + 0.0im\n",
       "\n",
       "[:, :, 2, 2] =\n",
       " 0.0 + 0.0im  0.0 + 0.0im\n",
       "\n",
       "[:, :, 1, 3] =\n",
       " -0.3535533905932736 + 0.0im  0.0 + 0.0im\n",
       "\n",
       "[:, :, 2, 3] =\n",
       " 0.0 + 0.0im  0.35355339059327373 + 0.0im\n",
       " TensorMap((ℂ^1 ⊗ ℂ^2) ← (ℂ^2 ⊗ ℂ^1)):\n",
       "[:, :, 1, 1] =\n",
       " 0.0 + 0.0im  0.0 + 0.0im\n",
       "\n",
       "[:, :, 2, 1] =\n",
       " 0.0 + 0.0im  0.0 + 0.0im\n",
       "; TensorMap((ℂ^3 ⊗ ℂ^2) ← (ℂ^2 ⊗ ℂ^1)):\n",
       "[:, :, 1, 1] =\n",
       " 0.0 + 0.0im  0.0 + 0.0im\n",
       " 0.0 + 0.0im  0.0 + 0.0im\n",
       " 0.0 + 0.0im  0.0 + 0.0im\n",
       "\n",
       "[:, :, 2, 1] =\n",
       " 0.0 + 0.0im  0.0 + 0.0im\n",
       " 0.0 + 0.0im  0.0 + 0.0im\n",
       " 0.0 + 0.0im  0.0 + 0.0im\n",
       " TensorMap((ℂ^3 ⊗ ℂ^2) ← (ℂ^2 ⊗ ℂ^3)):\n",
       "[:, :, 1, 1] =\n",
       " 0.0 + 0.0im  0.0 + 0.0im\n",
       " 0.0 + 0.0im  0.0 + 0.0im\n",
       " 0.0 + 0.0im  0.0 + 0.0im\n",
       "\n",
       "[:, :, 2, 1] =\n",
       " 0.0 + 0.0im  0.0 + 0.0im\n",
       " 0.0 + 0.0im  0.0 + 0.0im\n",
       " 0.0 + 0.0im  0.0 + 0.0im\n",
       "\n",
       "[:, :, 1, 2] =\n",
       " 0.0 + 0.0im  0.0 + 0.0im\n",
       " 0.0 + 0.0im  0.0 + 0.0im\n",
       " 0.0 + 0.0im  0.0 + 0.0im\n",
       "\n",
       "[:, :, 2, 2] =\n",
       " 0.0 + 0.0im  0.0 + 0.0im\n",
       " 0.0 + 0.0im  0.0 + 0.0im\n",
       " 0.0 + 0.0im  0.0 + 0.0im\n",
       "\n",
       "[:, :, 1, 3] =\n",
       " 0.0 + 0.0im  0.0 + 0.0im\n",
       " 0.0 + 0.0im  0.0 + 0.0im\n",
       " 0.0 + 0.0im  0.0 + 0.0im\n",
       "\n",
       "[:, :, 2, 3] =\n",
       " 0.0 + 0.0im  0.0 + 0.0im\n",
       " 0.0 + 0.0im  0.0 + 0.0im\n",
       " 0.0 + 0.0im  0.0 + 0.0im\n",
       " TensorMap((ℂ^3 ⊗ ℂ^2) ← (ℂ^2 ⊗ ℂ^1)):\n",
       "[:, :, 1, 1] =\n",
       "                 0.0 + 0.0im  1.0 + 0.0im\n",
       "                 0.0 + 0.0im  0.0 + 0.0im\n",
       " -0.7071067811865476 + 0.0im  0.0 + 0.0im\n",
       "\n",
       "[:, :, 2, 1] =\n",
       " 0.0 + 0.0im                 0.0 + 0.0im\n",
       " 1.0 + 0.0im                 0.0 + 0.0im\n",
       " 0.0 + 0.0im  0.7071067811865475 + 0.0im\n",
       "; TensorMap((ℂ^1 ⊗ ℂ^2) ← (ℂ^2 ⊗ ℂ^1)):\n",
       "[:, :, 1, 1] =\n",
       " 0.0 + 0.0im  0.0 + 0.0im\n",
       "\n",
       "[:, :, 2, 1] =\n",
       " 0.0 + 0.0im  0.0 + 0.0im\n",
       " TensorMap((ℂ^1 ⊗ ℂ^2) ← (ℂ^2 ⊗ ℂ^3)):\n",
       "[:, :, 1, 1] =\n",
       " 0.0 + 0.0im  0.0 + 0.0im\n",
       "\n",
       "[:, :, 2, 1] =\n",
       " 0.0 + 0.0im  0.0 + 0.0im\n",
       "\n",
       "[:, :, 1, 2] =\n",
       " 0.0 + 0.0im  0.0 + 0.0im\n",
       "\n",
       "[:, :, 2, 2] =\n",
       " 0.0 + 0.0im  0.0 + 0.0im\n",
       "\n",
       "[:, :, 1, 3] =\n",
       " 0.0 + 0.0im  0.0 + 0.0im\n",
       "\n",
       "[:, :, 2, 3] =\n",
       " 0.0 + 0.0im  0.0 + 0.0im\n",
       " TensorMap((ℂ^1 ⊗ ℂ^2) ← (ℂ^2 ⊗ ℂ^1)):\n",
       "[:, :, 1, 1] =\n",
       " 1.0 + 0.0im  0.0 + 0.0im\n",
       "\n",
       "[:, :, 2, 1] =\n",
       " 0.0 + 0.0im  1.0 + 0.0im\n",
       "], [TensorMap((ℂ^1 ⊗ ℂ^2) ← (ℂ^2 ⊗ ℂ^1)):\n",
       "[:, :, 1, 1] =\n",
       " 1.0 + 0.0im  0.0 + 0.0im\n",
       "\n",
       "[:, :, 2, 1] =\n",
       " 0.0 + 0.0im  1.0 + 0.0im\n",
       " TensorMap((ℂ^1 ⊗ ℂ^2) ← (ℂ^2 ⊗ ℂ^3)):\n",
       "[:, :, 1, 1] =\n",
       " 0.0 + 0.0im  0.0 + 0.0im\n",
       "\n",
       "[:, :, 2, 1] =\n",
       " 0.5 + 0.0im  0.0 + 0.0im\n",
       "\n",
       "[:, :, 1, 2] =\n",
       " 0.0 + 0.0im  0.5 + 0.0im\n",
       "\n",
       "[:, :, 2, 2] =\n",
       " 0.0 + 0.0im  0.0 + 0.0im\n",
       "\n",
       "[:, :, 1, 3] =\n",
       " -0.3535533905932736 + 0.0im  0.0 + 0.0im\n",
       "\n",
       "[:, :, 2, 3] =\n",
       " 0.0 + 0.0im  0.35355339059327373 + 0.0im\n",
       " TensorMap((ℂ^1 ⊗ ℂ^2) ← (ℂ^2 ⊗ ℂ^1)):\n",
       "[:, :, 1, 1] =\n",
       " 0.0 + 0.0im  0.0 + 0.0im\n",
       "\n",
       "[:, :, 2, 1] =\n",
       " 0.0 + 0.0im  0.0 + 0.0im\n",
       "; TensorMap((ℂ^3 ⊗ ℂ^2) ← (ℂ^2 ⊗ ℂ^1)):\n",
       "[:, :, 1, 1] =\n",
       " 0.0 + 0.0im  0.0 + 0.0im\n",
       " 0.0 + 0.0im  0.0 + 0.0im\n",
       " 0.0 + 0.0im  0.0 + 0.0im\n",
       "\n",
       "[:, :, 2, 1] =\n",
       " 0.0 + 0.0im  0.0 + 0.0im\n",
       " 0.0 + 0.0im  0.0 + 0.0im\n",
       " 0.0 + 0.0im  0.0 + 0.0im\n",
       " TensorMap((ℂ^3 ⊗ ℂ^2) ← (ℂ^2 ⊗ ℂ^3)):\n",
       "[:, :, 1, 1] =\n",
       " 0.0 + 0.0im  0.0 + 0.0im\n",
       " 0.0 + 0.0im  0.0 + 0.0im\n",
       " 0.0 + 0.0im  0.0 + 0.0im\n",
       "\n",
       "[:, :, 2, 1] =\n",
       " 0.0 + 0.0im  0.0 + 0.0im\n",
       " 0.0 + 0.0im  0.0 + 0.0im\n",
       " 0.0 + 0.0im  0.0 + 0.0im\n",
       "\n",
       "[:, :, 1, 2] =\n",
       " 0.0 + 0.0im  0.0 + 0.0im\n",
       " 0.0 + 0.0im  0.0 + 0.0im\n",
       " 0.0 + 0.0im  0.0 + 0.0im\n",
       "\n",
       "[:, :, 2, 2] =\n",
       " 0.0 + 0.0im  0.0 + 0.0im\n",
       " 0.0 + 0.0im  0.0 + 0.0im\n",
       " 0.0 + 0.0im  0.0 + 0.0im\n",
       "\n",
       "[:, :, 1, 3] =\n",
       " 0.0 + 0.0im  0.0 + 0.0im\n",
       " 0.0 + 0.0im  0.0 + 0.0im\n",
       " 0.0 + 0.0im  0.0 + 0.0im\n",
       "\n",
       "[:, :, 2, 3] =\n",
       " 0.0 + 0.0im  0.0 + 0.0im\n",
       " 0.0 + 0.0im  0.0 + 0.0im\n",
       " 0.0 + 0.0im  0.0 + 0.0im\n",
       " TensorMap((ℂ^3 ⊗ ℂ^2) ← (ℂ^2 ⊗ ℂ^1)):\n",
       "[:, :, 1, 1] =\n",
       "                 0.0 + 0.0im  1.0 + 0.0im\n",
       "                 0.0 + 0.0im  0.0 + 0.0im\n",
       " -0.7071067811865476 + 0.0im  0.0 + 0.0im\n",
       "\n",
       "[:, :, 2, 1] =\n",
       " 0.0 + 0.0im                 0.0 + 0.0im\n",
       " 1.0 + 0.0im                 0.0 + 0.0im\n",
       " 0.0 + 0.0im  0.7071067811865475 + 0.0im\n",
       "; TensorMap((ℂ^1 ⊗ ℂ^2) ← (ℂ^2 ⊗ ℂ^1)):\n",
       "[:, :, 1, 1] =\n",
       " 0.0 + 0.0im  0.0 + 0.0im\n",
       "\n",
       "[:, :, 2, 1] =\n",
       " 0.0 + 0.0im  0.0 + 0.0im\n",
       " TensorMap((ℂ^1 ⊗ ℂ^2) ← (ℂ^2 ⊗ ℂ^3)):\n",
       "[:, :, 1, 1] =\n",
       " 0.0 + 0.0im  0.0 + 0.0im\n",
       "\n",
       "[:, :, 2, 1] =\n",
       " 0.0 + 0.0im  0.0 + 0.0im\n",
       "\n",
       "[:, :, 1, 2] =\n",
       " 0.0 + 0.0im  0.0 + 0.0im\n",
       "\n",
       "[:, :, 2, 2] =\n",
       " 0.0 + 0.0im  0.0 + 0.0im\n",
       "\n",
       "[:, :, 1, 3] =\n",
       " 0.0 + 0.0im  0.0 + 0.0im\n",
       "\n",
       "[:, :, 2, 3] =\n",
       " 0.0 + 0.0im  0.0 + 0.0im\n",
       " TensorMap((ℂ^1 ⊗ ℂ^2) ← (ℂ^2 ⊗ ℂ^1)):\n",
       "[:, :, 1, 1] =\n",
       " 1.0 + 0.0im  0.0 + 0.0im\n",
       "\n",
       "[:, :, 2, 1] =\n",
       " 0.0 + 0.0im  1.0 + 0.0im\n",
       "]])"
      ]
     },
     "metadata": {},
     "output_type": "display_data"
    }
   ],
   "source": [
    "# H2 = repeat(H, 2); -- copies the one-site version\n",
    "H2 = xxx(ComplexF64, ℤ{1}, InfiniteChain(2); spin=1//2)"
   ]
  },
  {
   "cell_type": "code",
   "execution_count": 9,
   "metadata": {},
   "outputs": [
    {
     "name": "stderr",
     "output_type": "stream",
     "text": [
      "┌ Info: vumps @iteration 1 galerkin = 0.02543220019294478\n",
      "└ @ MPSKit /home/lkdvos/Projects/JuliaProjects/MPSKit.jl/src/algorithms/groundstate/vumps.jl:66\n"
     ]
    },
    {
     "name": "stderr",
     "output_type": "stream",
     "text": [
      "┌ Info: vumps @iteration 2 galerkin = 0.5249442298813334\n",
      "└ @ MPSKit /home/lkdvos/Projects/JuliaProjects/MPSKit.jl/src/algorithms/groundstate/vumps.jl:66\n"
     ]
    },
    {
     "name": "stderr",
     "output_type": "stream",
     "text": [
      "┌ Info: vumps @iteration 3 galerkin = 0.04958266738227484\n",
      "└ @ MPSKit /home/lkdvos/Projects/JuliaProjects/MPSKit.jl/src/algorithms/groundstate/vumps.jl:66\n",
      "┌ Info: vumps @iteration 4 galerkin = 0.010724704534439685\n",
      "└ @ MPSKit /home/lkdvos/Projects/JuliaProjects/MPSKit.jl/src/algorithms/groundstate/vumps.jl:66\n"
     ]
    },
    {
     "name": "stderr",
     "output_type": "stream",
     "text": [
      "┌ Info: vumps @iteration 5 galerkin = 0.0061625660954955285\n",
      "└ @ MPSKit /home/lkdvos/Projects/JuliaProjects/MPSKit.jl/src/algorithms/groundstate/vumps.jl:66\n"
     ]
    },
    {
     "name": "stderr",
     "output_type": "stream",
     "text": [
      "┌ Info: vumps @iteration 6 galerkin = 0.0045550519448618685\n",
      "└ @ MPSKit /home/lkdvos/Projects/JuliaProjects/MPSKit.jl/src/algorithms/groundstate/vumps.jl:66\n",
      "┌ Info: vumps @iteration 7 galerkin = 0.002928947594456801\n",
      "└ @ MPSKit /home/lkdvos/Projects/JuliaProjects/MPSKit.jl/src/algorithms/groundstate/vumps.jl:66\n"
     ]
    },
    {
     "name": "stderr",
     "output_type": "stream",
     "text": [
      "┌ Info: vumps @iteration 8 galerkin = 0.002020002445225532\n",
      "└ @ MPSKit /home/lkdvos/Projects/JuliaProjects/MPSKit.jl/src/algorithms/groundstate/vumps.jl:66\n",
      "┌ Info: vumps @iteration 9 galerkin = 0.0013286844194799754\n",
      "└ @ MPSKit /home/lkdvos/Projects/JuliaProjects/MPSKit.jl/src/algorithms/groundstate/vumps.jl:66\n"
     ]
    },
    {
     "name": "stderr",
     "output_type": "stream",
     "text": [
      "┌ Info: vumps @iteration 10 galerkin = 0.0009524223642284259\n",
      "└ @ MPSKit /home/lkdvos/Projects/JuliaProjects/MPSKit.jl/src/algorithms/groundstate/vumps.jl:66\n",
      "┌ Info: vumps @iteration 11 galerkin = 0.0006621620182967126\n",
      "└ @ MPSKit /home/lkdvos/Projects/JuliaProjects/MPSKit.jl/src/algorithms/groundstate/vumps.jl:66\n"
     ]
    },
    {
     "name": "stderr",
     "output_type": "stream",
     "text": [
      "┌ Info: vumps @iteration 12 galerkin = 0.0004894166953940982\n",
      "└ @ MPSKit /home/lkdvos/Projects/JuliaProjects/MPSKit.jl/src/algorithms/groundstate/vumps.jl:66\n"
     ]
    },
    {
     "name": "stderr",
     "output_type": "stream",
     "text": [
      "┌ Info: vumps @iteration 13 galerkin = 0.0003471616505208656\n",
      "└ @ MPSKit /home/lkdvos/Projects/JuliaProjects/MPSKit.jl/src/algorithms/groundstate/vumps.jl:66\n"
     ]
    },
    {
     "name": "stderr",
     "output_type": "stream",
     "text": [
      "┌ Info: vumps @iteration 14 galerkin = 0.00026093210394197413\n",
      "└ @ MPSKit /home/lkdvos/Projects/JuliaProjects/MPSKit.jl/src/algorithms/groundstate/vumps.jl:66\n"
     ]
    },
    {
     "name": "stderr",
     "output_type": "stream",
     "text": [
      "┌ Info: vumps @iteration 15 galerkin = 0.0001922566662148301\n",
      "└ @ MPSKit /home/lkdvos/Projects/JuliaProjects/MPSKit.jl/src/algorithms/groundstate/vumps.jl:66\n",
      "┌ Info: vumps @iteration 16 galerkin = 0.00014801052443432766\n",
      "└ @ MPSKit /home/lkdvos/Projects/JuliaProjects/MPSKit.jl/src/algorithms/groundstate/vumps.jl:66\n"
     ]
    },
    {
     "name": "stderr",
     "output_type": "stream",
     "text": [
      "┌ Info: vumps @iteration 17 galerkin = 0.00011799712383608287\n",
      "└ @ MPSKit /home/lkdvos/Projects/JuliaProjects/MPSKit.jl/src/algorithms/groundstate/vumps.jl:66\n"
     ]
    },
    {
     "name": "stderr",
     "output_type": "stream",
     "text": [
      "┌ Info: vumps @iteration 18 galerkin = 9.33814688113562e-5\n",
      "└ @ MPSKit /home/lkdvos/Projects/JuliaProjects/MPSKit.jl/src/algorithms/groundstate/vumps.jl:66\n",
      "┌ Info: vumps @iteration 19 galerkin = 8.30235965798156e-5\n",
      "└ @ MPSKit /home/lkdvos/Projects/JuliaProjects/MPSKit.jl/src/algorithms/groundstate/vumps.jl:66\n"
     ]
    },
    {
     "name": "stderr",
     "output_type": "stream",
     "text": [
      "┌ Info: vumps @iteration 20 galerkin = 6.822682563647491e-5\n",
      "└ @ MPSKit /home/lkdvos/Projects/JuliaProjects/MPSKit.jl/src/algorithms/groundstate/vumps.jl:66\n",
      "┌ Info: vumps @iteration 21 galerkin = 6.546406085594308e-5\n",
      "└ @ MPSKit /home/lkdvos/Projects/JuliaProjects/MPSKit.jl/src/algorithms/groundstate/vumps.jl:66\n"
     ]
    },
    {
     "name": "stderr",
     "output_type": "stream",
     "text": [
      "┌ Info: vumps @iteration 22 galerkin = 5.705076320175656e-5\n",
      "└ @ MPSKit /home/lkdvos/Projects/JuliaProjects/MPSKit.jl/src/algorithms/groundstate/vumps.jl:66\n",
      "┌ Info: vumps @iteration 23 galerkin = 5.5054632399738816e-5\n",
      "└ @ MPSKit /home/lkdvos/Projects/JuliaProjects/MPSKit.jl/src/algorithms/groundstate/vumps.jl:66\n"
     ]
    },
    {
     "name": "stderr",
     "output_type": "stream",
     "text": [
      "┌ Info: vumps @iteration 24 galerkin = 4.9482549049995984e-5\n",
      "└ @ MPSKit /home/lkdvos/Projects/JuliaProjects/MPSKit.jl/src/algorithms/groundstate/vumps.jl:66\n",
      "┌ Info: vumps @iteration 25 galerkin = 4.770628037865315e-5\n",
      "└ @ MPSKit /home/lkdvos/Projects/JuliaProjects/MPSKit.jl/src/algorithms/groundstate/vumps.jl:66\n"
     ]
    },
    {
     "name": "stderr",
     "output_type": "stream",
     "text": [
      "┌ Info: vumps @iteration 26 galerkin = 4.354373436001694e-5\n",
      "└ @ MPSKit /home/lkdvos/Projects/JuliaProjects/MPSKit.jl/src/algorithms/groundstate/vumps.jl:66\n"
     ]
    },
    {
     "name": "stderr",
     "output_type": "stream",
     "text": [
      "┌ Info: vumps @iteration 27 galerkin = 4.19156015150698e-5\n",
      "└ @ MPSKit /home/lkdvos/Projects/JuliaProjects/MPSKit.jl/src/algorithms/groundstate/vumps.jl:66\n",
      "┌ Info: vumps @iteration 28 galerkin = 3.857336089865533e-5\n",
      "└ @ MPSKit /home/lkdvos/Projects/JuliaProjects/MPSKit.jl/src/algorithms/groundstate/vumps.jl:66\n"
     ]
    },
    {
     "name": "stderr",
     "output_type": "stream",
     "text": [
      "┌ Info: vumps @iteration 29 galerkin = 3.7104298415516015e-5\n",
      "└ @ MPSKit /home/lkdvos/Projects/JuliaProjects/MPSKit.jl/src/algorithms/groundstate/vumps.jl:66\n",
      "┌ Info: vumps @iteration 30 galerkin = 3.431596847103874e-5\n",
      "└ @ MPSKit /home/lkdvos/Projects/JuliaProjects/MPSKit.jl/src/algorithms/groundstate/vumps.jl:66\n"
     ]
    },
    {
     "name": "stderr",
     "output_type": "stream",
     "text": [
      "┌ Info: vumps @iteration 31 galerkin = 3.301295940321001e-5\n",
      "└ @ MPSKit /home/lkdvos/Projects/JuliaProjects/MPSKit.jl/src/algorithms/groundstate/vumps.jl:66\n"
     ]
    },
    {
     "name": "stderr",
     "output_type": "stream",
     "text": [
      "┌ Info: vumps @iteration 32 galerkin = 3.064114459043863e-5\n",
      "└ @ MPSKit /home/lkdvos/Projects/JuliaProjects/MPSKit.jl/src/algorithms/groundstate/vumps.jl:66\n"
     ]
    },
    {
     "name": "stderr",
     "output_type": "stream",
     "text": [
      "┌ Info: vumps @iteration 33 galerkin = 2.9498613295324283e-5\n",
      "└ @ MPSKit /home/lkdvos/Projects/JuliaProjects/MPSKit.jl/src/algorithms/groundstate/vumps.jl:66\n",
      "┌ Info: vumps @iteration 34 galerkin = 2.7461864669632512e-5\n",
      "└ @ MPSKit /home/lkdvos/Projects/JuliaProjects/MPSKit.jl/src/algorithms/groundstate/vumps.jl:66\n"
     ]
    },
    {
     "name": "stderr",
     "output_type": "stream",
     "text": [
      "┌ Info: vumps @iteration 35 galerkin = 2.6466697354578844e-5\n",
      "└ @ MPSKit /home/lkdvos/Projects/JuliaProjects/MPSKit.jl/src/algorithms/groundstate/vumps.jl:66\n"
     ]
    },
    {
     "name": "stderr",
     "output_type": "stream",
     "text": [
      "┌ Info: vumps @iteration 36 galerkin = 2.4710442429834914e-5\n",
      "└ @ MPSKit /home/lkdvos/Projects/JuliaProjects/MPSKit.jl/src/algorithms/groundstate/vumps.jl:66\n",
      "┌ Info: vumps @iteration 37 galerkin = 2.3846697731182484e-5\n",
      "└ @ MPSKit /home/lkdvos/Projects/JuliaProjects/MPSKit.jl/src/algorithms/groundstate/vumps.jl:66\n"
     ]
    },
    {
     "name": "stderr",
     "output_type": "stream",
     "text": [
      "┌ Info: vumps @iteration 38 galerkin = 2.2330835551288994e-5\n",
      "└ @ MPSKit /home/lkdvos/Projects/JuliaProjects/MPSKit.jl/src/algorithms/groundstate/vumps.jl:66\n",
      "┌ Info: vumps @iteration 39 galerkin = 2.1582442168170867e-5\n",
      "└ @ MPSKit /home/lkdvos/Projects/JuliaProjects/MPSKit.jl/src/algorithms/groundstate/vumps.jl:66\n"
     ]
    },
    {
     "name": "stderr",
     "output_type": "stream",
     "text": [
      "┌ Info: vumps @iteration 40 galerkin = 2.0275636429046028e-5\n",
      "└ @ MPSKit /home/lkdvos/Projects/JuliaProjects/MPSKit.jl/src/algorithms/groundstate/vumps.jl:66\n",
      "┌ Info: vumps @iteration 41 galerkin = 1.9627638714908444e-5\n",
      "└ @ MPSKit /home/lkdvos/Projects/JuliaProjects/MPSKit.jl/src/algorithms/groundstate/vumps.jl:66\n"
     ]
    },
    {
     "name": "stderr",
     "output_type": "stream",
     "text": [
      "┌ Info: vumps @iteration 42 galerkin = 1.8504482971162776e-5\n",
      "└ @ MPSKit /home/lkdvos/Projects/JuliaProjects/MPSKit.jl/src/algorithms/groundstate/vumps.jl:66\n",
      "┌ Info: vumps @iteration 43 galerkin = 1.7943495095839635e-5\n",
      "└ @ MPSKit /home/lkdvos/Projects/JuliaProjects/MPSKit.jl/src/algorithms/groundstate/vumps.jl:66\n"
     ]
    },
    {
     "name": "stderr",
     "output_type": "stream",
     "text": [
      "┌ Info: vumps @iteration 44 galerkin = 1.6982985777797357e-5\n",
      "└ @ MPSKit /home/lkdvos/Projects/JuliaProjects/MPSKit.jl/src/algorithms/groundstate/vumps.jl:66\n"
     ]
    },
    {
     "name": "stderr",
     "output_type": "stream",
     "text": [
      "┌ Info: vumps @iteration 45 galerkin = 1.649727022365584e-5\n",
      "└ @ MPSKit /home/lkdvos/Projects/JuliaProjects/MPSKit.jl/src/algorithms/groundstate/vumps.jl:66\n",
      "┌ Info: vumps @iteration 46 galerkin = 1.5681903593958457e-5\n",
      "└ @ MPSKit /home/lkdvos/Projects/JuliaProjects/MPSKit.jl/src/algorithms/groundstate/vumps.jl:66\n"
     ]
    },
    {
     "name": "stderr",
     "output_type": "stream",
     "text": [
      "┌ Info: vumps @iteration 47 galerkin = 1.5261291850697172e-5\n",
      "└ @ MPSKit /home/lkdvos/Projects/JuliaProjects/MPSKit.jl/src/algorithms/groundstate/vumps.jl:66\n",
      "┌ Info: vumps @iteration 48 galerkin = 1.4576469266596233e-5\n",
      "└ @ MPSKit /home/lkdvos/Projects/JuliaProjects/MPSKit.jl/src/algorithms/groundstate/vumps.jl:66\n"
     ]
    },
    {
     "name": "stderr",
     "output_type": "stream",
     "text": [
      "┌ Info: vumps @iteration 49 galerkin = 1.4212230564373968e-5\n",
      "└ @ MPSKit /home/lkdvos/Projects/JuliaProjects/MPSKit.jl/src/algorithms/groundstate/vumps.jl:66\n"
     ]
    },
    {
     "name": "stderr",
     "output_type": "stream",
     "text": [
      "┌ Info: vumps @iteration 50 galerkin = 1.3645823204779766e-5\n",
      "└ @ MPSKit /home/lkdvos/Projects/JuliaProjects/MPSKit.jl/src/algorithms/groundstate/vumps.jl:66\n",
      "┌ Info: vumps @iteration 51 galerkin = 1.333052818560079e-5\n",
      "└ @ MPSKit /home/lkdvos/Projects/JuliaProjects/MPSKit.jl/src/algorithms/groundstate/vumps.jl:66\n"
     ]
    },
    {
     "name": "stderr",
     "output_type": "stream",
     "text": [
      "┌ Info: vumps @iteration 52 galerkin = 1.2872532417372544e-5\n",
      "└ @ MPSKit /home/lkdvos/Projects/JuliaProjects/MPSKit.jl/src/algorithms/groundstate/vumps.jl:66\n",
      "┌ Info: vumps @iteration 53 galerkin = 1.2599927411011311e-5\n",
      "└ @ MPSKit /home/lkdvos/Projects/JuliaProjects/MPSKit.jl/src/algorithms/groundstate/vumps.jl:66\n"
     ]
    },
    {
     "name": "stderr",
     "output_type": "stream",
     "text": [
      "┌ Info: vumps @iteration 54 galerkin = 1.224217179851306e-5\n",
      "└ @ MPSKit /home/lkdvos/Projects/JuliaProjects/MPSKit.jl/src/algorithms/groundstate/vumps.jl:66\n"
     ]
    },
    {
     "name": "stderr",
     "output_type": "stream",
     "text": [
      "┌ Info: vumps @iteration 55 galerkin = 1.200706254950751e-5\n",
      "└ @ MPSKit /home/lkdvos/Projects/JuliaProjects/MPSKit.jl/src/algorithms/groundstate/vumps.jl:66\n",
      "┌ Info: vumps @iteration 56 galerkin = 1.1742906369097184e-5\n",
      "└ @ MPSKit /home/lkdvos/Projects/JuliaProjects/MPSKit.jl/src/algorithms/groundstate/vumps.jl:66\n"
     ]
    },
    {
     "name": "stderr",
     "output_type": "stream",
     "text": [
      "┌ Info: vumps @iteration 57 galerkin = 1.1541042747058285e-5\n",
      "└ @ MPSKit /home/lkdvos/Projects/JuliaProjects/MPSKit.jl/src/algorithms/groundstate/vumps.jl:66\n"
     ]
    },
    {
     "name": "stderr",
     "output_type": "stream",
     "text": [
      "┌ Info: vumps @iteration 58 galerkin = 1.1365228125625888e-5\n",
      "└ @ MPSKit /home/lkdvos/Projects/JuliaProjects/MPSKit.jl/src/algorithms/groundstate/vumps.jl:66\n",
      "┌ Info: vumps @iteration 59 galerkin = 1.1193368315906971e-5\n",
      "└ @ MPSKit /home/lkdvos/Projects/JuliaProjects/MPSKit.jl/src/algorithms/groundstate/vumps.jl:66\n"
     ]
    },
    {
     "name": "stderr",
     "output_type": "stream",
     "text": [
      "┌ Info: vumps @iteration 60 galerkin = 1.1101484585475204e-5\n",
      "└ @ MPSKit /home/lkdvos/Projects/JuliaProjects/MPSKit.jl/src/algorithms/groundstate/vumps.jl:66\n",
      "┌ Info: vumps @iteration 61 galerkin = 1.0957184832281284e-5\n",
      "└ @ MPSKit /home/lkdvos/Projects/JuliaProjects/MPSKit.jl/src/algorithms/groundstate/vumps.jl:66\n"
     ]
    },
    {
     "name": "stderr",
     "output_type": "stream",
     "text": [
      "┌ Info: vumps @iteration 62 galerkin = 1.094593796032173e-5\n",
      "└ @ MPSKit /home/lkdvos/Projects/JuliaProjects/MPSKit.jl/src/algorithms/groundstate/vumps.jl:66\n"
     ]
    },
    {
     "name": "stderr",
     "output_type": "stream",
     "text": [
      "┌ Info: vumps @iteration 63 galerkin = 1.0827746521754048e-5\n",
      "└ @ MPSKit /home/lkdvos/Projects/JuliaProjects/MPSKit.jl/src/algorithms/groundstate/vumps.jl:66\n",
      "┌ Info: vumps @iteration 64 galerkin = 1.0894651432156537e-5\n",
      "└ @ MPSKit /home/lkdvos/Projects/JuliaProjects/MPSKit.jl/src/algorithms/groundstate/vumps.jl:66\n"
     ]
    },
    {
     "name": "stderr",
     "output_type": "stream",
     "text": [
      "┌ Info: vumps @iteration 65 galerkin = 1.080195114685624e-5\n",
      "└ @ MPSKit /home/lkdvos/Projects/JuliaProjects/MPSKit.jl/src/algorithms/groundstate/vumps.jl:66\n",
      "┌ Info: vumps @iteration 66 galerkin = 1.0945397557333387e-5\n",
      "└ @ MPSKit /home/lkdvos/Projects/JuliaProjects/MPSKit.jl/src/algorithms/groundstate/vumps.jl:66\n"
     ]
    },
    {
     "name": "stderr",
     "output_type": "stream",
     "text": [
      "┌ Info: vumps @iteration 67 galerkin = 1.0878390560233222e-5\n",
      "└ @ MPSKit /home/lkdvos/Projects/JuliaProjects/MPSKit.jl/src/algorithms/groundstate/vumps.jl:66\n"
     ]
    },
    {
     "name": "stderr",
     "output_type": "stream",
     "text": [
      "┌ Info: vumps @iteration 68 galerkin = 1.1097626622615708e-5\n",
      "└ @ MPSKit /home/lkdvos/Projects/JuliaProjects/MPSKit.jl/src/algorithms/groundstate/vumps.jl:66\n",
      "┌ Info: vumps @iteration 69 galerkin = 1.1057392244661787e-5\n",
      "└ @ MPSKit /home/lkdvos/Projects/JuliaProjects/MPSKit.jl/src/algorithms/groundstate/vumps.jl:66\n"
     ]
    },
    {
     "name": "stderr",
     "output_type": "stream",
     "text": [
      "┌ Info: vumps @iteration 70 galerkin = 1.1352588079615782e-5\n",
      "└ @ MPSKit /home/lkdvos/Projects/JuliaProjects/MPSKit.jl/src/algorithms/groundstate/vumps.jl:66\n",
      "┌ Info: vumps @iteration 71 galerkin = 1.1341153178123044e-5\n",
      "└ @ MPSKit /home/lkdvos/Projects/JuliaProjects/MPSKit.jl/src/algorithms/groundstate/vumps.jl:66\n"
     ]
    },
    {
     "name": "stderr",
     "output_type": "stream",
     "text": [
      "┌ Info: vumps @iteration 72 galerkin = 1.1713526018076478e-5\n",
      "└ @ MPSKit /home/lkdvos/Projects/JuliaProjects/MPSKit.jl/src/algorithms/groundstate/vumps.jl:66\n"
     ]
    },
    {
     "name": "stderr",
     "output_type": "stream",
     "text": [
      "┌ Info: vumps @iteration 73 galerkin = 1.1733975553524016e-5\n",
      "└ @ MPSKit /home/lkdvos/Projects/JuliaProjects/MPSKit.jl/src/algorithms/groundstate/vumps.jl:66\n",
      "┌ Info: vumps @iteration 74 galerkin = 1.2185973894507819e-5\n",
      "└ @ MPSKit /home/lkdvos/Projects/JuliaProjects/MPSKit.jl/src/algorithms/groundstate/vumps.jl:66\n"
     ]
    },
    {
     "name": "stderr",
     "output_type": "stream",
     "text": [
      "┌ Info: vumps @iteration 75 galerkin = 1.224261825498835e-5\n",
      "└ @ MPSKit /home/lkdvos/Projects/JuliaProjects/MPSKit.jl/src/algorithms/groundstate/vumps.jl:66\n",
      "┌ Info: vumps @iteration 76 galerkin = 1.2778168261403736e-5\n",
      "└ @ MPSKit /home/lkdvos/Projects/JuliaProjects/MPSKit.jl/src/algorithms/groundstate/vumps.jl:66\n"
     ]
    },
    {
     "name": "stderr",
     "output_type": "stream",
     "text": [
      "┌ Info: vumps @iteration 77 galerkin = 1.2876788307418845e-5\n",
      "└ @ MPSKit /home/lkdvos/Projects/JuliaProjects/MPSKit.jl/src/algorithms/groundstate/vumps.jl:66\n"
     ]
    },
    {
     "name": "stderr",
     "output_type": "stream",
     "text": [
      "┌ Info: vumps @iteration 78 galerkin = 1.3501614864103536e-5\n",
      "└ @ MPSKit /home/lkdvos/Projects/JuliaProjects/MPSKit.jl/src/algorithms/groundstate/vumps.jl:66\n",
      "┌ Info: vumps @iteration 79 galerkin = 1.3649813429153161e-5\n",
      "└ @ MPSKit /home/lkdvos/Projects/JuliaProjects/MPSKit.jl/src/algorithms/groundstate/vumps.jl:66\n"
     ]
    },
    {
     "name": "stderr",
     "output_type": "stream",
     "text": [
      "┌ Info: vumps @iteration 80 galerkin = 1.4371859420768506e-5\n",
      "└ @ MPSKit /home/lkdvos/Projects/JuliaProjects/MPSKit.jl/src/algorithms/groundstate/vumps.jl:66\n",
      "┌ Info: vumps @iteration 81 galerkin = 1.4579560689824656e-5\n",
      "└ @ MPSKit /home/lkdvos/Projects/JuliaProjects/MPSKit.jl/src/algorithms/groundstate/vumps.jl:66\n"
     ]
    },
    {
     "name": "stderr",
     "output_type": "stream",
     "text": [
      "┌ Info: vumps @iteration 82 galerkin = 1.540954465611602e-5\n",
      "└ @ MPSKit /home/lkdvos/Projects/JuliaProjects/MPSKit.jl/src/algorithms/groundstate/vumps.jl:66\n"
     ]
    },
    {
     "name": "stderr",
     "output_type": "stream",
     "text": [
      "┌ Info: vumps @iteration 83 galerkin = 1.56897023662347e-5\n",
      "└ @ MPSKit /home/lkdvos/Projects/JuliaProjects/MPSKit.jl/src/algorithms/groundstate/vumps.jl:66\n",
      "┌ Info: vumps @iteration 84 galerkin = 1.6641877776456977e-5\n",
      "└ @ MPSKit /home/lkdvos/Projects/JuliaProjects/MPSKit.jl/src/algorithms/groundstate/vumps.jl:66\n"
     ]
    },
    {
     "name": "stderr",
     "output_type": "stream",
     "text": [
      "┌ Info: vumps @iteration 85 galerkin = 1.7011484980397462e-5\n",
      "└ @ MPSKit /home/lkdvos/Projects/JuliaProjects/MPSKit.jl/src/algorithms/groundstate/vumps.jl:66\n",
      "┌ Info: vumps @iteration 86 galerkin = 1.81047001328713e-5\n",
      "└ @ MPSKit /home/lkdvos/Projects/JuliaProjects/MPSKit.jl/src/algorithms/groundstate/vumps.jl:66\n"
     ]
    },
    {
     "name": "stderr",
     "output_type": "stream",
     "text": [
      "┌ Info: vumps @iteration 87 galerkin = 1.8586245227229376e-5\n",
      "└ @ MPSKit /home/lkdvos/Projects/JuliaProjects/MPSKit.jl/src/algorithms/groundstate/vumps.jl:66\n"
     ]
    },
    {
     "name": "stderr",
     "output_type": "stream",
     "text": [
      "┌ Info: vumps @iteration 88 galerkin = 1.984545914603015e-5\n",
      "└ @ MPSKit /home/lkdvos/Projects/JuliaProjects/MPSKit.jl/src/algorithms/groundstate/vumps.jl:66\n"
     ]
    },
    {
     "name": "stderr",
     "output_type": "stream",
     "text": [
      "┌ Info: vumps @iteration 89 galerkin = 2.0469058408483606e-5\n",
      "└ @ MPSKit /home/lkdvos/Projects/JuliaProjects/MPSKit.jl/src/algorithms/groundstate/vumps.jl:66\n"
     ]
    },
    {
     "name": "stderr",
     "output_type": "stream",
     "text": [
      "┌ Info: vumps @iteration 90 galerkin = 2.192756231841514e-5\n",
      "└ @ MPSKit /home/lkdvos/Projects/JuliaProjects/MPSKit.jl/src/algorithms/groundstate/vumps.jl:66\n",
      "┌ Info: vumps @iteration 91 galerkin = 2.2734142531609724e-5\n",
      "└ @ MPSKit /home/lkdvos/Projects/JuliaProjects/MPSKit.jl/src/algorithms/groundstate/vumps.jl:66\n"
     ]
    },
    {
     "name": "stderr",
     "output_type": "stream",
     "text": [
      "┌ Info: vumps @iteration 92 galerkin = 2.4436901070060933e-5\n",
      "└ @ MPSKit /home/lkdvos/Projects/JuliaProjects/MPSKit.jl/src/algorithms/groundstate/vumps.jl:66\n",
      "┌ Info: vumps @iteration 93 galerkin = 2.5483059031054116e-5\n",
      "└ @ MPSKit /home/lkdvos/Projects/JuliaProjects/MPSKit.jl/src/algorithms/groundstate/vumps.jl:66\n"
     ]
    },
    {
     "name": "stderr",
     "output_type": "stream",
     "text": [
      "┌ Info: vumps @iteration 94 galerkin = 2.7491876749732383e-5\n",
      "└ @ MPSKit /home/lkdvos/Projects/JuliaProjects/MPSKit.jl/src/algorithms/groundstate/vumps.jl:66\n",
      "┌ Info: vumps @iteration 95 galerkin = 2.8857493850486355e-5\n",
      "└ @ MPSKit /home/lkdvos/Projects/JuliaProjects/MPSKit.jl/src/algorithms/groundstate/vumps.jl:66\n"
     ]
    },
    {
     "name": "stderr",
     "output_type": "stream",
     "text": [
      "┌ Info: vumps @iteration 96 galerkin = 3.125925440756088e-5\n",
      "└ @ MPSKit /home/lkdvos/Projects/JuliaProjects/MPSKit.jl/src/algorithms/groundstate/vumps.jl:66\n"
     ]
    },
    {
     "name": "stderr",
     "output_type": "stream",
     "text": [
      "┌ Info: vumps @iteration 97 galerkin = 3.307140668261403e-5\n",
      "└ @ MPSKit /home/lkdvos/Projects/JuliaProjects/MPSKit.jl/src/algorithms/groundstate/vumps.jl:66\n",
      "┌ Info: vumps @iteration 98 galerkin = 3.598004685972465e-5\n",
      "└ @ MPSKit /home/lkdvos/Projects/JuliaProjects/MPSKit.jl/src/algorithms/groundstate/vumps.jl:66\n"
     ]
    },
    {
     "name": "stderr",
     "output_type": "stream",
     "text": [
      "┌ Info: vumps @iteration 99 galerkin = 3.839703168679361e-5\n",
      "└ @ MPSKit /home/lkdvos/Projects/JuliaProjects/MPSKit.jl/src/algorithms/groundstate/vumps.jl:66\n",
      "┌ Info: vumps @iteration 100 galerkin = 4.201330743201275e-5\n",
      "└ @ MPSKit /home/lkdvos/Projects/JuliaProjects/MPSKit.jl/src/algorithms/groundstate/vumps.jl:66\n",
      "┌ Warning: vumps didn't converge 4.201330743201275e-5\n",
      "└ @ MPSKit /home/lkdvos/Projects/JuliaProjects/MPSKit.jl/src/algorithms/groundstate/vumps.jl:69\n"
     ]
    }
   ],
   "source": [
    "groundstate, cache, delta = find_groundstate(state, H2, VUMPS(maxiter=100, tol_galerkin=1e-12));"
   ]
  },
  {
   "attachments": {},
   "cell_type": "markdown",
   "metadata": {},
   "source": [
    "We get convergence, but it takes an enormous amount of iterations.\n",
    "The reason behind this becomes more obvious at higher bond dimensions:"
   ]
  },
  {
   "cell_type": "code",
   "execution_count": 10,
   "metadata": {},
   "outputs": [
    {
     "name": "stderr",
     "output_type": "stream",
     "text": [
      "┌ Info: idmrg iter 1 err 0.03622931795054525\n",
      "└ @ MPSKit /home/lkdvos/Projects/JuliaProjects/MPSKit.jl/src/algorithms/groundstate/idmrg.jl:188\n"
     ]
    },
    {
     "name": "stderr",
     "output_type": "stream",
     "text": [
      "┌ Info: idmrg iter 2 err 0.019393397302014153\n",
      "└ @ MPSKit /home/lkdvos/Projects/JuliaProjects/MPSKit.jl/src/algorithms/groundstate/idmrg.jl:188\n"
     ]
    },
    {
     "name": "stderr",
     "output_type": "stream",
     "text": [
      "┌ Info: idmrg iter 3 err 0.013304124898729397\n",
      "└ @ MPSKit /home/lkdvos/Projects/JuliaProjects/MPSKit.jl/src/algorithms/groundstate/idmrg.jl:188\n"
     ]
    },
    {
     "name": "stderr",
     "output_type": "stream",
     "text": [
      "┌ Info: idmrg iter 4 err 0.010100162046560638\n",
      "└ @ MPSKit /home/lkdvos/Projects/JuliaProjects/MPSKit.jl/src/algorithms/groundstate/idmrg.jl:188\n"
     ]
    },
    {
     "name": "stderr",
     "output_type": "stream",
     "text": [
      "┌ Info: idmrg iter 5 err 0.008120935852796187\n",
      "└ @ MPSKit /home/lkdvos/Projects/JuliaProjects/MPSKit.jl/src/algorithms/groundstate/idmrg.jl:188\n"
     ]
    },
    {
     "name": "stderr",
     "output_type": "stream",
     "text": [
      "┌ Info: idmrg iter 6 err 0.006777802868640598\n",
      "└ @ MPSKit /home/lkdvos/Projects/JuliaProjects/MPSKit.jl/src/algorithms/groundstate/idmrg.jl:188\n"
     ]
    },
    {
     "name": "stderr",
     "output_type": "stream",
     "text": [
      "┌ Info: idmrg iter 7 err 0.005807601507214752\n",
      "└ @ MPSKit /home/lkdvos/Projects/JuliaProjects/MPSKit.jl/src/algorithms/groundstate/idmrg.jl:188\n"
     ]
    },
    {
     "name": "stderr",
     "output_type": "stream",
     "text": [
      "┌ Info: idmrg iter 8 err 0.00507444077753642\n",
      "└ @ MPSKit /home/lkdvos/Projects/JuliaProjects/MPSKit.jl/src/algorithms/groundstate/idmrg.jl:188\n"
     ]
    },
    {
     "name": "stderr",
     "output_type": "stream",
     "text": [
      "┌ Info: idmrg iter 9 err 0.004501648318869716\n",
      "└ @ MPSKit /home/lkdvos/Projects/JuliaProjects/MPSKit.jl/src/algorithms/groundstate/idmrg.jl:188\n"
     ]
    },
    {
     "name": "stderr",
     "output_type": "stream",
     "text": [
      "┌ Info: idmrg iter 10 err 0.004041684563059507\n",
      "└ @ MPSKit /home/lkdvos/Projects/JuliaProjects/MPSKit.jl/src/algorithms/groundstate/idmrg.jl:188\n"
     ]
    },
    {
     "name": "stderr",
     "output_type": "stream",
     "text": [
      "┌ Info: idmrg iter 11 err 0.003664776378453068\n",
      "└ @ MPSKit /home/lkdvos/Projects/JuliaProjects/MPSKit.jl/src/algorithms/groundstate/idmrg.jl:188\n"
     ]
    },
    {
     "name": "stderr",
     "output_type": "stream",
     "text": [
      "┌ Info: idmrg iter 12 err 0.003350115603997533\n",
      "└ @ MPSKit /home/lkdvos/Projects/JuliaProjects/MPSKit.jl/src/algorithms/groundstate/idmrg.jl:188\n"
     ]
    },
    {
     "name": "stderr",
     "output_type": "stream",
     "text": [
      "┌ Info: idmrg iter 13 err 0.003083612587427198\n",
      "└ @ MPSKit /home/lkdvos/Projects/JuliaProjects/MPSKit.jl/src/algorithms/groundstate/idmrg.jl:188\n"
     ]
    },
    {
     "name": "stderr",
     "output_type": "stream",
     "text": [
      "┌ Info: idmrg iter 14 err 0.0028550424125006442\n",
      "└ @ MPSKit /home/lkdvos/Projects/JuliaProjects/MPSKit.jl/src/algorithms/groundstate/idmrg.jl:188\n"
     ]
    },
    {
     "name": "stderr",
     "output_type": "stream",
     "text": [
      "┌ Info: idmrg iter 15 err 0.00265687124748256\n",
      "└ @ MPSKit /home/lkdvos/Projects/JuliaProjects/MPSKit.jl/src/algorithms/groundstate/idmrg.jl:188\n"
     ]
    },
    {
     "name": "stderr",
     "output_type": "stream",
     "text": [
      "┌ Info: idmrg iter 16 err 0.0024834277134078947\n",
      "└ @ MPSKit /home/lkdvos/Projects/JuliaProjects/MPSKit.jl/src/algorithms/groundstate/idmrg.jl:188\n"
     ]
    },
    {
     "name": "stderr",
     "output_type": "stream",
     "text": [
      "┌ Info: idmrg iter 17 err 0.002330362968347683\n",
      "└ @ MPSKit /home/lkdvos/Projects/JuliaProjects/MPSKit.jl/src/algorithms/groundstate/idmrg.jl:188\n"
     ]
    },
    {
     "name": "stderr",
     "output_type": "stream",
     "text": [
      "┌ Info: idmrg iter 18 err 0.0021942885547615444\n",
      "└ @ MPSKit /home/lkdvos/Projects/JuliaProjects/MPSKit.jl/src/algorithms/groundstate/idmrg.jl:188\n"
     ]
    },
    {
     "name": "stderr",
     "output_type": "stream",
     "text": [
      "┌ Info: idmrg iter 19 err 0.002072529995046312\n",
      "└ @ MPSKit /home/lkdvos/Projects/JuliaProjects/MPSKit.jl/src/algorithms/groundstate/idmrg.jl:188\n"
     ]
    },
    {
     "name": "stderr",
     "output_type": "stream",
     "text": [
      "┌ Info: idmrg iter 20 err 0.001962957324495161\n",
      "└ @ MPSKit /home/lkdvos/Projects/JuliaProjects/MPSKit.jl/src/algorithms/groundstate/idmrg.jl:188\n"
     ]
    },
    {
     "name": "stderr",
     "output_type": "stream",
     "text": [
      "┌ Info: idmrg iter 21 err 0.001863831856630127\n",
      "└ @ MPSKit /home/lkdvos/Projects/JuliaProjects/MPSKit.jl/src/algorithms/groundstate/idmrg.jl:188\n"
     ]
    },
    {
     "name": "stderr",
     "output_type": "stream",
     "text": [
      "┌ Info: idmrg iter 22 err 0.0017737057191326278\n",
      "└ @ MPSKit /home/lkdvos/Projects/JuliaProjects/MPSKit.jl/src/algorithms/groundstate/idmrg.jl:188\n"
     ]
    },
    {
     "name": "stderr",
     "output_type": "stream",
     "text": [
      "┌ Info: idmrg iter 23 err 0.0016913900780571739\n",
      "└ @ MPSKit /home/lkdvos/Projects/JuliaProjects/MPSKit.jl/src/algorithms/groundstate/idmrg.jl:188\n"
     ]
    },
    {
     "name": "stderr",
     "output_type": "stream",
     "text": [
      "┌ Info: idmrg iter 24 err 0.0016158146984846583\n",
      "└ @ MPSKit /home/lkdvos/Projects/JuliaProjects/MPSKit.jl/src/algorithms/groundstate/idmrg.jl:188\n"
     ]
    },
    {
     "name": "stderr",
     "output_type": "stream",
     "text": [
      "┌ Info: idmrg iter 25 err 0.0015464178459070914\n",
      "└ @ MPSKit /home/lkdvos/Projects/JuliaProjects/MPSKit.jl/src/algorithms/groundstate/idmrg.jl:188\n"
     ]
    },
    {
     "name": "stderr",
     "output_type": "stream",
     "text": [
      "┌ Info: idmrg iter 26 err 0.0014822374644494459\n",
      "└ @ MPSKit /home/lkdvos/Projects/JuliaProjects/MPSKit.jl/src/algorithms/groundstate/idmrg.jl:188\n"
     ]
    },
    {
     "name": "stderr",
     "output_type": "stream",
     "text": [
      "┌ Info: idmrg iter 27 err 0.0014227686397544573\n",
      "└ @ MPSKit /home/lkdvos/Projects/JuliaProjects/MPSKit.jl/src/algorithms/groundstate/idmrg.jl:188\n"
     ]
    },
    {
     "name": "stderr",
     "output_type": "stream",
     "text": [
      "┌ Info: idmrg iter 28 err 0.0013675033928124173\n",
      "└ @ MPSKit /home/lkdvos/Projects/JuliaProjects/MPSKit.jl/src/algorithms/groundstate/idmrg.jl:188\n"
     ]
    }
   ],
   "source": [
    "groundstate, cache, delta = find_groundstate(state, H2, IDMRG2(trscheme=truncdim(50), maxiter=20, tol_galerkin=1e-12))\n",
    "entanglementplot(groundstate)"
   ]
  },
  {
   "attachments": {},
   "cell_type": "markdown",
   "metadata": {},
   "source": [
    "We see that some eigenvalues clearly belong to a group, and are almost degenerate.\n",
    "This implies 2 things:\n",
    "- there is superfluous information, if those eigenvalues are the same anyway\n",
    "- poor convergence if we cut off within such a subspace\n",
    "\n",
    "It are precisely those problems that we can solve by using symmetries."
   ]
  },
  {
   "attachments": {},
   "cell_type": "markdown",
   "metadata": {},
   "source": [
    "## Symmetries\n",
    "\n",
    "The XXZ Heisenberg hamiltonian is SU(2) symmetric and we can exploit this to greatly speed up the simulation.\n",
    "\n",
    "It is cumbersome to construct symmetric hamiltonians, but luckily su(2) symmetric XXZ is already implemented:"
   ]
  },
  {
   "cell_type": "code",
   "execution_count": null,
   "metadata": {},
   "outputs": [],
   "source": [
    "H2 = xxx(ComplexF64, SU₂, InfiniteChain(2); spin=1//2);"
   ]
  },
  {
   "attachments": {},
   "cell_type": "markdown",
   "metadata": {},
   "source": [
    "Our initial state should also be SU(2) symmetric.\n",
    "It now becomes apparent why we have to use a two-site periodic state.\n",
    "The physical space carries a half-integer charge and the first tensor maps the first `virtual_space ⊗ the physical_space` to the second `virtual_space`.\n",
    "Half-integer virtual charges will therefore map only to integer charges, and vice versa.\n",
    "The staggering thus happens on the virtual level.\n",
    "\n",
    "An alternative constructor for the initial state is"
   ]
  },
  {
   "cell_type": "code",
   "execution_count": null,
   "metadata": {},
   "outputs": [],
   "source": [
    "P = Rep[SU₂](1 // 2 => 1)\n",
    "V1 = Rep[SU₂](1 // 2 => 10, 3 // 2 => 5, 5 // 2 => 2)\n",
    "V2 = Rep[SU₂](0 => 15, 1 => 10, 2 => 5)\n",
    "state = InfiniteMPS([P, P], [V1, V2]);"
   ]
  },
  {
   "attachments": {},
   "cell_type": "markdown",
   "metadata": {},
   "source": [
    "Even though the bond dimension is higher than in the example without symmetry, convergence is reached much faster:"
   ]
  },
  {
   "cell_type": "code",
   "execution_count": null,
   "metadata": {},
   "outputs": [],
   "source": [
    "println(dim(V1))\n",
    "println(dim(V2))\n",
    "groundstate, cache, delta = find_groundstate(state, ham, VUMPS(maxiter=400, tol_galerkin=1e-12));"
   ]
  }
 ],
 "metadata": {
  "kernelspec": {
   "display_name": "Julia 1.9.0",
   "language": "julia",
   "name": "julia-1.9"
  },
  "language_info": {
   "file_extension": ".jl",
   "mimetype": "application/julia",
   "name": "julia",
   "version": "1.9.0"
  },
  "orig_nbformat": 4
 },
 "nbformat": 4,
 "nbformat_minor": 2
}
