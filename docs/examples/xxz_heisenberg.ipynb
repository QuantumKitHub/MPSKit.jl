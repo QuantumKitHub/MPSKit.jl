{
 "cells": [
  {
   "attachments": {},
   "cell_type": "markdown",
   "metadata": {},
   "source": [
    "# The XXZ model\n",
    "\n",
    "In this file we will give step by step instructions on how to analyze the spin 1/2 XXZ model.\n",
    "The necessary packages to follow this tutorial are:"
   ]
  },
  {
   "cell_type": "code",
   "execution_count": null,
   "metadata": {},
   "outputs": [],
   "source": [
    "using MPSKit, MPSKitModels, TensorKit, Plots\n",
    "import TensorOperations; TensorOperations.disable_cache(); # hide"
   ]
  },
  {
   "attachments": {},
   "cell_type": "markdown",
   "metadata": {},
   "source": [
    "## Failure\n",
    "\n",
    "First we should define the hamiltonian we want to work with.\n",
    "Then we specify an initial guess, which we then further optimize.\n",
    "Working directly in the thermodynamic limit, this is achieved as follows:"
   ]
  },
  {
   "cell_type": "code",
   "execution_count": null,
   "metadata": {},
   "outputs": [],
   "source": [
    "H = xxz(; spin=1//2);"
   ]
  },
  {
   "attachments": {},
   "cell_type": "markdown",
   "metadata": {},
   "source": [
    "We then need an intial state, which we shall later optimize. In this example we work directly in the thermodynamic limit."
   ]
  },
  {
   "cell_type": "code",
   "execution_count": null,
   "metadata": {},
   "outputs": [],
   "source": [
    "random_data = TensorMap(rand, ComplexF64, ℂ^20 * ℂ^2, ℂ^20);\n",
    "state = InfiniteMPS([random_data]);"
   ]
  },
  {
   "attachments": {},
   "cell_type": "markdown",
   "metadata": {},
   "source": [
    "The groundstate can then be found by calling find_groundstate."
   ]
  },
  {
   "cell_type": "code",
   "execution_count": null,
   "metadata": {},
   "outputs": [],
   "source": [
    "groundstate, cache, delta = find_groundstate(state, H, VUMPS());"
   ]
  },
  {
   "attachments": {},
   "cell_type": "markdown",
   "metadata": {},
   "source": [
    "As you can see, VUMPS struggles to converge.\n",
    "On it's own, that is already quite curious.\n",
    "Maybe we can do better using another algorithm, such as gradient descent."
   ]
  },
  {
   "cell_type": "code",
   "execution_count": null,
   "metadata": {},
   "outputs": [],
   "source": [
    "groundstate, cache, delta = find_groundstate(state, H, GradientGrassmann(maxiter=20));"
   ]
  },
  {
   "attachments": {},
   "cell_type": "markdown",
   "metadata": {},
   "source": [
    "Convergence is quite slow and even fails after sufficiently many iterations.\n",
    "To understand why, we can look at the transfer matrix spectrum."
   ]
  },
  {
   "cell_type": "code",
   "execution_count": null,
   "metadata": {},
   "outputs": [],
   "source": [
    "transferplot(groundstate, groundstate)"
   ]
  },
  {
   "attachments": {},
   "cell_type": "markdown",
   "metadata": {},
   "source": [
    "We can clearly see multiple eigenvalues close to the unit circle.\n",
    "Our state is close to being non-injective, and represents the sum of multiple injective states.\n",
    "This is numerically very problematic, but also indicates that we used an incorrect ansatz to approximate the groundstate.\n",
    "We should retry with a larger unit cell."
   ]
  },
  {
   "attachments": {},
   "cell_type": "markdown",
   "metadata": {},
   "source": [
    "## Success\n",
    "\n",
    "Let's initialize a different initial state, this time with a 2-site unit cell:"
   ]
  },
  {
   "cell_type": "code",
   "execution_count": null,
   "metadata": {},
   "outputs": [],
   "source": [
    "A = TensorMap(rand, ComplexF64, ℂ^20 * ℂ^2, ℂ^20);\n",
    "B = TensorMap(rand, ComplexF64, ℂ^20 * ℂ^2, ℂ^20);\n",
    "state = InfiniteMPS([A, B]);"
   ]
  },
  {
   "attachments": {},
   "cell_type": "markdown",
   "metadata": {},
   "source": [
    "In MPSKit, we require that the periodicity of the hamiltonian equals that of the state it is applied to.\n",
    "This is not a big obstacle, you can simply repeat the original hamiltonian.\n",
    "Alternatively, the hamiltonian can be constructed directly on a two-site unitcell by making use of MPSKitModels.jl's `@mpoham`."
   ]
  },
  {
   "cell_type": "code",
   "execution_count": null,
   "metadata": {},
   "outputs": [],
   "source": [
    "# H2 = repeat(H, 2); -- copies the one-site version\n",
    "H2 = xxx(ComplexF64, ℤ{1}, InfiniteChain(2); spin=1//2)"
   ]
  },
  {
   "cell_type": "code",
   "execution_count": null,
   "metadata": {},
   "outputs": [],
   "source": [
    "groundstate, cache, delta = find_groundstate(state, H2, VUMPS(maxiter=100, tol_galerkin=1e-12));"
   ]
  },
  {
   "attachments": {},
   "cell_type": "markdown",
   "metadata": {},
   "source": [
    "We get convergence, but it takes an enormous amount of iterations.\n",
    "The reason behind this becomes more obvious at higher bond dimensions:"
   ]
  },
  {
   "cell_type": "code",
   "execution_count": null,
   "metadata": {},
   "outputs": [],
   "source": [
    "groundstate, cache, delta = find_groundstate(state, H2, IDMRG2(trscheme=truncdim(50), maxiter=20, tol_galerkin=1e-12))\n",
    "entanglementplot(groundstate)"
   ]
  },
  {
   "attachments": {},
   "cell_type": "markdown",
   "metadata": {},
   "source": [
    "We see that some eigenvalues clearly belong to a group, and are almost degenerate.\n",
    "This implies 2 things:\n",
    "- there is superfluous information, if those eigenvalues are the same anyway\n",
    "- poor convergence if we cut off within such a subspace\n",
    "\n",
    "It are precisely those problems that we can solve by using symmetries."
   ]
  },
  {
   "attachments": {},
   "cell_type": "markdown",
   "metadata": {},
   "source": [
    "## Symmetries\n",
    "\n",
    "The XXZ Heisenberg hamiltonian is SU(2) symmetric and we can exploit this to greatly speed up the simulation.\n",
    "\n",
    "It is cumbersome to construct symmetric hamiltonians, but luckily su(2) symmetric XXZ is already implemented:"
   ]
  },
  {
   "cell_type": "code",
   "execution_count": null,
   "metadata": {},
   "outputs": [],
   "source": [
    "H2 = xxx(ComplexF64, SU₂, InfiniteChain(2); spin=1//2);"
   ]
  },
  {
   "attachments": {},
   "cell_type": "markdown",
   "metadata": {},
   "source": [
    "Our initial state should also be SU(2) symmetric.\n",
    "It now becomes apparent why we have to use a two-site periodic state.\n",
    "The physical space carries a half-integer charge and the first tensor maps the first `virtual_space ⊗ the physical_space` to the second `virtual_space`.\n",
    "Half-integer virtual charges will therefore map only to integer charges, and vice versa.\n",
    "The staggering thus happens on the virtual level.\n",
    "\n",
    "An alternative constructor for the initial state is"
   ]
  },
  {
   "cell_type": "code",
   "execution_count": null,
   "metadata": {},
   "outputs": [],
   "source": [
    "P = Rep[SU₂](1 // 2 => 1)\n",
    "V1 = Rep[SU₂](1 // 2 => 10, 3 // 2 => 5, 5 // 2 => 2)\n",
    "V2 = Rep[SU₂](0 => 15, 1 => 10, 2 => 5)\n",
    "state = InfiniteMPS([P, P], [V1, V2]);"
   ]
  },
  {
   "attachments": {},
   "cell_type": "markdown",
   "metadata": {},
   "source": [
    "Even though the bond dimension is higher than in the example without symmetry, convergence is reached much faster:"
   ]
  },
  {
   "cell_type": "code",
   "execution_count": null,
   "metadata": {},
   "outputs": [],
   "source": [
    "println(dim(V1))\n",
    "println(dim(V2))\n",
    "groundstate, cache, delta = find_groundstate(state, ham, VUMPS(maxiter=400, tol_galerkin=1e-12));"
   ]
  }
 ],
 "metadata": {
  "kernelspec": {
   "display_name": "Julia 1.9.0",
   "language": "julia",
   "name": "julia-1.9"
  },
  "language_info": {
   "file_extension": ".jl",
   "mimetype": "application/julia",
   "name": "julia",
   "version": "1.9.0"
  },
  "orig_nbformat": 4
 },
 "nbformat": 4,
 "nbformat_minor": 2
}
