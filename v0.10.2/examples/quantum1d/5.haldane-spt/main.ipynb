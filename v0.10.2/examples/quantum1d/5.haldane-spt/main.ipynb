{
 "cells": [
  {
   "cell_type": "markdown",
   "source": [
    "# Spin 1 Heisenberg model\n",
    "\n",
    "The quantum Heisenberg model is a model often used in the study of critical points and phase\n",
    "transitions of magnetic systems, in which the spins are treated quantum mechanically. It\n",
    "models magnetic interactions between neighbouring spins through the so-called Heisenberg\n",
    "interaction term, which causes the spins to either align ($J > 0$) or anti-align ($J < 0$),\n",
    "thus modeling a (anti-) ferromagnetic system. Here, we will focus on the case of $S = 1$,\n",
    "with anti-ferromagnetic interactions.\n",
    "\n",
    "$$\n",
    "H = -J \\sum_{\\langle i, j \\rangle} \\vec{S}_i \\cdot \\vec{S}_j\n",
    "$$\n",
    "\n",
    "Importantly, the Hamiltonian of the isotropic model is invariant under $SU(2)$ rotations,\n",
    "which can be exploited to increase efficiency, as well as interpretability of the MPS\n",
    "simulations. To see this, we can make use of the following derivation for the interaction\n",
    "term:\n",
    "\n",
    "$$\n",
    "(\\vec{S}_i + \\vec{S}_j)^2 = \\vec{S}_i^2 + 2 \\vec{S}_i \\cdot \\vec{S}_j + \\vec{S}_j^2\n",
    "\\implies \\vec{S}_i \\cdot \\vec{S}_j = \\frac{1}{2} \\left( (\\vec{S}_i + \\vec{S}_j)^2 - \\vec{S}_i^2 - \\vec{S}_j^2 \\right)\n",
    "$$\n",
    "\n",
    "Here, we recognize the quadratic\n",
    "[Casimir element](https://en.wikipedia.org/wiki/Casimir_element) $\\vec{S}^2$, which commutes\n",
    "with the elements of $SU(2)$. Consequently, the Hamiltonian also commutes with all elements\n",
    "of $SU(2)$."
   ],
   "metadata": {}
  },
  {
   "outputs": [],
   "cell_type": "code",
   "source": [
    "using TensorKit\n",
    "using MPSKit\n",
    "using Plots\n",
    "\n",
    "casimir(s::SU2Irrep) = s.j * (s.j + 1)\n",
    "\n",
    "function heisenberg_hamiltonian(; J=-1.0)\n",
    "    s = SU2Irrep(1)\n",
    "    ℋ = SU2Space(1 => 1)\n",
    "    SS = TensorMap(zeros, ComplexF64, ℋ ⊗ ℋ ← ℋ ⊗ ℋ)\n",
    "    for (S, data) in blocks(SS)\n",
    "        data .= -0.5J * (casimir(S) - casimir(s) - casimir(s))\n",
    "    end\n",
    "    return MPOHamiltonian(SS)\n",
    "end\n",
    "H = heisenberg_hamiltonian();"
   ],
   "metadata": {},
   "execution_count": null
  },
  {
   "cell_type": "markdown",
   "source": [
    "## Symmetry-Protected Topological Order\n",
    "\n",
    "The representations of $SU(2)$ possess additional structure, known as a\n",
    "$\\mathbb{Z}_2$-grading. This means, that they can be partitioned in integer $(+)$ and\n",
    "half-integer $(-)$ spins, and the fusion rules will respect this grading. In other words,\n",
    "the following table holds:\n",
    "\n",
    "| $s_1$ | $s_2$ | $s_1 \\otimes s_2$ |\n",
    "| --- | --- | --- |\n",
    "| $+$ | $+$ | $+$ |\n",
    "| $+$ | $-$ | $-$ |\n",
    "| $-$ | $+$ | $-$ |\n",
    "| $-$ | $-$ | $+$ |\n",
    "\n",
    "This has important consequences for the MPS representation of an $SU(2)$-symmetric state. If\n",
    "the physical spin consists of only integer representations, this means that the left and\n",
    "right virtual spaces of the MPS tensor belong to the same grading, i.e. are either both\n",
    "integer, or both half-integer. Thus, naively constructing a MPS tensor which contains spins\n",
    "from both classes, will necessarily be the direct sum of the two, which yields a\n",
    "non-injective MPS.\n",
    "\n",
    "$$\n",
    "\\ket{\\psi} = \\ket{\\psi_+} \\oplus \\ket{\\psi_-}\n",
    "$$\n",
    "\n",
    "Because of this direct sum, many of the usual MPS algorithms will fail, as they typically\n",
    "cannot deal with non-injective MPS. The resulting MPS will have multiple values of the\n",
    "transfer matrix spectrum that have a magnitude close to 1, which is a clear sign of a\n",
    "non-injective MPS."
   ],
   "metadata": {}
  },
  {
   "outputs": [],
   "cell_type": "code",
   "source": [
    "ℋ = SU2Space(1 => 1)\n",
    "V_wrong = SU2Space(0 => 8, 1//2 => 8, 1 => 3, 3//2 => 3)\n",
    "ψ = InfiniteMPS(ℋ, V_wrong)\n",
    "ψ, environments, δ = find_groundstate(ψ, H, VUMPS(; maxiter=10))\n",
    "sectors = SU2Irrep[0, 1//2, 1, 3//2]\n",
    "transferplot(ψ; sectors, title=\"Transfer matrix spectrum\", legend=:outertop)"
   ],
   "metadata": {},
   "execution_count": null
  },
  {
   "cell_type": "markdown",
   "source": [
    "Nevertheless, using the symmetry, this can be remedied rather easily, by imposing the\n",
    "groundstate to belong to a single class, and comparing the results. We can readily obtain 3\n",
    "different criteria for determining the SPT phase of the groundstate.\n",
    "\n",
    "Firstly, we can compare variational energies for states of similar bond dimensions. As we\n",
    "expect the state of the wrong SPT phase to have to expend some of its expressiveness in\n",
    "correcting the SPT, it should have a harder time reaching lower energies.\n",
    "\n",
    "Secondly, when inspecting the spectrum of the transfer matrix, we should see that the wrong\n",
    "SPT phase has a dominant value that is not in the trivial sector, which leads to a\n",
    "non-injective MPS.\n",
    "\n",
    "Finally, the entanglement spectrum of the wrong SPT phase will show degeneracies of all\n",
    "singular values, which can again be attributed to an attempt to mimick the spectrum of the\n",
    "right SPT phase."
   ],
   "metadata": {}
  },
  {
   "outputs": [],
   "cell_type": "code",
   "source": [
    "V_plus = SU2Space(0 => 10, 1 => 5, 2 => 3)\n",
    "ψ_plus = InfiniteMPS(ℋ, V_plus)\n",
    "ψ_plus, = find_groundstate(ψ_plus, H, VUMPS(; maxiter=100))\n",
    "E_plus = expectation_value(ψ_plus, H)\n",
    "V_minus = SU2Space(1//2 => 10, 3//2 => 5, 5//2 => 3)\n",
    "ψ_minus = InfiniteMPS(ℋ, V_minus)\n",
    "ψ_minus, = find_groundstate(ψ_minus, H, VUMPS(; maxiter=100))\n",
    "E_minus = expectation_value(ψ_minus, H)\n",
    "transferp_plus = transferplot(\n",
    "    ψ_plus; sectors=SU2Irrep[0, 1, 2], title=\"ψ_plus\", legend=:outertop\n",
    ")\n",
    "transferp_minus = transferplot(\n",
    "    ψ_minus; sectors=SU2Irrep[0, 1, 2], title=\"ψ_minus\", legend=:outertop\n",
    ")\n",
    "plot(transferp_plus, transferp_minus; layout=(1, 2), size=(800, 400))\n",
    "entanglementp_plus = entanglementplot(ψ_plus; title=\"ψ_plus\", legend=:outertop)\n",
    "entanglementp_minus = entanglementplot(ψ_minus; title=\"ψ_minus\", legend=:outertop)\n",
    "plot(entanglementp_plus, entanglementp_minus; layout=(1, 2), size=(800, 400))"
   ],
   "metadata": {},
   "execution_count": null
  },
  {
   "cell_type": "markdown",
   "source": [
    "As we can see, the groundstate can be found in the non-trivial SPT phase, $\\ket{\\psi_-}$. We\n",
    "can obtain an intuitive understanding of $\\ket{\\psi_+}$ by considering the following\n",
    "diagram. If we denote the MPS tensors that make up the groundstate as $A_-$, we can\n",
    "construct a state in the trivial SPT phase that approximates the groundstate as follows:\n",
    "\n",
    "![spt-tensors.svg](spt-tensors.svg)\n",
    "\n",
    "In other words, we can factorize a purely virtual isomorphism of $S = 1/2$ in order to\n",
    "obtain the groundstate. This then also explains the degeneracies in the entanglement\n",
    "spectrum as well as in the transfer matrix spectrum. Finally, we can further confirm this\n",
    "intuition by looking at the entanglement entropy of the groundstate. As we can see, the\n",
    "entanglement entropy of the state in the wrong SPT phase is exactly $log(2)$ higher than the\n",
    "one in the right SPT phase, which is exactly what we would expect from the diagram above."
   ],
   "metadata": {}
  },
  {
   "outputs": [],
   "cell_type": "code",
   "source": [
    "S_minus = sum(real, entropy(ψ_minus))\n",
    "S_plus = sum(real, entropy(ψ_plus))\n",
    "println(\"S_minus + log(2) = $(S_minus + log(2))\")\n",
    "println(\"S_plus = $S_plus\")"
   ],
   "metadata": {},
   "execution_count": null
  },
  {
   "cell_type": "markdown",
   "source": [
    "---\n",
    "\n",
    "*This notebook was generated using [Literate.jl](https://github.com/fredrikekre/Literate.jl).*"
   ],
   "metadata": {}
  }
 ],
 "nbformat_minor": 3,
 "metadata": {
  "language_info": {
   "file_extension": ".jl",
   "mimetype": "application/julia",
   "name": "julia",
   "version": "1.9.4"
  },
  "kernelspec": {
   "name": "julia-1.9",
   "display_name": "Julia 1.9.4",
   "language": "julia"
  }
 },
 "nbformat": 4
}
