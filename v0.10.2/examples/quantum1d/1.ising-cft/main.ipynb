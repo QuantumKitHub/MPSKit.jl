{
 "cells": [
  {
   "cell_type": "markdown",
   "source": [
    "# The Ising CFT spectrum\n",
    "\n",
    "This tutorial is meant to show the finite size CFT spectrum for the quantum Ising model. We\n",
    "do this by first employing an exact diagonalization technique, and then extending the\n",
    "analysis to larger system sizes through the use of MPS techniques."
   ],
   "metadata": {}
  },
  {
   "outputs": [],
   "cell_type": "code",
   "source": [
    "using MPSKit, MPSKitModels, TensorKit, Plots, KrylovKit\n",
    "using LinearAlgebra: eigen, diagm, Hermitian"
   ],
   "metadata": {},
   "execution_count": null
  },
  {
   "cell_type": "markdown",
   "source": [
    "The hamiltonian is defined on a finite lattice with periodic boundary conditions,\n",
    "which can be implemented as follows:"
   ],
   "metadata": {}
  },
  {
   "outputs": [],
   "cell_type": "code",
   "source": [
    "L = 12\n",
    "H = periodic_boundary_conditions(transverse_field_ising(), L);"
   ],
   "metadata": {},
   "execution_count": null
  },
  {
   "cell_type": "markdown",
   "source": [
    "## Exact diagonalisation\n",
    "\n",
    "In MPSKit, there is support for exact diagonalisation by leveraging the fact that applying\n",
    "the hamiltonian to an untruncated MPS will result in an effective hamiltonian on the center\n",
    "site which implements the action of the entire hamiltonian. Thus, optimizing the middle\n",
    "tensor is equivalent to optimixing a state in the entire Hilbert space, as all other tensors\n",
    "are just unitary matrices that mix the basis."
   ],
   "metadata": {}
  },
  {
   "outputs": [],
   "cell_type": "code",
   "source": [
    "energies, states = exact_diagonalization(H; num=18, alg=Lanczos(; krylovdim=200));\n",
    "plot(\n",
    "    real.(energies);\n",
    "    seriestype=:scatter,\n",
    "    legend=false,\n",
    "    ylabel=\"energy\",\n",
    "    xlabel=\"#eigenvalue\",\n",
    ")"
   ],
   "metadata": {},
   "execution_count": null
  },
  {
   "cell_type": "markdown",
   "source": [
    "!!! note \"Krylov dimension\"\n",
    "    Note that we have specified a large Krylov dimension as degenerate eigenvalues are\n",
    "    notoriously difficult for iterative methods."
   ],
   "metadata": {}
  },
  {
   "cell_type": "markdown",
   "source": [
    "## Extracting momentum\n",
    "\n",
    "Given a state, it is possible to assign a momentum label\n",
    "through the use of the translation operator. This operator can be defined in MPO language\n",
    "either diagramatically as\n",
    "\n",
    "![translation operator MPO](translation_mpo.png)\n",
    "\n",
    "or in the code as:"
   ],
   "metadata": {}
  },
  {
   "outputs": [],
   "cell_type": "code",
   "source": [
    "id = complex(isomorphism(ℂ^2, ℂ^2))\n",
    "@tensor O[-1 -2; -3 -4] := id[-1, -3] * id[-2, -4]\n",
    "T = periodic_boundary_conditions(DenseMPO(O), L);"
   ],
   "metadata": {},
   "execution_count": null
  },
  {
   "cell_type": "markdown",
   "source": [
    "We can then calculate the momentum of the groundstate as the expectation value of this\n",
    "operator. However, there is a subtlety because of the degeneracies in the energy\n",
    "eigenvalues. The eigensolver will find an orthonormal basis within each energy subspace, but\n",
    "this basis is not necessarily a basis of eigenstates of the translation operator. In order\n",
    "to fix this, we diagonalize the translation operator within each energy subspace."
   ],
   "metadata": {}
  },
  {
   "outputs": [],
   "cell_type": "code",
   "source": [
    "momentum(ψᵢ, ψⱼ=ψᵢ) = angle(dot(ψᵢ, T * ψⱼ))\n",
    "\n",
    "function fix_degeneracies(basis)\n",
    "    N = zeros(ComplexF64, length(basis), length(basis))\n",
    "    M = zeros(ComplexF64, length(basis), length(basis))\n",
    "    for i in eachindex(basis), j in eachindex(basis)\n",
    "        N[i, j] = dot(basis[i], basis[j])\n",
    "        M[i, j] = momentum(basis[i], basis[j])\n",
    "    end\n",
    "\n",
    "    vals, vecs = eigen(Hermitian(N))\n",
    "    M = (vecs' * M * vecs)\n",
    "    M /= diagm(vals)\n",
    "\n",
    "    vals, vecs = eigen(M)\n",
    "    return angle.(vals)\n",
    "end\n",
    "\n",
    "momenta = Float64[]\n",
    "append!(momenta, fix_degeneracies(states[1:1]))\n",
    "append!(momenta, fix_degeneracies(states[2:2]))\n",
    "append!(momenta, fix_degeneracies(states[3:3]))\n",
    "append!(momenta, fix_degeneracies(states[4:5]))\n",
    "append!(momenta, fix_degeneracies(states[6:9]))\n",
    "append!(momenta, fix_degeneracies(states[10:11]))\n",
    "append!(momenta, fix_degeneracies(states[12:12]))\n",
    "append!(momenta, fix_degeneracies(states[13:16]))\n",
    "append!(momenta, fix_degeneracies(states[17:18]))\n",
    "\n",
    "plot(\n",
    "    momenta,\n",
    "    real.(energies[1:18]);\n",
    "    seriestype=:scatter,\n",
    "    xlabel=\"momentum\",\n",
    "    ylabel=\"energy\",\n",
    "    legend=false,\n",
    ")"
   ],
   "metadata": {},
   "execution_count": null
  },
  {
   "cell_type": "markdown",
   "source": [
    "## Finite bond dimension\n",
    "\n",
    "If we limit the maximum bond dimension of the MPS, we get an approximate solution, but we\n",
    "can reach higher system sizes."
   ],
   "metadata": {}
  },
  {
   "outputs": [],
   "cell_type": "code",
   "source": [
    "L_mps = 20\n",
    "H_mps = periodic_boundary_conditions(transverse_field_ising(), L_mps)\n",
    "D = 64\n",
    "ψ, envs, δ = find_groundstate(FiniteMPS(L_mps, ℂ^2, ℂ^D), H_mps, DMRG());"
   ],
   "metadata": {},
   "execution_count": null
  },
  {
   "cell_type": "markdown",
   "source": [
    "Excitations on top of the groundstate can be found through the use of the quasiparticle\n",
    "ansatz. This returns quasiparticle states, which can be converted to regular `FiniteMPS`\n",
    "objects."
   ],
   "metadata": {}
  },
  {
   "outputs": [],
   "cell_type": "code",
   "source": [
    "E_ex, qps = excitations(H, QuasiparticleAnsatz(), ψ, envs; num=16)\n",
    "states_mps = vcat(ψ, map(qp -> convert(FiniteMPS, qp), qps))\n",
    "E_mps = map(x -> sum(expectation_value(x, H_mps)), states_mps)\n",
    "\n",
    "T_mps = periodic_boundary_conditions(DenseMPO(O), L_mps)\n",
    "momenta_mps = Float64[]\n",
    "append!(momenta_mps, fix_degeneracies(states[1:1]))\n",
    "append!(momenta_mps, fix_degeneracies(states[2:2]))\n",
    "append!(momenta_mps, fix_degeneracies(states[3:3]))\n",
    "append!(momenta_mps, fix_degeneracies(states[4:5]))\n",
    "append!(momenta_mps, fix_degeneracies(states[6:9]))\n",
    "append!(momenta_mps, fix_degeneracies(states[10:11]))\n",
    "append!(momenta_mps, fix_degeneracies(states[12:12]))\n",
    "append!(momenta_mps, fix_degeneracies(states[13:16]))\n",
    "\n",
    "plot(\n",
    "    momenta_mps,\n",
    "    real.(energies[1:16]);\n",
    "    seriestype=:scatter,\n",
    "    xlabel=\"momentum\",\n",
    "    ylabel=\"energy\",\n",
    "    legend=false,\n",
    ")"
   ],
   "metadata": {},
   "execution_count": null
  },
  {
   "cell_type": "markdown",
   "source": [
    "---\n",
    "\n",
    "*This notebook was generated using [Literate.jl](https://github.com/fredrikekre/Literate.jl).*"
   ],
   "metadata": {}
  }
 ],
 "nbformat_minor": 3,
 "metadata": {
  "language_info": {
   "file_extension": ".jl",
   "mimetype": "application/julia",
   "name": "julia",
   "version": "1.9.4"
  },
  "kernelspec": {
   "name": "julia-1.9",
   "display_name": "Julia 1.9.4",
   "language": "julia"
  }
 },
 "nbformat": 4
}
